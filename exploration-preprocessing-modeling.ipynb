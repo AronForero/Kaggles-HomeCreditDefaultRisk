{
  "cells": [
    {
      "metadata": {
        "trusted": true,
        "_uuid": "2479211cab97f1211d9050c19078b6435c3d0b22"
      },
      "cell_type": "code",
      "source": "import pandas as pd\nimport numpy as np\nimport matplotlib.pyplot as plt\n%matplotlib inline",
      "execution_count": 134,
      "outputs": []
    },
    {
      "metadata": {
        "_uuid": "d2c135c40bf5358517bbb500fdc644b499e3a60a"
      },
      "cell_type": "markdown",
      "source": "# Exploracion de datos"
    },
    {
      "metadata": {
        "_uuid": "bb66d62c75621f279a41e0eda6ec87b6f2bd3648"
      },
      "cell_type": "markdown",
      "source": "## Application train\n\nImportamos el dataset de entrenamiento, y revisamos sus estadisticas principales rapidamente."
    },
    {
      "metadata": {
        "trusted": true,
        "_uuid": "34ddc37af172b2a5a2bb30da5c7f8e9d748ce459"
      },
      "cell_type": "code",
      "source": "data_train = pd.read_csv('../input/application_train.csv')\nprint(data_train.shape)\ndata_train.head()",
      "execution_count": 135,
      "outputs": [
        {
          "output_type": "stream",
          "text": "(307511, 122)\n",
          "name": "stdout"
        },
        {
          "output_type": "execute_result",
          "execution_count": 135,
          "data": {
            "text/plain": "   SK_ID_CURR             ...              AMT_REQ_CREDIT_BUREAU_YEAR\n0      100002             ...                                     1.0\n1      100003             ...                                     0.0\n2      100004             ...                                     0.0\n3      100006             ...                                     NaN\n4      100007             ...                                     0.0\n\n[5 rows x 122 columns]",
            "text/html": "<div>\n<style scoped>\n    .dataframe tbody tr th:only-of-type {\n        vertical-align: middle;\n    }\n\n    .dataframe tbody tr th {\n        vertical-align: top;\n    }\n\n    .dataframe thead th {\n        text-align: right;\n    }\n</style>\n<table border=\"1\" class=\"dataframe\">\n  <thead>\n    <tr style=\"text-align: right;\">\n      <th></th>\n      <th>SK_ID_CURR</th>\n      <th>TARGET</th>\n      <th>NAME_CONTRACT_TYPE</th>\n      <th>CODE_GENDER</th>\n      <th>FLAG_OWN_CAR</th>\n      <th>FLAG_OWN_REALTY</th>\n      <th>CNT_CHILDREN</th>\n      <th>AMT_INCOME_TOTAL</th>\n      <th>AMT_CREDIT</th>\n      <th>AMT_ANNUITY</th>\n      <th>AMT_GOODS_PRICE</th>\n      <th>NAME_TYPE_SUITE</th>\n      <th>NAME_INCOME_TYPE</th>\n      <th>NAME_EDUCATION_TYPE</th>\n      <th>NAME_FAMILY_STATUS</th>\n      <th>NAME_HOUSING_TYPE</th>\n      <th>REGION_POPULATION_RELATIVE</th>\n      <th>DAYS_BIRTH</th>\n      <th>DAYS_EMPLOYED</th>\n      <th>DAYS_REGISTRATION</th>\n      <th>DAYS_ID_PUBLISH</th>\n      <th>OWN_CAR_AGE</th>\n      <th>FLAG_MOBIL</th>\n      <th>FLAG_EMP_PHONE</th>\n      <th>FLAG_WORK_PHONE</th>\n      <th>FLAG_CONT_MOBILE</th>\n      <th>FLAG_PHONE</th>\n      <th>FLAG_EMAIL</th>\n      <th>OCCUPATION_TYPE</th>\n      <th>CNT_FAM_MEMBERS</th>\n      <th>REGION_RATING_CLIENT</th>\n      <th>REGION_RATING_CLIENT_W_CITY</th>\n      <th>WEEKDAY_APPR_PROCESS_START</th>\n      <th>HOUR_APPR_PROCESS_START</th>\n      <th>REG_REGION_NOT_LIVE_REGION</th>\n      <th>REG_REGION_NOT_WORK_REGION</th>\n      <th>LIVE_REGION_NOT_WORK_REGION</th>\n      <th>REG_CITY_NOT_LIVE_CITY</th>\n      <th>REG_CITY_NOT_WORK_CITY</th>\n      <th>LIVE_CITY_NOT_WORK_CITY</th>\n      <th>...</th>\n      <th>LIVINGAPARTMENTS_MEDI</th>\n      <th>LIVINGAREA_MEDI</th>\n      <th>NONLIVINGAPARTMENTS_MEDI</th>\n      <th>NONLIVINGAREA_MEDI</th>\n      <th>FONDKAPREMONT_MODE</th>\n      <th>HOUSETYPE_MODE</th>\n      <th>TOTALAREA_MODE</th>\n      <th>WALLSMATERIAL_MODE</th>\n      <th>EMERGENCYSTATE_MODE</th>\n      <th>OBS_30_CNT_SOCIAL_CIRCLE</th>\n      <th>DEF_30_CNT_SOCIAL_CIRCLE</th>\n      <th>OBS_60_CNT_SOCIAL_CIRCLE</th>\n      <th>DEF_60_CNT_SOCIAL_CIRCLE</th>\n      <th>DAYS_LAST_PHONE_CHANGE</th>\n      <th>FLAG_DOCUMENT_2</th>\n      <th>FLAG_DOCUMENT_3</th>\n      <th>FLAG_DOCUMENT_4</th>\n      <th>FLAG_DOCUMENT_5</th>\n      <th>FLAG_DOCUMENT_6</th>\n      <th>FLAG_DOCUMENT_7</th>\n      <th>FLAG_DOCUMENT_8</th>\n      <th>FLAG_DOCUMENT_9</th>\n      <th>FLAG_DOCUMENT_10</th>\n      <th>FLAG_DOCUMENT_11</th>\n      <th>FLAG_DOCUMENT_12</th>\n      <th>FLAG_DOCUMENT_13</th>\n      <th>FLAG_DOCUMENT_14</th>\n      <th>FLAG_DOCUMENT_15</th>\n      <th>FLAG_DOCUMENT_16</th>\n      <th>FLAG_DOCUMENT_17</th>\n      <th>FLAG_DOCUMENT_18</th>\n      <th>FLAG_DOCUMENT_19</th>\n      <th>FLAG_DOCUMENT_20</th>\n      <th>FLAG_DOCUMENT_21</th>\n      <th>AMT_REQ_CREDIT_BUREAU_HOUR</th>\n      <th>AMT_REQ_CREDIT_BUREAU_DAY</th>\n      <th>AMT_REQ_CREDIT_BUREAU_WEEK</th>\n      <th>AMT_REQ_CREDIT_BUREAU_MON</th>\n      <th>AMT_REQ_CREDIT_BUREAU_QRT</th>\n      <th>AMT_REQ_CREDIT_BUREAU_YEAR</th>\n    </tr>\n  </thead>\n  <tbody>\n    <tr>\n      <th>0</th>\n      <td>100002</td>\n      <td>1</td>\n      <td>Cash loans</td>\n      <td>M</td>\n      <td>N</td>\n      <td>Y</td>\n      <td>0</td>\n      <td>202500.0</td>\n      <td>406597.5</td>\n      <td>24700.5</td>\n      <td>351000.0</td>\n      <td>Unaccompanied</td>\n      <td>Working</td>\n      <td>Secondary / secondary special</td>\n      <td>Single / not married</td>\n      <td>House / apartment</td>\n      <td>0.018801</td>\n      <td>-9461</td>\n      <td>-637</td>\n      <td>-3648.0</td>\n      <td>-2120</td>\n      <td>NaN</td>\n      <td>1</td>\n      <td>1</td>\n      <td>0</td>\n      <td>1</td>\n      <td>1</td>\n      <td>0</td>\n      <td>Laborers</td>\n      <td>1.0</td>\n      <td>2</td>\n      <td>2</td>\n      <td>WEDNESDAY</td>\n      <td>10</td>\n      <td>0</td>\n      <td>0</td>\n      <td>0</td>\n      <td>0</td>\n      <td>0</td>\n      <td>0</td>\n      <td>...</td>\n      <td>0.0205</td>\n      <td>0.0193</td>\n      <td>0.0000</td>\n      <td>0.00</td>\n      <td>reg oper account</td>\n      <td>block of flats</td>\n      <td>0.0149</td>\n      <td>Stone, brick</td>\n      <td>No</td>\n      <td>2.0</td>\n      <td>2.0</td>\n      <td>2.0</td>\n      <td>2.0</td>\n      <td>-1134.0</td>\n      <td>0</td>\n      <td>1</td>\n      <td>0</td>\n      <td>0</td>\n      <td>0</td>\n      <td>0</td>\n      <td>0</td>\n      <td>0</td>\n      <td>0</td>\n      <td>0</td>\n      <td>0</td>\n      <td>0</td>\n      <td>0</td>\n      <td>0</td>\n      <td>0</td>\n      <td>0</td>\n      <td>0</td>\n      <td>0</td>\n      <td>0</td>\n      <td>0</td>\n      <td>0.0</td>\n      <td>0.0</td>\n      <td>0.0</td>\n      <td>0.0</td>\n      <td>0.0</td>\n      <td>1.0</td>\n    </tr>\n    <tr>\n      <th>1</th>\n      <td>100003</td>\n      <td>0</td>\n      <td>Cash loans</td>\n      <td>F</td>\n      <td>N</td>\n      <td>N</td>\n      <td>0</td>\n      <td>270000.0</td>\n      <td>1293502.5</td>\n      <td>35698.5</td>\n      <td>1129500.0</td>\n      <td>Family</td>\n      <td>State servant</td>\n      <td>Higher education</td>\n      <td>Married</td>\n      <td>House / apartment</td>\n      <td>0.003541</td>\n      <td>-16765</td>\n      <td>-1188</td>\n      <td>-1186.0</td>\n      <td>-291</td>\n      <td>NaN</td>\n      <td>1</td>\n      <td>1</td>\n      <td>0</td>\n      <td>1</td>\n      <td>1</td>\n      <td>0</td>\n      <td>Core staff</td>\n      <td>2.0</td>\n      <td>1</td>\n      <td>1</td>\n      <td>MONDAY</td>\n      <td>11</td>\n      <td>0</td>\n      <td>0</td>\n      <td>0</td>\n      <td>0</td>\n      <td>0</td>\n      <td>0</td>\n      <td>...</td>\n      <td>0.0787</td>\n      <td>0.0558</td>\n      <td>0.0039</td>\n      <td>0.01</td>\n      <td>reg oper account</td>\n      <td>block of flats</td>\n      <td>0.0714</td>\n      <td>Block</td>\n      <td>No</td>\n      <td>1.0</td>\n      <td>0.0</td>\n      <td>1.0</td>\n      <td>0.0</td>\n      <td>-828.0</td>\n      <td>0</td>\n      <td>1</td>\n      <td>0</td>\n      <td>0</td>\n      <td>0</td>\n      <td>0</td>\n      <td>0</td>\n      <td>0</td>\n      <td>0</td>\n      <td>0</td>\n      <td>0</td>\n      <td>0</td>\n      <td>0</td>\n      <td>0</td>\n      <td>0</td>\n      <td>0</td>\n      <td>0</td>\n      <td>0</td>\n      <td>0</td>\n      <td>0</td>\n      <td>0.0</td>\n      <td>0.0</td>\n      <td>0.0</td>\n      <td>0.0</td>\n      <td>0.0</td>\n      <td>0.0</td>\n    </tr>\n    <tr>\n      <th>2</th>\n      <td>100004</td>\n      <td>0</td>\n      <td>Revolving loans</td>\n      <td>M</td>\n      <td>Y</td>\n      <td>Y</td>\n      <td>0</td>\n      <td>67500.0</td>\n      <td>135000.0</td>\n      <td>6750.0</td>\n      <td>135000.0</td>\n      <td>Unaccompanied</td>\n      <td>Working</td>\n      <td>Secondary / secondary special</td>\n      <td>Single / not married</td>\n      <td>House / apartment</td>\n      <td>0.010032</td>\n      <td>-19046</td>\n      <td>-225</td>\n      <td>-4260.0</td>\n      <td>-2531</td>\n      <td>26.0</td>\n      <td>1</td>\n      <td>1</td>\n      <td>1</td>\n      <td>1</td>\n      <td>1</td>\n      <td>0</td>\n      <td>Laborers</td>\n      <td>1.0</td>\n      <td>2</td>\n      <td>2</td>\n      <td>MONDAY</td>\n      <td>9</td>\n      <td>0</td>\n      <td>0</td>\n      <td>0</td>\n      <td>0</td>\n      <td>0</td>\n      <td>0</td>\n      <td>...</td>\n      <td>NaN</td>\n      <td>NaN</td>\n      <td>NaN</td>\n      <td>NaN</td>\n      <td>NaN</td>\n      <td>NaN</td>\n      <td>NaN</td>\n      <td>NaN</td>\n      <td>NaN</td>\n      <td>0.0</td>\n      <td>0.0</td>\n      <td>0.0</td>\n      <td>0.0</td>\n      <td>-815.0</td>\n      <td>0</td>\n      <td>0</td>\n      <td>0</td>\n      <td>0</td>\n      <td>0</td>\n      <td>0</td>\n      <td>0</td>\n      <td>0</td>\n      <td>0</td>\n      <td>0</td>\n      <td>0</td>\n      <td>0</td>\n      <td>0</td>\n      <td>0</td>\n      <td>0</td>\n      <td>0</td>\n      <td>0</td>\n      <td>0</td>\n      <td>0</td>\n      <td>0</td>\n      <td>0.0</td>\n      <td>0.0</td>\n      <td>0.0</td>\n      <td>0.0</td>\n      <td>0.0</td>\n      <td>0.0</td>\n    </tr>\n    <tr>\n      <th>3</th>\n      <td>100006</td>\n      <td>0</td>\n      <td>Cash loans</td>\n      <td>F</td>\n      <td>N</td>\n      <td>Y</td>\n      <td>0</td>\n      <td>135000.0</td>\n      <td>312682.5</td>\n      <td>29686.5</td>\n      <td>297000.0</td>\n      <td>Unaccompanied</td>\n      <td>Working</td>\n      <td>Secondary / secondary special</td>\n      <td>Civil marriage</td>\n      <td>House / apartment</td>\n      <td>0.008019</td>\n      <td>-19005</td>\n      <td>-3039</td>\n      <td>-9833.0</td>\n      <td>-2437</td>\n      <td>NaN</td>\n      <td>1</td>\n      <td>1</td>\n      <td>0</td>\n      <td>1</td>\n      <td>0</td>\n      <td>0</td>\n      <td>Laborers</td>\n      <td>2.0</td>\n      <td>2</td>\n      <td>2</td>\n      <td>WEDNESDAY</td>\n      <td>17</td>\n      <td>0</td>\n      <td>0</td>\n      <td>0</td>\n      <td>0</td>\n      <td>0</td>\n      <td>0</td>\n      <td>...</td>\n      <td>NaN</td>\n      <td>NaN</td>\n      <td>NaN</td>\n      <td>NaN</td>\n      <td>NaN</td>\n      <td>NaN</td>\n      <td>NaN</td>\n      <td>NaN</td>\n      <td>NaN</td>\n      <td>2.0</td>\n      <td>0.0</td>\n      <td>2.0</td>\n      <td>0.0</td>\n      <td>-617.0</td>\n      <td>0</td>\n      <td>1</td>\n      <td>0</td>\n      <td>0</td>\n      <td>0</td>\n      <td>0</td>\n      <td>0</td>\n      <td>0</td>\n      <td>0</td>\n      <td>0</td>\n      <td>0</td>\n      <td>0</td>\n      <td>0</td>\n      <td>0</td>\n      <td>0</td>\n      <td>0</td>\n      <td>0</td>\n      <td>0</td>\n      <td>0</td>\n      <td>0</td>\n      <td>NaN</td>\n      <td>NaN</td>\n      <td>NaN</td>\n      <td>NaN</td>\n      <td>NaN</td>\n      <td>NaN</td>\n    </tr>\n    <tr>\n      <th>4</th>\n      <td>100007</td>\n      <td>0</td>\n      <td>Cash loans</td>\n      <td>M</td>\n      <td>N</td>\n      <td>Y</td>\n      <td>0</td>\n      <td>121500.0</td>\n      <td>513000.0</td>\n      <td>21865.5</td>\n      <td>513000.0</td>\n      <td>Unaccompanied</td>\n      <td>Working</td>\n      <td>Secondary / secondary special</td>\n      <td>Single / not married</td>\n      <td>House / apartment</td>\n      <td>0.028663</td>\n      <td>-19932</td>\n      <td>-3038</td>\n      <td>-4311.0</td>\n      <td>-3458</td>\n      <td>NaN</td>\n      <td>1</td>\n      <td>1</td>\n      <td>0</td>\n      <td>1</td>\n      <td>0</td>\n      <td>0</td>\n      <td>Core staff</td>\n      <td>1.0</td>\n      <td>2</td>\n      <td>2</td>\n      <td>THURSDAY</td>\n      <td>11</td>\n      <td>0</td>\n      <td>0</td>\n      <td>0</td>\n      <td>0</td>\n      <td>1</td>\n      <td>1</td>\n      <td>...</td>\n      <td>NaN</td>\n      <td>NaN</td>\n      <td>NaN</td>\n      <td>NaN</td>\n      <td>NaN</td>\n      <td>NaN</td>\n      <td>NaN</td>\n      <td>NaN</td>\n      <td>NaN</td>\n      <td>0.0</td>\n      <td>0.0</td>\n      <td>0.0</td>\n      <td>0.0</td>\n      <td>-1106.0</td>\n      <td>0</td>\n      <td>0</td>\n      <td>0</td>\n      <td>0</td>\n      <td>0</td>\n      <td>0</td>\n      <td>1</td>\n      <td>0</td>\n      <td>0</td>\n      <td>0</td>\n      <td>0</td>\n      <td>0</td>\n      <td>0</td>\n      <td>0</td>\n      <td>0</td>\n      <td>0</td>\n      <td>0</td>\n      <td>0</td>\n      <td>0</td>\n      <td>0</td>\n      <td>0.0</td>\n      <td>0.0</td>\n      <td>0.0</td>\n      <td>0.0</td>\n      <td>0.0</td>\n      <td>0.0</td>\n    </tr>\n  </tbody>\n</table>\n</div>"
          },
          "metadata": {}
        }
      ]
    },
    {
      "metadata": {
        "_uuid": "2d71123b6df6eaacab9fedfa444a122a96af1d2a"
      },
      "cell_type": "markdown",
      "source": "Al revisar las estadisticas que muestra la sentencia *data_train.describe()* observamos algo extraño en algunas columnas, como la columna *Days_Birth* que tiene valores negativos, y esto se debe a que las edades estan calculadas en dias y de manera relativa a la aplicación del prestamo."
    },
    {
      "metadata": {
        "scrolled": true,
        "trusted": true,
        "_uuid": "8aff612717d3c1e0b17ef5fcf4fb6d6c45d67ff8"
      },
      "cell_type": "code",
      "source": "data_train.describe()",
      "execution_count": 136,
      "outputs": [
        {
          "output_type": "execute_result",
          "execution_count": 136,
          "data": {
            "text/plain": "          SK_ID_CURR             ...              AMT_REQ_CREDIT_BUREAU_YEAR\ncount  307511.000000             ...                           265992.000000\nmean   278180.518577             ...                                1.899974\nstd    102790.175348             ...                                1.869295\nmin    100002.000000             ...                                0.000000\n25%    189145.500000             ...                                0.000000\n50%    278202.000000             ...                                1.000000\n75%    367142.500000             ...                                3.000000\nmax    456255.000000             ...                               25.000000\n\n[8 rows x 106 columns]",
            "text/html": "<div>\n<style scoped>\n    .dataframe tbody tr th:only-of-type {\n        vertical-align: middle;\n    }\n\n    .dataframe tbody tr th {\n        vertical-align: top;\n    }\n\n    .dataframe thead th {\n        text-align: right;\n    }\n</style>\n<table border=\"1\" class=\"dataframe\">\n  <thead>\n    <tr style=\"text-align: right;\">\n      <th></th>\n      <th>SK_ID_CURR</th>\n      <th>TARGET</th>\n      <th>CNT_CHILDREN</th>\n      <th>AMT_INCOME_TOTAL</th>\n      <th>AMT_CREDIT</th>\n      <th>AMT_ANNUITY</th>\n      <th>AMT_GOODS_PRICE</th>\n      <th>REGION_POPULATION_RELATIVE</th>\n      <th>DAYS_BIRTH</th>\n      <th>DAYS_EMPLOYED</th>\n      <th>DAYS_REGISTRATION</th>\n      <th>DAYS_ID_PUBLISH</th>\n      <th>OWN_CAR_AGE</th>\n      <th>FLAG_MOBIL</th>\n      <th>FLAG_EMP_PHONE</th>\n      <th>FLAG_WORK_PHONE</th>\n      <th>FLAG_CONT_MOBILE</th>\n      <th>FLAG_PHONE</th>\n      <th>FLAG_EMAIL</th>\n      <th>CNT_FAM_MEMBERS</th>\n      <th>REGION_RATING_CLIENT</th>\n      <th>REGION_RATING_CLIENT_W_CITY</th>\n      <th>HOUR_APPR_PROCESS_START</th>\n      <th>REG_REGION_NOT_LIVE_REGION</th>\n      <th>REG_REGION_NOT_WORK_REGION</th>\n      <th>LIVE_REGION_NOT_WORK_REGION</th>\n      <th>REG_CITY_NOT_LIVE_CITY</th>\n      <th>REG_CITY_NOT_WORK_CITY</th>\n      <th>LIVE_CITY_NOT_WORK_CITY</th>\n      <th>EXT_SOURCE_1</th>\n      <th>EXT_SOURCE_2</th>\n      <th>EXT_SOURCE_3</th>\n      <th>APARTMENTS_AVG</th>\n      <th>BASEMENTAREA_AVG</th>\n      <th>YEARS_BEGINEXPLUATATION_AVG</th>\n      <th>YEARS_BUILD_AVG</th>\n      <th>COMMONAREA_AVG</th>\n      <th>ELEVATORS_AVG</th>\n      <th>ENTRANCES_AVG</th>\n      <th>FLOORSMAX_AVG</th>\n      <th>...</th>\n      <th>ENTRANCES_MEDI</th>\n      <th>FLOORSMAX_MEDI</th>\n      <th>FLOORSMIN_MEDI</th>\n      <th>LANDAREA_MEDI</th>\n      <th>LIVINGAPARTMENTS_MEDI</th>\n      <th>LIVINGAREA_MEDI</th>\n      <th>NONLIVINGAPARTMENTS_MEDI</th>\n      <th>NONLIVINGAREA_MEDI</th>\n      <th>TOTALAREA_MODE</th>\n      <th>OBS_30_CNT_SOCIAL_CIRCLE</th>\n      <th>DEF_30_CNT_SOCIAL_CIRCLE</th>\n      <th>OBS_60_CNT_SOCIAL_CIRCLE</th>\n      <th>DEF_60_CNT_SOCIAL_CIRCLE</th>\n      <th>DAYS_LAST_PHONE_CHANGE</th>\n      <th>FLAG_DOCUMENT_2</th>\n      <th>FLAG_DOCUMENT_3</th>\n      <th>FLAG_DOCUMENT_4</th>\n      <th>FLAG_DOCUMENT_5</th>\n      <th>FLAG_DOCUMENT_6</th>\n      <th>FLAG_DOCUMENT_7</th>\n      <th>FLAG_DOCUMENT_8</th>\n      <th>FLAG_DOCUMENT_9</th>\n      <th>FLAG_DOCUMENT_10</th>\n      <th>FLAG_DOCUMENT_11</th>\n      <th>FLAG_DOCUMENT_12</th>\n      <th>FLAG_DOCUMENT_13</th>\n      <th>FLAG_DOCUMENT_14</th>\n      <th>FLAG_DOCUMENT_15</th>\n      <th>FLAG_DOCUMENT_16</th>\n      <th>FLAG_DOCUMENT_17</th>\n      <th>FLAG_DOCUMENT_18</th>\n      <th>FLAG_DOCUMENT_19</th>\n      <th>FLAG_DOCUMENT_20</th>\n      <th>FLAG_DOCUMENT_21</th>\n      <th>AMT_REQ_CREDIT_BUREAU_HOUR</th>\n      <th>AMT_REQ_CREDIT_BUREAU_DAY</th>\n      <th>AMT_REQ_CREDIT_BUREAU_WEEK</th>\n      <th>AMT_REQ_CREDIT_BUREAU_MON</th>\n      <th>AMT_REQ_CREDIT_BUREAU_QRT</th>\n      <th>AMT_REQ_CREDIT_BUREAU_YEAR</th>\n    </tr>\n  </thead>\n  <tbody>\n    <tr>\n      <th>count</th>\n      <td>307511.000000</td>\n      <td>307511.000000</td>\n      <td>307511.000000</td>\n      <td>3.075110e+05</td>\n      <td>3.075110e+05</td>\n      <td>307499.000000</td>\n      <td>3.072330e+05</td>\n      <td>307511.000000</td>\n      <td>307511.000000</td>\n      <td>307511.000000</td>\n      <td>307511.000000</td>\n      <td>307511.000000</td>\n      <td>104582.000000</td>\n      <td>307511.000000</td>\n      <td>307511.000000</td>\n      <td>307511.000000</td>\n      <td>307511.000000</td>\n      <td>307511.000000</td>\n      <td>307511.000000</td>\n      <td>307509.000000</td>\n      <td>307511.000000</td>\n      <td>307511.000000</td>\n      <td>307511.000000</td>\n      <td>307511.000000</td>\n      <td>307511.000000</td>\n      <td>307511.000000</td>\n      <td>307511.000000</td>\n      <td>307511.000000</td>\n      <td>307511.000000</td>\n      <td>134133.000000</td>\n      <td>3.068510e+05</td>\n      <td>246546.000000</td>\n      <td>151450.00000</td>\n      <td>127568.000000</td>\n      <td>157504.000000</td>\n      <td>103023.000000</td>\n      <td>92646.000000</td>\n      <td>143620.000000</td>\n      <td>152683.000000</td>\n      <td>154491.000000</td>\n      <td>...</td>\n      <td>152683.000000</td>\n      <td>154491.000000</td>\n      <td>98869.000000</td>\n      <td>124921.000000</td>\n      <td>97312.000000</td>\n      <td>153161.000000</td>\n      <td>93997.000000</td>\n      <td>137829.000000</td>\n      <td>159080.000000</td>\n      <td>306490.000000</td>\n      <td>306490.000000</td>\n      <td>306490.000000</td>\n      <td>306490.000000</td>\n      <td>307510.000000</td>\n      <td>307511.000000</td>\n      <td>307511.000000</td>\n      <td>307511.000000</td>\n      <td>307511.000000</td>\n      <td>307511.000000</td>\n      <td>307511.000000</td>\n      <td>307511.000000</td>\n      <td>307511.000000</td>\n      <td>307511.000000</td>\n      <td>307511.000000</td>\n      <td>307511.000000</td>\n      <td>307511.000000</td>\n      <td>307511.000000</td>\n      <td>307511.00000</td>\n      <td>307511.000000</td>\n      <td>307511.000000</td>\n      <td>307511.000000</td>\n      <td>307511.000000</td>\n      <td>307511.000000</td>\n      <td>307511.000000</td>\n      <td>265992.000000</td>\n      <td>265992.000000</td>\n      <td>265992.000000</td>\n      <td>265992.000000</td>\n      <td>265992.000000</td>\n      <td>265992.000000</td>\n    </tr>\n    <tr>\n      <th>mean</th>\n      <td>278180.518577</td>\n      <td>0.080729</td>\n      <td>0.417052</td>\n      <td>1.687979e+05</td>\n      <td>5.990260e+05</td>\n      <td>27108.573909</td>\n      <td>5.383962e+05</td>\n      <td>0.020868</td>\n      <td>-16036.995067</td>\n      <td>63815.045904</td>\n      <td>-4986.120328</td>\n      <td>-2994.202373</td>\n      <td>12.061091</td>\n      <td>0.999997</td>\n      <td>0.819889</td>\n      <td>0.199368</td>\n      <td>0.998133</td>\n      <td>0.281066</td>\n      <td>0.056720</td>\n      <td>2.152665</td>\n      <td>2.052463</td>\n      <td>2.031521</td>\n      <td>12.063419</td>\n      <td>0.015144</td>\n      <td>0.050769</td>\n      <td>0.040659</td>\n      <td>0.078173</td>\n      <td>0.230454</td>\n      <td>0.179555</td>\n      <td>0.502130</td>\n      <td>5.143927e-01</td>\n      <td>0.510853</td>\n      <td>0.11744</td>\n      <td>0.088442</td>\n      <td>0.977735</td>\n      <td>0.752471</td>\n      <td>0.044621</td>\n      <td>0.078942</td>\n      <td>0.149725</td>\n      <td>0.226282</td>\n      <td>...</td>\n      <td>0.149213</td>\n      <td>0.225897</td>\n      <td>0.231625</td>\n      <td>0.067169</td>\n      <td>0.101954</td>\n      <td>0.108607</td>\n      <td>0.008651</td>\n      <td>0.028236</td>\n      <td>0.102547</td>\n      <td>1.422245</td>\n      <td>0.143421</td>\n      <td>1.405292</td>\n      <td>0.100049</td>\n      <td>-962.858788</td>\n      <td>0.000042</td>\n      <td>0.710023</td>\n      <td>0.000081</td>\n      <td>0.015115</td>\n      <td>0.088055</td>\n      <td>0.000192</td>\n      <td>0.081376</td>\n      <td>0.003896</td>\n      <td>0.000023</td>\n      <td>0.003912</td>\n      <td>0.000007</td>\n      <td>0.003525</td>\n      <td>0.002936</td>\n      <td>0.00121</td>\n      <td>0.009928</td>\n      <td>0.000267</td>\n      <td>0.008130</td>\n      <td>0.000595</td>\n      <td>0.000507</td>\n      <td>0.000335</td>\n      <td>0.006402</td>\n      <td>0.007000</td>\n      <td>0.034362</td>\n      <td>0.267395</td>\n      <td>0.265474</td>\n      <td>1.899974</td>\n    </tr>\n    <tr>\n      <th>std</th>\n      <td>102790.175348</td>\n      <td>0.272419</td>\n      <td>0.722121</td>\n      <td>2.371231e+05</td>\n      <td>4.024908e+05</td>\n      <td>14493.737315</td>\n      <td>3.694465e+05</td>\n      <td>0.013831</td>\n      <td>4363.988632</td>\n      <td>141275.766519</td>\n      <td>3522.886321</td>\n      <td>1509.450419</td>\n      <td>11.944812</td>\n      <td>0.001803</td>\n      <td>0.384280</td>\n      <td>0.399526</td>\n      <td>0.043164</td>\n      <td>0.449521</td>\n      <td>0.231307</td>\n      <td>0.910682</td>\n      <td>0.509034</td>\n      <td>0.502737</td>\n      <td>3.265832</td>\n      <td>0.122126</td>\n      <td>0.219526</td>\n      <td>0.197499</td>\n      <td>0.268444</td>\n      <td>0.421124</td>\n      <td>0.383817</td>\n      <td>0.211062</td>\n      <td>1.910602e-01</td>\n      <td>0.194844</td>\n      <td>0.10824</td>\n      <td>0.082438</td>\n      <td>0.059223</td>\n      <td>0.113280</td>\n      <td>0.076036</td>\n      <td>0.134576</td>\n      <td>0.100049</td>\n      <td>0.144641</td>\n      <td>...</td>\n      <td>0.100368</td>\n      <td>0.145067</td>\n      <td>0.161934</td>\n      <td>0.082167</td>\n      <td>0.093642</td>\n      <td>0.112260</td>\n      <td>0.047415</td>\n      <td>0.070166</td>\n      <td>0.107462</td>\n      <td>2.400989</td>\n      <td>0.446698</td>\n      <td>2.379803</td>\n      <td>0.362291</td>\n      <td>826.808487</td>\n      <td>0.006502</td>\n      <td>0.453752</td>\n      <td>0.009016</td>\n      <td>0.122010</td>\n      <td>0.283376</td>\n      <td>0.013850</td>\n      <td>0.273412</td>\n      <td>0.062295</td>\n      <td>0.004771</td>\n      <td>0.062424</td>\n      <td>0.002550</td>\n      <td>0.059268</td>\n      <td>0.054110</td>\n      <td>0.03476</td>\n      <td>0.099144</td>\n      <td>0.016327</td>\n      <td>0.089798</td>\n      <td>0.024387</td>\n      <td>0.022518</td>\n      <td>0.018299</td>\n      <td>0.083849</td>\n      <td>0.110757</td>\n      <td>0.204685</td>\n      <td>0.916002</td>\n      <td>0.794056</td>\n      <td>1.869295</td>\n    </tr>\n    <tr>\n      <th>min</th>\n      <td>100002.000000</td>\n      <td>0.000000</td>\n      <td>0.000000</td>\n      <td>2.565000e+04</td>\n      <td>4.500000e+04</td>\n      <td>1615.500000</td>\n      <td>4.050000e+04</td>\n      <td>0.000290</td>\n      <td>-25229.000000</td>\n      <td>-17912.000000</td>\n      <td>-24672.000000</td>\n      <td>-7197.000000</td>\n      <td>0.000000</td>\n      <td>0.000000</td>\n      <td>0.000000</td>\n      <td>0.000000</td>\n      <td>0.000000</td>\n      <td>0.000000</td>\n      <td>0.000000</td>\n      <td>1.000000</td>\n      <td>1.000000</td>\n      <td>1.000000</td>\n      <td>0.000000</td>\n      <td>0.000000</td>\n      <td>0.000000</td>\n      <td>0.000000</td>\n      <td>0.000000</td>\n      <td>0.000000</td>\n      <td>0.000000</td>\n      <td>0.014568</td>\n      <td>8.173617e-08</td>\n      <td>0.000527</td>\n      <td>0.00000</td>\n      <td>0.000000</td>\n      <td>0.000000</td>\n      <td>0.000000</td>\n      <td>0.000000</td>\n      <td>0.000000</td>\n      <td>0.000000</td>\n      <td>0.000000</td>\n      <td>...</td>\n      <td>0.000000</td>\n      <td>0.000000</td>\n      <td>0.000000</td>\n      <td>0.000000</td>\n      <td>0.000000</td>\n      <td>0.000000</td>\n      <td>0.000000</td>\n      <td>0.000000</td>\n      <td>0.000000</td>\n      <td>0.000000</td>\n      <td>0.000000</td>\n      <td>0.000000</td>\n      <td>0.000000</td>\n      <td>-4292.000000</td>\n      <td>0.000000</td>\n      <td>0.000000</td>\n      <td>0.000000</td>\n      <td>0.000000</td>\n      <td>0.000000</td>\n      <td>0.000000</td>\n      <td>0.000000</td>\n      <td>0.000000</td>\n      <td>0.000000</td>\n      <td>0.000000</td>\n      <td>0.000000</td>\n      <td>0.000000</td>\n      <td>0.000000</td>\n      <td>0.00000</td>\n      <td>0.000000</td>\n      <td>0.000000</td>\n      <td>0.000000</td>\n      <td>0.000000</td>\n      <td>0.000000</td>\n      <td>0.000000</td>\n      <td>0.000000</td>\n      <td>0.000000</td>\n      <td>0.000000</td>\n      <td>0.000000</td>\n      <td>0.000000</td>\n      <td>0.000000</td>\n    </tr>\n    <tr>\n      <th>25%</th>\n      <td>189145.500000</td>\n      <td>0.000000</td>\n      <td>0.000000</td>\n      <td>1.125000e+05</td>\n      <td>2.700000e+05</td>\n      <td>16524.000000</td>\n      <td>2.385000e+05</td>\n      <td>0.010006</td>\n      <td>-19682.000000</td>\n      <td>-2760.000000</td>\n      <td>-7479.500000</td>\n      <td>-4299.000000</td>\n      <td>5.000000</td>\n      <td>1.000000</td>\n      <td>1.000000</td>\n      <td>0.000000</td>\n      <td>1.000000</td>\n      <td>0.000000</td>\n      <td>0.000000</td>\n      <td>2.000000</td>\n      <td>2.000000</td>\n      <td>2.000000</td>\n      <td>10.000000</td>\n      <td>0.000000</td>\n      <td>0.000000</td>\n      <td>0.000000</td>\n      <td>0.000000</td>\n      <td>0.000000</td>\n      <td>0.000000</td>\n      <td>0.334007</td>\n      <td>3.924574e-01</td>\n      <td>0.370650</td>\n      <td>0.05770</td>\n      <td>0.044200</td>\n      <td>0.976700</td>\n      <td>0.687200</td>\n      <td>0.007800</td>\n      <td>0.000000</td>\n      <td>0.069000</td>\n      <td>0.166700</td>\n      <td>...</td>\n      <td>0.069000</td>\n      <td>0.166700</td>\n      <td>0.083300</td>\n      <td>0.018700</td>\n      <td>0.051300</td>\n      <td>0.045700</td>\n      <td>0.000000</td>\n      <td>0.000000</td>\n      <td>0.041200</td>\n      <td>0.000000</td>\n      <td>0.000000</td>\n      <td>0.000000</td>\n      <td>0.000000</td>\n      <td>-1570.000000</td>\n      <td>0.000000</td>\n      <td>0.000000</td>\n      <td>0.000000</td>\n      <td>0.000000</td>\n      <td>0.000000</td>\n      <td>0.000000</td>\n      <td>0.000000</td>\n      <td>0.000000</td>\n      <td>0.000000</td>\n      <td>0.000000</td>\n      <td>0.000000</td>\n      <td>0.000000</td>\n      <td>0.000000</td>\n      <td>0.00000</td>\n      <td>0.000000</td>\n      <td>0.000000</td>\n      <td>0.000000</td>\n      <td>0.000000</td>\n      <td>0.000000</td>\n      <td>0.000000</td>\n      <td>0.000000</td>\n      <td>0.000000</td>\n      <td>0.000000</td>\n      <td>0.000000</td>\n      <td>0.000000</td>\n      <td>0.000000</td>\n    </tr>\n    <tr>\n      <th>50%</th>\n      <td>278202.000000</td>\n      <td>0.000000</td>\n      <td>0.000000</td>\n      <td>1.471500e+05</td>\n      <td>5.135310e+05</td>\n      <td>24903.000000</td>\n      <td>4.500000e+05</td>\n      <td>0.018850</td>\n      <td>-15750.000000</td>\n      <td>-1213.000000</td>\n      <td>-4504.000000</td>\n      <td>-3254.000000</td>\n      <td>9.000000</td>\n      <td>1.000000</td>\n      <td>1.000000</td>\n      <td>0.000000</td>\n      <td>1.000000</td>\n      <td>0.000000</td>\n      <td>0.000000</td>\n      <td>2.000000</td>\n      <td>2.000000</td>\n      <td>2.000000</td>\n      <td>12.000000</td>\n      <td>0.000000</td>\n      <td>0.000000</td>\n      <td>0.000000</td>\n      <td>0.000000</td>\n      <td>0.000000</td>\n      <td>0.000000</td>\n      <td>0.505998</td>\n      <td>5.659614e-01</td>\n      <td>0.535276</td>\n      <td>0.08760</td>\n      <td>0.076300</td>\n      <td>0.981600</td>\n      <td>0.755200</td>\n      <td>0.021100</td>\n      <td>0.000000</td>\n      <td>0.137900</td>\n      <td>0.166700</td>\n      <td>...</td>\n      <td>0.137900</td>\n      <td>0.166700</td>\n      <td>0.208300</td>\n      <td>0.048700</td>\n      <td>0.076100</td>\n      <td>0.074900</td>\n      <td>0.000000</td>\n      <td>0.003100</td>\n      <td>0.068800</td>\n      <td>0.000000</td>\n      <td>0.000000</td>\n      <td>0.000000</td>\n      <td>0.000000</td>\n      <td>-757.000000</td>\n      <td>0.000000</td>\n      <td>1.000000</td>\n      <td>0.000000</td>\n      <td>0.000000</td>\n      <td>0.000000</td>\n      <td>0.000000</td>\n      <td>0.000000</td>\n      <td>0.000000</td>\n      <td>0.000000</td>\n      <td>0.000000</td>\n      <td>0.000000</td>\n      <td>0.000000</td>\n      <td>0.000000</td>\n      <td>0.00000</td>\n      <td>0.000000</td>\n      <td>0.000000</td>\n      <td>0.000000</td>\n      <td>0.000000</td>\n      <td>0.000000</td>\n      <td>0.000000</td>\n      <td>0.000000</td>\n      <td>0.000000</td>\n      <td>0.000000</td>\n      <td>0.000000</td>\n      <td>0.000000</td>\n      <td>1.000000</td>\n    </tr>\n    <tr>\n      <th>75%</th>\n      <td>367142.500000</td>\n      <td>0.000000</td>\n      <td>1.000000</td>\n      <td>2.025000e+05</td>\n      <td>8.086500e+05</td>\n      <td>34596.000000</td>\n      <td>6.795000e+05</td>\n      <td>0.028663</td>\n      <td>-12413.000000</td>\n      <td>-289.000000</td>\n      <td>-2010.000000</td>\n      <td>-1720.000000</td>\n      <td>15.000000</td>\n      <td>1.000000</td>\n      <td>1.000000</td>\n      <td>0.000000</td>\n      <td>1.000000</td>\n      <td>1.000000</td>\n      <td>0.000000</td>\n      <td>3.000000</td>\n      <td>2.000000</td>\n      <td>2.000000</td>\n      <td>14.000000</td>\n      <td>0.000000</td>\n      <td>0.000000</td>\n      <td>0.000000</td>\n      <td>0.000000</td>\n      <td>0.000000</td>\n      <td>0.000000</td>\n      <td>0.675053</td>\n      <td>6.636171e-01</td>\n      <td>0.669057</td>\n      <td>0.14850</td>\n      <td>0.112200</td>\n      <td>0.986600</td>\n      <td>0.823200</td>\n      <td>0.051500</td>\n      <td>0.120000</td>\n      <td>0.206900</td>\n      <td>0.333300</td>\n      <td>...</td>\n      <td>0.206900</td>\n      <td>0.333300</td>\n      <td>0.375000</td>\n      <td>0.086800</td>\n      <td>0.123100</td>\n      <td>0.130300</td>\n      <td>0.003900</td>\n      <td>0.026600</td>\n      <td>0.127600</td>\n      <td>2.000000</td>\n      <td>0.000000</td>\n      <td>2.000000</td>\n      <td>0.000000</td>\n      <td>-274.000000</td>\n      <td>0.000000</td>\n      <td>1.000000</td>\n      <td>0.000000</td>\n      <td>0.000000</td>\n      <td>0.000000</td>\n      <td>0.000000</td>\n      <td>0.000000</td>\n      <td>0.000000</td>\n      <td>0.000000</td>\n      <td>0.000000</td>\n      <td>0.000000</td>\n      <td>0.000000</td>\n      <td>0.000000</td>\n      <td>0.00000</td>\n      <td>0.000000</td>\n      <td>0.000000</td>\n      <td>0.000000</td>\n      <td>0.000000</td>\n      <td>0.000000</td>\n      <td>0.000000</td>\n      <td>0.000000</td>\n      <td>0.000000</td>\n      <td>0.000000</td>\n      <td>0.000000</td>\n      <td>0.000000</td>\n      <td>3.000000</td>\n    </tr>\n    <tr>\n      <th>max</th>\n      <td>456255.000000</td>\n      <td>1.000000</td>\n      <td>19.000000</td>\n      <td>1.170000e+08</td>\n      <td>4.050000e+06</td>\n      <td>258025.500000</td>\n      <td>4.050000e+06</td>\n      <td>0.072508</td>\n      <td>-7489.000000</td>\n      <td>365243.000000</td>\n      <td>0.000000</td>\n      <td>0.000000</td>\n      <td>91.000000</td>\n      <td>1.000000</td>\n      <td>1.000000</td>\n      <td>1.000000</td>\n      <td>1.000000</td>\n      <td>1.000000</td>\n      <td>1.000000</td>\n      <td>20.000000</td>\n      <td>3.000000</td>\n      <td>3.000000</td>\n      <td>23.000000</td>\n      <td>1.000000</td>\n      <td>1.000000</td>\n      <td>1.000000</td>\n      <td>1.000000</td>\n      <td>1.000000</td>\n      <td>1.000000</td>\n      <td>0.962693</td>\n      <td>8.549997e-01</td>\n      <td>0.896010</td>\n      <td>1.00000</td>\n      <td>1.000000</td>\n      <td>1.000000</td>\n      <td>1.000000</td>\n      <td>1.000000</td>\n      <td>1.000000</td>\n      <td>1.000000</td>\n      <td>1.000000</td>\n      <td>...</td>\n      <td>1.000000</td>\n      <td>1.000000</td>\n      <td>1.000000</td>\n      <td>1.000000</td>\n      <td>1.000000</td>\n      <td>1.000000</td>\n      <td>1.000000</td>\n      <td>1.000000</td>\n      <td>1.000000</td>\n      <td>348.000000</td>\n      <td>34.000000</td>\n      <td>344.000000</td>\n      <td>24.000000</td>\n      <td>0.000000</td>\n      <td>1.000000</td>\n      <td>1.000000</td>\n      <td>1.000000</td>\n      <td>1.000000</td>\n      <td>1.000000</td>\n      <td>1.000000</td>\n      <td>1.000000</td>\n      <td>1.000000</td>\n      <td>1.000000</td>\n      <td>1.000000</td>\n      <td>1.000000</td>\n      <td>1.000000</td>\n      <td>1.000000</td>\n      <td>1.00000</td>\n      <td>1.000000</td>\n      <td>1.000000</td>\n      <td>1.000000</td>\n      <td>1.000000</td>\n      <td>1.000000</td>\n      <td>1.000000</td>\n      <td>4.000000</td>\n      <td>9.000000</td>\n      <td>8.000000</td>\n      <td>27.000000</td>\n      <td>261.000000</td>\n      <td>25.000000</td>\n    </tr>\n  </tbody>\n</table>\n</div>"
          },
          "metadata": {}
        }
      ]
    },
    {
      "metadata": {
        "_uuid": "eba3c18f4e6484f46fa991ee91bbe357ed45fcfb"
      },
      "cell_type": "markdown",
      "source": "Para arreglar esta irregularidad en los datos, sacamos el valor absoluto de los dias que nos presenta el dataset, y para una vision mas comun de la edad, lo convertimos en años dividiendo por 365."
    },
    {
      "metadata": {
        "trusted": true,
        "_uuid": "cd73abc599d06dc246e2b4af7fdb43663575ae70"
      },
      "cell_type": "code",
      "source": "data_train['DAYS_BIRTH'] = abs(data_train['DAYS_BIRTH'])/365",
      "execution_count": 137,
      "outputs": []
    },
    {
      "metadata": {
        "trusted": true,
        "_uuid": "30c3094e76dee9d7df68960f906626ba80f9fa06"
      },
      "cell_type": "code",
      "source": "#revisamos con un boxplot que todo este mas o menos normal y no existan outliers exagerados\nplt.boxplot(data_train['DAYS_BIRTH'])\nplt.title('Boxplot de las edades')\nplt.ylabel('Edad en años');",
      "execution_count": 138,
      "outputs": [
        {
          "output_type": "display_data",
          "data": {
            "text/plain": "<Figure size 432x288 with 1 Axes>",
            "image/png": "[encoded data removed]"
          },
          "metadata": {}
        }
      ]
    },
    {
      "metadata": {
        "_uuid": "9b40e61fbe269f82ec4e5236934d520370d9e3b8"
      },
      "cell_type": "markdown",
      "source": "Todo parece estar bien con las edades, ahora haremos lo mismo con la columna de *DAYS_EMPLOYED* que posee la misma irregularidad"
    },
    {
      "metadata": {
        "trusted": true,
        "_uuid": "6f7983189c56c80415b548162318e9686474c90b"
      },
      "cell_type": "code",
      "source": "data_train['DAYS_EMPLOYED'] = abs(data_train['DAYS_EMPLOYED'])/365",
      "execution_count": 139,
      "outputs": []
    },
    {
      "metadata": {
        "trusted": true,
        "_uuid": "fd62faa840a4df64ada2c3b93d05ce77011fda63"
      },
      "cell_type": "code",
      "source": "plt.boxplot(data_train['DAYS_EMPLOYED'])\nplt.title('Boxplot de los años de trabajo')\nplt.ylabel('Años que lleva en el empleo actual.');",
      "execution_count": 140,
      "outputs": [
        {
          "output_type": "display_data",
          "data": {
            "text/plain": "<Figure size 432x288 with 1 Axes>",
            "image/png": "[encoded data removed]"
          },
          "metadata": {}
        }
      ]
    },
    {
      "metadata": {
        "_uuid": "334a458b6db389cb5571f03e443dfadbb3c9a757"
      },
      "cell_type": "markdown",
      "source": "Y se puede observar que existen outliers, y unos muy exagerados he ilogicos, tanto asi que hay algunos que han estado 1000 años en su ultimo empleo.\n- Estos Outliers se eliminaran inmediatamente, y quedaran como valores *NaN* porque es ilogico e imposible que una persona haya trabajado o vivido 1000 años.\n- Otra cosa importante, es que estos valores extraños, son todos iguales y equivalen a 1000.6657534246575 años de trabajo. **ENTONCES** cuando rellenemos estos valores *NaN* que crearemos, todos van a ser llenados con el mismo valor."
    },
    {
      "metadata": {
        "trusted": true,
        "_uuid": "659bfd3a70c0c13b038c8fdd0d07e216165bc214"
      },
      "cell_type": "code",
      "source": "weird_data = data_train[data_train['DAYS_EMPLOYED'] >= 1000]\n('Los datos raros corresponden a un %0.2f%% de todos los datos.' % (100*weird_data['DAYS_EMPLOYED'].shape[0]/data_train.shape[0]))",
      "execution_count": 141,
      "outputs": [
        {
          "output_type": "execute_result",
          "execution_count": 141,
          "data": {
            "text/plain": "'Los datos raros corresponden a un 18.01% de todos los datos.'"
          },
          "metadata": {}
        }
      ]
    },
    {
      "metadata": {
        "trusted": true,
        "_uuid": "f5ada5ea474b40e40b6aa0adf3614bb21f5a89fc"
      },
      "cell_type": "code",
      "source": "data_train['DAYS_EMPLOYED'].replace(1000.6657534246575, np.nan, inplace=True)",
      "execution_count": 142,
      "outputs": []
    },
    {
      "metadata": {
        "trusted": true,
        "_uuid": "1c2cd982c7a8639bf53a86dc112297201d4643fa"
      },
      "cell_type": "code",
      "source": "#Y graficamos de nuevo para ver el nuevo boxplot, llenando los Valores NaN con el promedio de la columna.\nDays_Job = data_train['DAYS_EMPLOYED'].copy()\nDays_Job.fillna(Days_Job.mean(), inplace=True)\nprint('Se siguen observando Outliers, pero mas logicos, ya que hay personas de mas de 60 años, es posible que lleven 40 años en el mismo trabajo')\nplt.boxplot(Days_Job)\nplt.ylabel('Años que lleva en el empleo actual');",
      "execution_count": 143,
      "outputs": [
        {
          "output_type": "stream",
          "text": "Se siguen observando Outliers, pero mas logicos, ya que hay personas de mas de 60 años, es posible que lleven 40 años en el mismo trabajo\n",
          "name": "stdout"
        },
        {
          "output_type": "display_data",
          "data": {
            "text/plain": "<Figure size 432x288 with 1 Axes>",
            "image/png": "[encoded data removed]"
          },
          "metadata": {}
        }
      ]
    },
    {
      "metadata": {
        "_uuid": "bc7745f024cdf482afb6bd0040b426166665c0a5"
      },
      "cell_type": "markdown",
      "source": "- Revisamos las otras columnas que tienen el mismo formato de dias relativos a la aplicacion del credito, y las transformamos a valores positivos.\n- Los Outliers presentados en estas columnas se pueden pasar por alto, ya que son posibles."
    },
    {
      "metadata": {
        "trusted": true,
        "_uuid": "4195130d7d9d801e8502d51b0b4c2bbbb1868717"
      },
      "cell_type": "code",
      "source": "data_train['DAYS_REGISTRATION'] = abs(data_train['DAYS_REGISTRATION'])",
      "execution_count": 144,
      "outputs": []
    },
    {
      "metadata": {
        "trusted": true,
        "_uuid": "9888dfa7f268fc5fe7d9a0d4c43998f0efa78c39"
      },
      "cell_type": "code",
      "source": "plt.boxplot(data_train['DAYS_REGISTRATION']);",
      "execution_count": 145,
      "outputs": [
        {
          "output_type": "display_data",
          "data": {
            "text/plain": "<Figure size 432x288 with 1 Axes>",
            "image/png": "[encoded data removed]"
          },
          "metadata": {}
        }
      ]
    },
    {
      "metadata": {
        "trusted": true,
        "_uuid": "428ba4f5b169c660a155ae363e5a1d373d1a5186"
      },
      "cell_type": "code",
      "source": "data_train['DAYS_ID_PUBLISH'] = abs(data_train['DAYS_ID_PUBLISH'])",
      "execution_count": 146,
      "outputs": []
    },
    {
      "metadata": {
        "trusted": true,
        "_uuid": "a9a6143461c96c8bf87bf5327ae810b0a6e52efd"
      },
      "cell_type": "code",
      "source": "plt.boxplot(data_train['DAYS_ID_PUBLISH']);",
      "execution_count": 147,
      "outputs": [
        {
          "output_type": "display_data",
          "data": {
            "text/plain": "<Figure size 432x288 with 1 Axes>",
            "image/png": "[encoded data removed]"
          },
          "metadata": {}
        }
      ]
    },
    {
      "metadata": {
        "_uuid": "eb6cd0817f93ee8b41274f2af9a6740d26c829f8"
      },
      "cell_type": "markdown",
      "source": "Graficando se puede ver que nuestro dataset esta muy desbalanceado."
    },
    {
      "metadata": {
        "scrolled": true,
        "trusted": true,
        "_uuid": "9a04be5f5a8fea72048e174d300b9e03347cef87"
      },
      "cell_type": "code",
      "source": "plt.figure(figsize=(5,3))\nplt.hist(data_train['TARGET'].astype(int))\nplt.xticks([0,1]);",
      "execution_count": 148,
      "outputs": [
        {
          "output_type": "display_data",
          "data": {
            "text/plain": "<Figure size 360x216 with 1 Axes>",
            "image/png": "[encoded data removed]"
          },
          "metadata": {}
        }
      ]
    },
    {
      "metadata": {
        "_uuid": "c5e47d71e877314515ddf22842dcda91596e028f"
      },
      "cell_type": "markdown",
      "source": "Explicitamente se puede ver la proporcion de cada posible valor de nuestro TARGET"
    },
    {
      "metadata": {
        "trusted": true,
        "_uuid": "971c45113189915eeb5b26e5d23352847e7a995d"
      },
      "cell_type": "code",
      "source": "print('target 1 :', sum(data_train.TARGET==1), 'datos')\nprint('target 0 :', sum(data_train.TARGET==0), 'datos')\nprint('------------------')\nprint('%target 1 :', np.mean(data_train.TARGET==1))\nprint('%target 0 :', np.mean(data_train.TARGET==0))",
      "execution_count": 149,
      "outputs": [
        {
          "output_type": "stream",
          "text": "target 1 : 24825 datos\ntarget 0 : 282686 datos\n------------------\n%target 1 : 0.08072881945686496\n%target 0 : 0.9192711805431351\n",
          "name": "stdout"
        }
      ]
    },
    {
      "metadata": {
        "_uuid": "3c1cace866bfb4a3e2759f7ca0eed9f849c6c0d7"
      },
      "cell_type": "markdown",
      "source": "Buscando valores NaN"
    },
    {
      "metadata": {
        "trusted": true,
        "_uuid": "133748ecaf58d9c5c57a30801daa12e5149f868e"
      },
      "cell_type": "code",
      "source": "print('valores NaN', data_train.isnull().sum().sum())\nprint('porcentaje de valores NaN en el DF:', 100*data_train.isnull().sum().sum()/(data_train.shape[0]*data_train.shape[1]))",
      "execution_count": 150,
      "outputs": [
        {
          "output_type": "stream",
          "text": "valores NaN 9207839\nporcentaje de valores NaN en el DF: 24.543541585157744\n",
          "name": "stdout"
        }
      ]
    },
    {
      "metadata": {
        "_uuid": "cd702d5f9715a7b4d973ea50aaccfa55a47b539b"
      },
      "cell_type": "markdown",
      "source": "Los valores NaN se trataran justo antes de empezar a realizar las predicciones, esto con el fin de probar varias maneras de llenar los valores NaN y escoger la que mejor rendimiento presente."
    },
    {
      "metadata": {
        "_uuid": "dc41a291228a04f3fe03f0093bef26dfd898a698"
      },
      "cell_type": "markdown",
      "source": "__________\n"
    },
    {
      "metadata": {
        "_uuid": "ba95491337bc5d126d5655d3268e2778f3c9d862"
      },
      "cell_type": "markdown",
      "source": "Buscando caracteristicas categoricas... obtenemos 16!"
    },
    {
      "metadata": {
        "trusted": true,
        "_uuid": "4f3956e345226b826f0c14f831217716ffac4b59"
      },
      "cell_type": "code",
      "source": "data_train.dtypes.value_counts()",
      "execution_count": 151,
      "outputs": [
        {
          "output_type": "execute_result",
          "execution_count": 151,
          "data": {
            "text/plain": "float64    67\nint64      39\nobject     16\ndtype: int64"
          },
          "metadata": {}
        }
      ]
    },
    {
      "metadata": {
        "_uuid": "3e7b0e05f996fa0e3d62df120fd897c671031813"
      },
      "cell_type": "markdown",
      "source": "revisando cuantos valores unicos poseen las caracteristicas categoricas"
    },
    {
      "metadata": {
        "trusted": true,
        "_uuid": "656bdbf9f1708ddbb6d987ab83b4e51d9655525f"
      },
      "cell_type": "code",
      "source": "obj_columns = data_train.dtypes[data_train.dtypes.values == 'object'].index.tolist()",
      "execution_count": 152,
      "outputs": []
    },
    {
      "metadata": {
        "scrolled": true,
        "trusted": true,
        "_uuid": "1ab6d33bfff6d7b974f14467dbc74c3cd3c4d13f"
      },
      "cell_type": "code",
      "source": "print(data_train[obj_columns].apply(pd.Series.nunique, axis = 0))\nprint('cantidad de elementos unicos en las variables categoricas', data_train[obj_columns].apply(pd.Series.nunique, axis = 0).values.sum())",
      "execution_count": 153,
      "outputs": [
        {
          "output_type": "stream",
          "text": "NAME_CONTRACT_TYPE             2\nCODE_GENDER                    3\nFLAG_OWN_CAR                   2\nFLAG_OWN_REALTY                2\nNAME_TYPE_SUITE                7\nNAME_INCOME_TYPE               8\nNAME_EDUCATION_TYPE            5\nNAME_FAMILY_STATUS             6\nNAME_HOUSING_TYPE              6\nOCCUPATION_TYPE               18\nWEEKDAY_APPR_PROCESS_START     7\nORGANIZATION_TYPE             58\nFONDKAPREMONT_MODE             4\nHOUSETYPE_MODE                 3\nWALLSMATERIAL_MODE             7\nEMERGENCYSTATE_MODE            2\ndtype: int64\ncantidad de elementos unicos en las variables categoricas 140\n",
          "name": "stdout"
        }
      ]
    },
    {
      "metadata": {
        "_uuid": "489a713b7ed3003694ef93ac59fc64925aa668e1"
      },
      "cell_type": "markdown",
      "source": "Tienen muy pocos valores unicos"
    },
    {
      "metadata": {
        "_uuid": "cf93b732f8ee6207a6dda37a23fe23b1ad4fba85"
      },
      "cell_type": "markdown",
      "source": "## Application Test\n\nDataset de testeo. Se le realiza el mismo analisis que al anterior.\n\nA primera vista se ve que el conjunto de testeo es significativamente mas pequeño que el conjunto de entrenamiento."
    },
    {
      "metadata": {
        "scrolled": true,
        "trusted": true,
        "_uuid": "0d2abb5b16de2292e0e5816a42db53f050b2f5a5"
      },
      "cell_type": "code",
      "source": "data_test = pd.read_csv('../input/application_test.csv')\nprint(data_test.shape)\ndata_test.head()",
      "execution_count": 154,
      "outputs": [
        {
          "output_type": "stream",
          "text": "(48744, 121)\n",
          "name": "stdout"
        },
        {
          "output_type": "execute_result",
          "execution_count": 154,
          "data": {
            "text/plain": "   SK_ID_CURR            ...             AMT_REQ_CREDIT_BUREAU_YEAR\n0      100001            ...                                    0.0\n1      100005            ...                                    3.0\n2      100013            ...                                    4.0\n3      100028            ...                                    3.0\n4      100038            ...                                    NaN\n\n[5 rows x 121 columns]",
            "text/html": "<div>\n<style scoped>\n    .dataframe tbody tr th:only-of-type {\n        vertical-align: middle;\n    }\n\n    .dataframe tbody tr th {\n        vertical-align: top;\n    }\n\n    .dataframe thead th {\n        text-align: right;\n    }\n</style>\n<table border=\"1\" class=\"dataframe\">\n  <thead>\n    <tr style=\"text-align: right;\">\n      <th></th>\n      <th>SK_ID_CURR</th>\n      <th>NAME_CONTRACT_TYPE</th>\n      <th>CODE_GENDER</th>\n      <th>FLAG_OWN_CAR</th>\n      <th>FLAG_OWN_REALTY</th>\n      <th>CNT_CHILDREN</th>\n      <th>AMT_INCOME_TOTAL</th>\n      <th>AMT_CREDIT</th>\n      <th>AMT_ANNUITY</th>\n      <th>AMT_GOODS_PRICE</th>\n      <th>NAME_TYPE_SUITE</th>\n      <th>NAME_INCOME_TYPE</th>\n      <th>NAME_EDUCATION_TYPE</th>\n      <th>NAME_FAMILY_STATUS</th>\n      <th>NAME_HOUSING_TYPE</th>\n      <th>REGION_POPULATION_RELATIVE</th>\n      <th>DAYS_BIRTH</th>\n      <th>DAYS_EMPLOYED</th>\n      <th>DAYS_REGISTRATION</th>\n      <th>DAYS_ID_PUBLISH</th>\n      <th>OWN_CAR_AGE</th>\n      <th>FLAG_MOBIL</th>\n      <th>FLAG_EMP_PHONE</th>\n      <th>FLAG_WORK_PHONE</th>\n      <th>FLAG_CONT_MOBILE</th>\n      <th>FLAG_PHONE</th>\n      <th>FLAG_EMAIL</th>\n      <th>OCCUPATION_TYPE</th>\n      <th>CNT_FAM_MEMBERS</th>\n      <th>REGION_RATING_CLIENT</th>\n      <th>REGION_RATING_CLIENT_W_CITY</th>\n      <th>WEEKDAY_APPR_PROCESS_START</th>\n      <th>HOUR_APPR_PROCESS_START</th>\n      <th>REG_REGION_NOT_LIVE_REGION</th>\n      <th>REG_REGION_NOT_WORK_REGION</th>\n      <th>LIVE_REGION_NOT_WORK_REGION</th>\n      <th>REG_CITY_NOT_LIVE_CITY</th>\n      <th>REG_CITY_NOT_WORK_CITY</th>\n      <th>LIVE_CITY_NOT_WORK_CITY</th>\n      <th>ORGANIZATION_TYPE</th>\n      <th>...</th>\n      <th>LIVINGAPARTMENTS_MEDI</th>\n      <th>LIVINGAREA_MEDI</th>\n      <th>NONLIVINGAPARTMENTS_MEDI</th>\n      <th>NONLIVINGAREA_MEDI</th>\n      <th>FONDKAPREMONT_MODE</th>\n      <th>HOUSETYPE_MODE</th>\n      <th>TOTALAREA_MODE</th>\n      <th>WALLSMATERIAL_MODE</th>\n      <th>EMERGENCYSTATE_MODE</th>\n      <th>OBS_30_CNT_SOCIAL_CIRCLE</th>\n      <th>DEF_30_CNT_SOCIAL_CIRCLE</th>\n      <th>OBS_60_CNT_SOCIAL_CIRCLE</th>\n      <th>DEF_60_CNT_SOCIAL_CIRCLE</th>\n      <th>DAYS_LAST_PHONE_CHANGE</th>\n      <th>FLAG_DOCUMENT_2</th>\n      <th>FLAG_DOCUMENT_3</th>\n      <th>FLAG_DOCUMENT_4</th>\n      <th>FLAG_DOCUMENT_5</th>\n      <th>FLAG_DOCUMENT_6</th>\n      <th>FLAG_DOCUMENT_7</th>\n      <th>FLAG_DOCUMENT_8</th>\n      <th>FLAG_DOCUMENT_9</th>\n      <th>FLAG_DOCUMENT_10</th>\n      <th>FLAG_DOCUMENT_11</th>\n      <th>FLAG_DOCUMENT_12</th>\n      <th>FLAG_DOCUMENT_13</th>\n      <th>FLAG_DOCUMENT_14</th>\n      <th>FLAG_DOCUMENT_15</th>\n      <th>FLAG_DOCUMENT_16</th>\n      <th>FLAG_DOCUMENT_17</th>\n      <th>FLAG_DOCUMENT_18</th>\n      <th>FLAG_DOCUMENT_19</th>\n      <th>FLAG_DOCUMENT_20</th>\n      <th>FLAG_DOCUMENT_21</th>\n      <th>AMT_REQ_CREDIT_BUREAU_HOUR</th>\n      <th>AMT_REQ_CREDIT_BUREAU_DAY</th>\n      <th>AMT_REQ_CREDIT_BUREAU_WEEK</th>\n      <th>AMT_REQ_CREDIT_BUREAU_MON</th>\n      <th>AMT_REQ_CREDIT_BUREAU_QRT</th>\n      <th>AMT_REQ_CREDIT_BUREAU_YEAR</th>\n    </tr>\n  </thead>\n  <tbody>\n    <tr>\n      <th>0</th>\n      <td>100001</td>\n      <td>Cash loans</td>\n      <td>F</td>\n      <td>N</td>\n      <td>Y</td>\n      <td>0</td>\n      <td>135000.0</td>\n      <td>568800.0</td>\n      <td>20560.5</td>\n      <td>450000.0</td>\n      <td>Unaccompanied</td>\n      <td>Working</td>\n      <td>Higher education</td>\n      <td>Married</td>\n      <td>House / apartment</td>\n      <td>0.018850</td>\n      <td>-19241</td>\n      <td>-2329</td>\n      <td>-5170.0</td>\n      <td>-812</td>\n      <td>NaN</td>\n      <td>1</td>\n      <td>1</td>\n      <td>0</td>\n      <td>1</td>\n      <td>0</td>\n      <td>1</td>\n      <td>NaN</td>\n      <td>2.0</td>\n      <td>2</td>\n      <td>2</td>\n      <td>TUESDAY</td>\n      <td>18</td>\n      <td>0</td>\n      <td>0</td>\n      <td>0</td>\n      <td>0</td>\n      <td>0</td>\n      <td>0</td>\n      <td>Kindergarten</td>\n      <td>...</td>\n      <td>NaN</td>\n      <td>0.0514</td>\n      <td>NaN</td>\n      <td>NaN</td>\n      <td>NaN</td>\n      <td>block of flats</td>\n      <td>0.0392</td>\n      <td>Stone, brick</td>\n      <td>No</td>\n      <td>0.0</td>\n      <td>0.0</td>\n      <td>0.0</td>\n      <td>0.0</td>\n      <td>-1740.0</td>\n      <td>0</td>\n      <td>1</td>\n      <td>0</td>\n      <td>0</td>\n      <td>0</td>\n      <td>0</td>\n      <td>0</td>\n      <td>0</td>\n      <td>0</td>\n      <td>0</td>\n      <td>0</td>\n      <td>0</td>\n      <td>0</td>\n      <td>0</td>\n      <td>0</td>\n      <td>0</td>\n      <td>0</td>\n      <td>0</td>\n      <td>0</td>\n      <td>0</td>\n      <td>0.0</td>\n      <td>0.0</td>\n      <td>0.0</td>\n      <td>0.0</td>\n      <td>0.0</td>\n      <td>0.0</td>\n    </tr>\n    <tr>\n      <th>1</th>\n      <td>100005</td>\n      <td>Cash loans</td>\n      <td>M</td>\n      <td>N</td>\n      <td>Y</td>\n      <td>0</td>\n      <td>99000.0</td>\n      <td>222768.0</td>\n      <td>17370.0</td>\n      <td>180000.0</td>\n      <td>Unaccompanied</td>\n      <td>Working</td>\n      <td>Secondary / secondary special</td>\n      <td>Married</td>\n      <td>House / apartment</td>\n      <td>0.035792</td>\n      <td>-18064</td>\n      <td>-4469</td>\n      <td>-9118.0</td>\n      <td>-1623</td>\n      <td>NaN</td>\n      <td>1</td>\n      <td>1</td>\n      <td>0</td>\n      <td>1</td>\n      <td>0</td>\n      <td>0</td>\n      <td>Low-skill Laborers</td>\n      <td>2.0</td>\n      <td>2</td>\n      <td>2</td>\n      <td>FRIDAY</td>\n      <td>9</td>\n      <td>0</td>\n      <td>0</td>\n      <td>0</td>\n      <td>0</td>\n      <td>0</td>\n      <td>0</td>\n      <td>Self-employed</td>\n      <td>...</td>\n      <td>NaN</td>\n      <td>NaN</td>\n      <td>NaN</td>\n      <td>NaN</td>\n      <td>NaN</td>\n      <td>NaN</td>\n      <td>NaN</td>\n      <td>NaN</td>\n      <td>NaN</td>\n      <td>0.0</td>\n      <td>0.0</td>\n      <td>0.0</td>\n      <td>0.0</td>\n      <td>0.0</td>\n      <td>0</td>\n      <td>1</td>\n      <td>0</td>\n      <td>0</td>\n      <td>0</td>\n      <td>0</td>\n      <td>0</td>\n      <td>0</td>\n      <td>0</td>\n      <td>0</td>\n      <td>0</td>\n      <td>0</td>\n      <td>0</td>\n      <td>0</td>\n      <td>0</td>\n      <td>0</td>\n      <td>0</td>\n      <td>0</td>\n      <td>0</td>\n      <td>0</td>\n      <td>0.0</td>\n      <td>0.0</td>\n      <td>0.0</td>\n      <td>0.0</td>\n      <td>0.0</td>\n      <td>3.0</td>\n    </tr>\n    <tr>\n      <th>2</th>\n      <td>100013</td>\n      <td>Cash loans</td>\n      <td>M</td>\n      <td>Y</td>\n      <td>Y</td>\n      <td>0</td>\n      <td>202500.0</td>\n      <td>663264.0</td>\n      <td>69777.0</td>\n      <td>630000.0</td>\n      <td>NaN</td>\n      <td>Working</td>\n      <td>Higher education</td>\n      <td>Married</td>\n      <td>House / apartment</td>\n      <td>0.019101</td>\n      <td>-20038</td>\n      <td>-4458</td>\n      <td>-2175.0</td>\n      <td>-3503</td>\n      <td>5.0</td>\n      <td>1</td>\n      <td>1</td>\n      <td>0</td>\n      <td>1</td>\n      <td>0</td>\n      <td>0</td>\n      <td>Drivers</td>\n      <td>2.0</td>\n      <td>2</td>\n      <td>2</td>\n      <td>MONDAY</td>\n      <td>14</td>\n      <td>0</td>\n      <td>0</td>\n      <td>0</td>\n      <td>0</td>\n      <td>0</td>\n      <td>0</td>\n      <td>Transport: type 3</td>\n      <td>...</td>\n      <td>NaN</td>\n      <td>NaN</td>\n      <td>NaN</td>\n      <td>NaN</td>\n      <td>NaN</td>\n      <td>NaN</td>\n      <td>NaN</td>\n      <td>NaN</td>\n      <td>NaN</td>\n      <td>0.0</td>\n      <td>0.0</td>\n      <td>0.0</td>\n      <td>0.0</td>\n      <td>-856.0</td>\n      <td>0</td>\n      <td>0</td>\n      <td>0</td>\n      <td>0</td>\n      <td>0</td>\n      <td>0</td>\n      <td>1</td>\n      <td>0</td>\n      <td>0</td>\n      <td>0</td>\n      <td>0</td>\n      <td>0</td>\n      <td>0</td>\n      <td>0</td>\n      <td>0</td>\n      <td>0</td>\n      <td>0</td>\n      <td>0</td>\n      <td>0</td>\n      <td>0</td>\n      <td>0.0</td>\n      <td>0.0</td>\n      <td>0.0</td>\n      <td>0.0</td>\n      <td>1.0</td>\n      <td>4.0</td>\n    </tr>\n    <tr>\n      <th>3</th>\n      <td>100028</td>\n      <td>Cash loans</td>\n      <td>F</td>\n      <td>N</td>\n      <td>Y</td>\n      <td>2</td>\n      <td>315000.0</td>\n      <td>1575000.0</td>\n      <td>49018.5</td>\n      <td>1575000.0</td>\n      <td>Unaccompanied</td>\n      <td>Working</td>\n      <td>Secondary / secondary special</td>\n      <td>Married</td>\n      <td>House / apartment</td>\n      <td>0.026392</td>\n      <td>-13976</td>\n      <td>-1866</td>\n      <td>-2000.0</td>\n      <td>-4208</td>\n      <td>NaN</td>\n      <td>1</td>\n      <td>1</td>\n      <td>0</td>\n      <td>1</td>\n      <td>1</td>\n      <td>0</td>\n      <td>Sales staff</td>\n      <td>4.0</td>\n      <td>2</td>\n      <td>2</td>\n      <td>WEDNESDAY</td>\n      <td>11</td>\n      <td>0</td>\n      <td>0</td>\n      <td>0</td>\n      <td>0</td>\n      <td>0</td>\n      <td>0</td>\n      <td>Business Entity Type 3</td>\n      <td>...</td>\n      <td>0.2446</td>\n      <td>0.3739</td>\n      <td>0.0388</td>\n      <td>0.0817</td>\n      <td>reg oper account</td>\n      <td>block of flats</td>\n      <td>0.3700</td>\n      <td>Panel</td>\n      <td>No</td>\n      <td>0.0</td>\n      <td>0.0</td>\n      <td>0.0</td>\n      <td>0.0</td>\n      <td>-1805.0</td>\n      <td>0</td>\n      <td>1</td>\n      <td>0</td>\n      <td>0</td>\n      <td>0</td>\n      <td>0</td>\n      <td>0</td>\n      <td>0</td>\n      <td>0</td>\n      <td>0</td>\n      <td>0</td>\n      <td>0</td>\n      <td>0</td>\n      <td>0</td>\n      <td>0</td>\n      <td>0</td>\n      <td>0</td>\n      <td>0</td>\n      <td>0</td>\n      <td>0</td>\n      <td>0.0</td>\n      <td>0.0</td>\n      <td>0.0</td>\n      <td>0.0</td>\n      <td>0.0</td>\n      <td>3.0</td>\n    </tr>\n    <tr>\n      <th>4</th>\n      <td>100038</td>\n      <td>Cash loans</td>\n      <td>M</td>\n      <td>Y</td>\n      <td>N</td>\n      <td>1</td>\n      <td>180000.0</td>\n      <td>625500.0</td>\n      <td>32067.0</td>\n      <td>625500.0</td>\n      <td>Unaccompanied</td>\n      <td>Working</td>\n      <td>Secondary / secondary special</td>\n      <td>Married</td>\n      <td>House / apartment</td>\n      <td>0.010032</td>\n      <td>-13040</td>\n      <td>-2191</td>\n      <td>-4000.0</td>\n      <td>-4262</td>\n      <td>16.0</td>\n      <td>1</td>\n      <td>1</td>\n      <td>1</td>\n      <td>1</td>\n      <td>0</td>\n      <td>0</td>\n      <td>NaN</td>\n      <td>3.0</td>\n      <td>2</td>\n      <td>2</td>\n      <td>FRIDAY</td>\n      <td>5</td>\n      <td>0</td>\n      <td>0</td>\n      <td>0</td>\n      <td>0</td>\n      <td>1</td>\n      <td>1</td>\n      <td>Business Entity Type 3</td>\n      <td>...</td>\n      <td>NaN</td>\n      <td>NaN</td>\n      <td>NaN</td>\n      <td>NaN</td>\n      <td>NaN</td>\n      <td>NaN</td>\n      <td>NaN</td>\n      <td>NaN</td>\n      <td>NaN</td>\n      <td>0.0</td>\n      <td>0.0</td>\n      <td>0.0</td>\n      <td>0.0</td>\n      <td>-821.0</td>\n      <td>0</td>\n      <td>1</td>\n      <td>0</td>\n      <td>0</td>\n      <td>0</td>\n      <td>0</td>\n      <td>0</td>\n      <td>0</td>\n      <td>0</td>\n      <td>0</td>\n      <td>0</td>\n      <td>0</td>\n      <td>0</td>\n      <td>0</td>\n      <td>0</td>\n      <td>0</td>\n      <td>0</td>\n      <td>0</td>\n      <td>0</td>\n      <td>0</td>\n      <td>NaN</td>\n      <td>NaN</td>\n      <td>NaN</td>\n      <td>NaN</td>\n      <td>NaN</td>\n      <td>NaN</td>\n    </tr>\n  </tbody>\n</table>\n</div>"
          },
          "metadata": {}
        }
      ]
    },
    {
      "metadata": {
        "scrolled": true,
        "trusted": true,
        "_uuid": "7f7039a64e7eaa492bba475150081b54caca6b9f"
      },
      "cell_type": "code",
      "source": "data_test.describe()",
      "execution_count": 155,
      "outputs": [
        {
          "output_type": "execute_result",
          "execution_count": 155,
          "data": {
            "text/plain": "          SK_ID_CURR             ...              AMT_REQ_CREDIT_BUREAU_YEAR\ncount   48744.000000             ...                            42695.000000\nmean   277796.676350             ...                                1.983769\nstd    103169.547296             ...                                1.838873\nmin    100001.000000             ...                                0.000000\n25%    188557.750000             ...                                0.000000\n50%    277549.000000             ...                                2.000000\n75%    367555.500000             ...                                3.000000\nmax    456250.000000             ...                               17.000000\n\n[8 rows x 105 columns]",
            "text/html": "<div>\n<style scoped>\n    .dataframe tbody tr th:only-of-type {\n        vertical-align: middle;\n    }\n\n    .dataframe tbody tr th {\n        vertical-align: top;\n    }\n\n    .dataframe thead th {\n        text-align: right;\n    }\n</style>\n<table border=\"1\" class=\"dataframe\">\n  <thead>\n    <tr style=\"text-align: right;\">\n      <th></th>\n      <th>SK_ID_CURR</th>\n      <th>CNT_CHILDREN</th>\n      <th>AMT_INCOME_TOTAL</th>\n      <th>AMT_CREDIT</th>\n      <th>AMT_ANNUITY</th>\n      <th>AMT_GOODS_PRICE</th>\n      <th>REGION_POPULATION_RELATIVE</th>\n      <th>DAYS_BIRTH</th>\n      <th>DAYS_EMPLOYED</th>\n      <th>DAYS_REGISTRATION</th>\n      <th>DAYS_ID_PUBLISH</th>\n      <th>OWN_CAR_AGE</th>\n      <th>FLAG_MOBIL</th>\n      <th>FLAG_EMP_PHONE</th>\n      <th>FLAG_WORK_PHONE</th>\n      <th>FLAG_CONT_MOBILE</th>\n      <th>FLAG_PHONE</th>\n      <th>FLAG_EMAIL</th>\n      <th>CNT_FAM_MEMBERS</th>\n      <th>REGION_RATING_CLIENT</th>\n      <th>REGION_RATING_CLIENT_W_CITY</th>\n      <th>HOUR_APPR_PROCESS_START</th>\n      <th>REG_REGION_NOT_LIVE_REGION</th>\n      <th>REG_REGION_NOT_WORK_REGION</th>\n      <th>LIVE_REGION_NOT_WORK_REGION</th>\n      <th>REG_CITY_NOT_LIVE_CITY</th>\n      <th>REG_CITY_NOT_WORK_CITY</th>\n      <th>LIVE_CITY_NOT_WORK_CITY</th>\n      <th>EXT_SOURCE_1</th>\n      <th>EXT_SOURCE_2</th>\n      <th>EXT_SOURCE_3</th>\n      <th>APARTMENTS_AVG</th>\n      <th>BASEMENTAREA_AVG</th>\n      <th>YEARS_BEGINEXPLUATATION_AVG</th>\n      <th>YEARS_BUILD_AVG</th>\n      <th>COMMONAREA_AVG</th>\n      <th>ELEVATORS_AVG</th>\n      <th>ENTRANCES_AVG</th>\n      <th>FLOORSMAX_AVG</th>\n      <th>FLOORSMIN_AVG</th>\n      <th>...</th>\n      <th>ENTRANCES_MEDI</th>\n      <th>FLOORSMAX_MEDI</th>\n      <th>FLOORSMIN_MEDI</th>\n      <th>LANDAREA_MEDI</th>\n      <th>LIVINGAPARTMENTS_MEDI</th>\n      <th>LIVINGAREA_MEDI</th>\n      <th>NONLIVINGAPARTMENTS_MEDI</th>\n      <th>NONLIVINGAREA_MEDI</th>\n      <th>TOTALAREA_MODE</th>\n      <th>OBS_30_CNT_SOCIAL_CIRCLE</th>\n      <th>DEF_30_CNT_SOCIAL_CIRCLE</th>\n      <th>OBS_60_CNT_SOCIAL_CIRCLE</th>\n      <th>DEF_60_CNT_SOCIAL_CIRCLE</th>\n      <th>DAYS_LAST_PHONE_CHANGE</th>\n      <th>FLAG_DOCUMENT_2</th>\n      <th>FLAG_DOCUMENT_3</th>\n      <th>FLAG_DOCUMENT_4</th>\n      <th>FLAG_DOCUMENT_5</th>\n      <th>FLAG_DOCUMENT_6</th>\n      <th>FLAG_DOCUMENT_7</th>\n      <th>FLAG_DOCUMENT_8</th>\n      <th>FLAG_DOCUMENT_9</th>\n      <th>FLAG_DOCUMENT_10</th>\n      <th>FLAG_DOCUMENT_11</th>\n      <th>FLAG_DOCUMENT_12</th>\n      <th>FLAG_DOCUMENT_13</th>\n      <th>FLAG_DOCUMENT_14</th>\n      <th>FLAG_DOCUMENT_15</th>\n      <th>FLAG_DOCUMENT_16</th>\n      <th>FLAG_DOCUMENT_17</th>\n      <th>FLAG_DOCUMENT_18</th>\n      <th>FLAG_DOCUMENT_19</th>\n      <th>FLAG_DOCUMENT_20</th>\n      <th>FLAG_DOCUMENT_21</th>\n      <th>AMT_REQ_CREDIT_BUREAU_HOUR</th>\n      <th>AMT_REQ_CREDIT_BUREAU_DAY</th>\n      <th>AMT_REQ_CREDIT_BUREAU_WEEK</th>\n      <th>AMT_REQ_CREDIT_BUREAU_MON</th>\n      <th>AMT_REQ_CREDIT_BUREAU_QRT</th>\n      <th>AMT_REQ_CREDIT_BUREAU_YEAR</th>\n    </tr>\n  </thead>\n  <tbody>\n    <tr>\n      <th>count</th>\n      <td>48744.000000</td>\n      <td>48744.000000</td>\n      <td>4.874400e+04</td>\n      <td>4.874400e+04</td>\n      <td>48720.000000</td>\n      <td>4.874400e+04</td>\n      <td>48744.000000</td>\n      <td>48744.000000</td>\n      <td>48744.000000</td>\n      <td>48744.000000</td>\n      <td>48744.000000</td>\n      <td>16432.000000</td>\n      <td>48744.000000</td>\n      <td>48744.000000</td>\n      <td>48744.000000</td>\n      <td>48744.000000</td>\n      <td>48744.000000</td>\n      <td>48744.000000</td>\n      <td>48744.000000</td>\n      <td>48744.000000</td>\n      <td>48744.000000</td>\n      <td>48744.000000</td>\n      <td>48744.000000</td>\n      <td>48744.000000</td>\n      <td>48744.000000</td>\n      <td>48744.000000</td>\n      <td>48744.000000</td>\n      <td>48744.000000</td>\n      <td>28212.000000</td>\n      <td>48736.000000</td>\n      <td>40076.000000</td>\n      <td>24857.000000</td>\n      <td>21103.000000</td>\n      <td>25888.000000</td>\n      <td>16926.000000</td>\n      <td>15249.000000</td>\n      <td>23555.000000</td>\n      <td>25165.000000</td>\n      <td>25423.000000</td>\n      <td>16278.000000</td>\n      <td>...</td>\n      <td>25165.000000</td>\n      <td>25423.000000</td>\n      <td>16278.000000</td>\n      <td>20490.000000</td>\n      <td>15964.000000</td>\n      <td>25192.000000</td>\n      <td>15397.000000</td>\n      <td>22660.000000</td>\n      <td>26120.000000</td>\n      <td>48715.000000</td>\n      <td>48715.000000</td>\n      <td>48715.000000</td>\n      <td>48715.000000</td>\n      <td>48744.000000</td>\n      <td>48744.0</td>\n      <td>48744.000000</td>\n      <td>48744.000000</td>\n      <td>48744.000000</td>\n      <td>48744.000000</td>\n      <td>48744.000000</td>\n      <td>48744.000000</td>\n      <td>48744.000000</td>\n      <td>48744.0</td>\n      <td>48744.000000</td>\n      <td>48744.0</td>\n      <td>48744.0</td>\n      <td>48744.0</td>\n      <td>48744.0</td>\n      <td>48744.0</td>\n      <td>48744.0</td>\n      <td>48744.000000</td>\n      <td>48744.0</td>\n      <td>48744.0</td>\n      <td>48744.0</td>\n      <td>42695.000000</td>\n      <td>42695.000000</td>\n      <td>42695.000000</td>\n      <td>42695.000000</td>\n      <td>42695.000000</td>\n      <td>42695.000000</td>\n    </tr>\n    <tr>\n      <th>mean</th>\n      <td>277796.676350</td>\n      <td>0.397054</td>\n      <td>1.784318e+05</td>\n      <td>5.167404e+05</td>\n      <td>29426.240209</td>\n      <td>4.626188e+05</td>\n      <td>0.021226</td>\n      <td>-16068.084605</td>\n      <td>67485.366322</td>\n      <td>-4967.652716</td>\n      <td>-3051.712949</td>\n      <td>11.786027</td>\n      <td>0.999979</td>\n      <td>0.809720</td>\n      <td>0.204702</td>\n      <td>0.998400</td>\n      <td>0.263130</td>\n      <td>0.162646</td>\n      <td>2.146767</td>\n      <td>2.038159</td>\n      <td>2.012596</td>\n      <td>12.007365</td>\n      <td>0.018833</td>\n      <td>0.055166</td>\n      <td>0.042036</td>\n      <td>0.077466</td>\n      <td>0.224664</td>\n      <td>0.174216</td>\n      <td>0.501180</td>\n      <td>0.518021</td>\n      <td>0.500106</td>\n      <td>0.122388</td>\n      <td>0.090065</td>\n      <td>0.978828</td>\n      <td>0.751137</td>\n      <td>0.047624</td>\n      <td>0.085168</td>\n      <td>0.151777</td>\n      <td>0.233706</td>\n      <td>0.238423</td>\n      <td>...</td>\n      <td>0.151200</td>\n      <td>0.233154</td>\n      <td>0.237846</td>\n      <td>0.068069</td>\n      <td>0.107063</td>\n      <td>0.113368</td>\n      <td>0.008979</td>\n      <td>0.029296</td>\n      <td>0.107129</td>\n      <td>1.447644</td>\n      <td>0.143652</td>\n      <td>1.435738</td>\n      <td>0.101139</td>\n      <td>-1077.766228</td>\n      <td>0.0</td>\n      <td>0.786620</td>\n      <td>0.000103</td>\n      <td>0.014751</td>\n      <td>0.087477</td>\n      <td>0.000041</td>\n      <td>0.088462</td>\n      <td>0.004493</td>\n      <td>0.0</td>\n      <td>0.001169</td>\n      <td>0.0</td>\n      <td>0.0</td>\n      <td>0.0</td>\n      <td>0.0</td>\n      <td>0.0</td>\n      <td>0.0</td>\n      <td>0.001559</td>\n      <td>0.0</td>\n      <td>0.0</td>\n      <td>0.0</td>\n      <td>0.002108</td>\n      <td>0.001803</td>\n      <td>0.002787</td>\n      <td>0.009299</td>\n      <td>0.546902</td>\n      <td>1.983769</td>\n    </tr>\n    <tr>\n      <th>std</th>\n      <td>103169.547296</td>\n      <td>0.709047</td>\n      <td>1.015226e+05</td>\n      <td>3.653970e+05</td>\n      <td>16016.368315</td>\n      <td>3.367102e+05</td>\n      <td>0.014428</td>\n      <td>4325.900393</td>\n      <td>144348.507136</td>\n      <td>3552.612035</td>\n      <td>1569.276709</td>\n      <td>11.462889</td>\n      <td>0.004529</td>\n      <td>0.392526</td>\n      <td>0.403488</td>\n      <td>0.039971</td>\n      <td>0.440337</td>\n      <td>0.369046</td>\n      <td>0.890423</td>\n      <td>0.522694</td>\n      <td>0.515804</td>\n      <td>3.278172</td>\n      <td>0.135937</td>\n      <td>0.228306</td>\n      <td>0.200673</td>\n      <td>0.267332</td>\n      <td>0.417365</td>\n      <td>0.379299</td>\n      <td>0.205142</td>\n      <td>0.181278</td>\n      <td>0.189498</td>\n      <td>0.113112</td>\n      <td>0.081536</td>\n      <td>0.049318</td>\n      <td>0.113188</td>\n      <td>0.082868</td>\n      <td>0.139164</td>\n      <td>0.100669</td>\n      <td>0.147361</td>\n      <td>0.164976</td>\n      <td>...</td>\n      <td>0.100931</td>\n      <td>0.147629</td>\n      <td>0.165241</td>\n      <td>0.082869</td>\n      <td>0.099737</td>\n      <td>0.116503</td>\n      <td>0.048148</td>\n      <td>0.072998</td>\n      <td>0.111420</td>\n      <td>3.608053</td>\n      <td>0.514413</td>\n      <td>3.580125</td>\n      <td>0.403791</td>\n      <td>878.920740</td>\n      <td>0.0</td>\n      <td>0.409698</td>\n      <td>0.010128</td>\n      <td>0.120554</td>\n      <td>0.282536</td>\n      <td>0.006405</td>\n      <td>0.283969</td>\n      <td>0.066879</td>\n      <td>0.0</td>\n      <td>0.034176</td>\n      <td>0.0</td>\n      <td>0.0</td>\n      <td>0.0</td>\n      <td>0.0</td>\n      <td>0.0</td>\n      <td>0.0</td>\n      <td>0.039456</td>\n      <td>0.0</td>\n      <td>0.0</td>\n      <td>0.0</td>\n      <td>0.046373</td>\n      <td>0.046132</td>\n      <td>0.054037</td>\n      <td>0.110924</td>\n      <td>0.693305</td>\n      <td>1.838873</td>\n    </tr>\n    <tr>\n      <th>min</th>\n      <td>100001.000000</td>\n      <td>0.000000</td>\n      <td>2.694150e+04</td>\n      <td>4.500000e+04</td>\n      <td>2295.000000</td>\n      <td>4.500000e+04</td>\n      <td>0.000253</td>\n      <td>-25195.000000</td>\n      <td>-17463.000000</td>\n      <td>-23722.000000</td>\n      <td>-6348.000000</td>\n      <td>0.000000</td>\n      <td>0.000000</td>\n      <td>0.000000</td>\n      <td>0.000000</td>\n      <td>0.000000</td>\n      <td>0.000000</td>\n      <td>0.000000</td>\n      <td>1.000000</td>\n      <td>1.000000</td>\n      <td>-1.000000</td>\n      <td>0.000000</td>\n      <td>0.000000</td>\n      <td>0.000000</td>\n      <td>0.000000</td>\n      <td>0.000000</td>\n      <td>0.000000</td>\n      <td>0.000000</td>\n      <td>0.013458</td>\n      <td>0.000008</td>\n      <td>0.000527</td>\n      <td>0.000000</td>\n      <td>0.000000</td>\n      <td>0.000000</td>\n      <td>0.000000</td>\n      <td>0.000000</td>\n      <td>0.000000</td>\n      <td>0.000000</td>\n      <td>0.000000</td>\n      <td>0.000000</td>\n      <td>...</td>\n      <td>0.000000</td>\n      <td>0.000000</td>\n      <td>0.000000</td>\n      <td>0.000000</td>\n      <td>0.000000</td>\n      <td>0.000000</td>\n      <td>0.000000</td>\n      <td>0.000000</td>\n      <td>0.000000</td>\n      <td>0.000000</td>\n      <td>0.000000</td>\n      <td>0.000000</td>\n      <td>0.000000</td>\n      <td>-4361.000000</td>\n      <td>0.0</td>\n      <td>0.000000</td>\n      <td>0.000000</td>\n      <td>0.000000</td>\n      <td>0.000000</td>\n      <td>0.000000</td>\n      <td>0.000000</td>\n      <td>0.000000</td>\n      <td>0.0</td>\n      <td>0.000000</td>\n      <td>0.0</td>\n      <td>0.0</td>\n      <td>0.0</td>\n      <td>0.0</td>\n      <td>0.0</td>\n      <td>0.0</td>\n      <td>0.000000</td>\n      <td>0.0</td>\n      <td>0.0</td>\n      <td>0.0</td>\n      <td>0.000000</td>\n      <td>0.000000</td>\n      <td>0.000000</td>\n      <td>0.000000</td>\n      <td>0.000000</td>\n      <td>0.000000</td>\n    </tr>\n    <tr>\n      <th>25%</th>\n      <td>188557.750000</td>\n      <td>0.000000</td>\n      <td>1.125000e+05</td>\n      <td>2.606400e+05</td>\n      <td>17973.000000</td>\n      <td>2.250000e+05</td>\n      <td>0.010006</td>\n      <td>-19637.000000</td>\n      <td>-2910.000000</td>\n      <td>-7459.250000</td>\n      <td>-4448.000000</td>\n      <td>4.000000</td>\n      <td>1.000000</td>\n      <td>1.000000</td>\n      <td>0.000000</td>\n      <td>1.000000</td>\n      <td>0.000000</td>\n      <td>0.000000</td>\n      <td>2.000000</td>\n      <td>2.000000</td>\n      <td>2.000000</td>\n      <td>10.000000</td>\n      <td>0.000000</td>\n      <td>0.000000</td>\n      <td>0.000000</td>\n      <td>0.000000</td>\n      <td>0.000000</td>\n      <td>0.000000</td>\n      <td>0.343695</td>\n      <td>0.408066</td>\n      <td>0.363945</td>\n      <td>0.061900</td>\n      <td>0.046700</td>\n      <td>0.976700</td>\n      <td>0.687200</td>\n      <td>0.008100</td>\n      <td>0.000000</td>\n      <td>0.074500</td>\n      <td>0.166700</td>\n      <td>0.104200</td>\n      <td>...</td>\n      <td>0.069000</td>\n      <td>0.166700</td>\n      <td>0.083300</td>\n      <td>0.019000</td>\n      <td>0.051300</td>\n      <td>0.049000</td>\n      <td>0.000000</td>\n      <td>0.000000</td>\n      <td>0.043200</td>\n      <td>0.000000</td>\n      <td>0.000000</td>\n      <td>0.000000</td>\n      <td>0.000000</td>\n      <td>-1766.250000</td>\n      <td>0.0</td>\n      <td>1.000000</td>\n      <td>0.000000</td>\n      <td>0.000000</td>\n      <td>0.000000</td>\n      <td>0.000000</td>\n      <td>0.000000</td>\n      <td>0.000000</td>\n      <td>0.0</td>\n      <td>0.000000</td>\n      <td>0.0</td>\n      <td>0.0</td>\n      <td>0.0</td>\n      <td>0.0</td>\n      <td>0.0</td>\n      <td>0.0</td>\n      <td>0.000000</td>\n      <td>0.0</td>\n      <td>0.0</td>\n      <td>0.0</td>\n      <td>0.000000</td>\n      <td>0.000000</td>\n      <td>0.000000</td>\n      <td>0.000000</td>\n      <td>0.000000</td>\n      <td>0.000000</td>\n    </tr>\n    <tr>\n      <th>50%</th>\n      <td>277549.000000</td>\n      <td>0.000000</td>\n      <td>1.575000e+05</td>\n      <td>4.500000e+05</td>\n      <td>26199.000000</td>\n      <td>3.960000e+05</td>\n      <td>0.018850</td>\n      <td>-15785.000000</td>\n      <td>-1293.000000</td>\n      <td>-4490.000000</td>\n      <td>-3234.000000</td>\n      <td>9.000000</td>\n      <td>1.000000</td>\n      <td>1.000000</td>\n      <td>0.000000</td>\n      <td>1.000000</td>\n      <td>0.000000</td>\n      <td>0.000000</td>\n      <td>2.000000</td>\n      <td>2.000000</td>\n      <td>2.000000</td>\n      <td>12.000000</td>\n      <td>0.000000</td>\n      <td>0.000000</td>\n      <td>0.000000</td>\n      <td>0.000000</td>\n      <td>0.000000</td>\n      <td>0.000000</td>\n      <td>0.506771</td>\n      <td>0.558758</td>\n      <td>0.519097</td>\n      <td>0.092800</td>\n      <td>0.078100</td>\n      <td>0.981600</td>\n      <td>0.755200</td>\n      <td>0.022700</td>\n      <td>0.000000</td>\n      <td>0.137900</td>\n      <td>0.166700</td>\n      <td>0.208300</td>\n      <td>...</td>\n      <td>0.137900</td>\n      <td>0.166700</td>\n      <td>0.208300</td>\n      <td>0.048800</td>\n      <td>0.077000</td>\n      <td>0.077600</td>\n      <td>0.000000</td>\n      <td>0.003100</td>\n      <td>0.070700</td>\n      <td>0.000000</td>\n      <td>0.000000</td>\n      <td>0.000000</td>\n      <td>0.000000</td>\n      <td>-863.000000</td>\n      <td>0.0</td>\n      <td>1.000000</td>\n      <td>0.000000</td>\n      <td>0.000000</td>\n      <td>0.000000</td>\n      <td>0.000000</td>\n      <td>0.000000</td>\n      <td>0.000000</td>\n      <td>0.0</td>\n      <td>0.000000</td>\n      <td>0.0</td>\n      <td>0.0</td>\n      <td>0.0</td>\n      <td>0.0</td>\n      <td>0.0</td>\n      <td>0.0</td>\n      <td>0.000000</td>\n      <td>0.0</td>\n      <td>0.0</td>\n      <td>0.0</td>\n      <td>0.000000</td>\n      <td>0.000000</td>\n      <td>0.000000</td>\n      <td>0.000000</td>\n      <td>0.000000</td>\n      <td>2.000000</td>\n    </tr>\n    <tr>\n      <th>75%</th>\n      <td>367555.500000</td>\n      <td>1.000000</td>\n      <td>2.250000e+05</td>\n      <td>6.750000e+05</td>\n      <td>37390.500000</td>\n      <td>6.300000e+05</td>\n      <td>0.028663</td>\n      <td>-12496.000000</td>\n      <td>-296.000000</td>\n      <td>-1901.000000</td>\n      <td>-1706.000000</td>\n      <td>15.000000</td>\n      <td>1.000000</td>\n      <td>1.000000</td>\n      <td>0.000000</td>\n      <td>1.000000</td>\n      <td>1.000000</td>\n      <td>0.000000</td>\n      <td>3.000000</td>\n      <td>2.000000</td>\n      <td>2.000000</td>\n      <td>14.000000</td>\n      <td>0.000000</td>\n      <td>0.000000</td>\n      <td>0.000000</td>\n      <td>0.000000</td>\n      <td>0.000000</td>\n      <td>0.000000</td>\n      <td>0.665956</td>\n      <td>0.658497</td>\n      <td>0.652897</td>\n      <td>0.148500</td>\n      <td>0.113400</td>\n      <td>0.986600</td>\n      <td>0.816400</td>\n      <td>0.053900</td>\n      <td>0.160000</td>\n      <td>0.206900</td>\n      <td>0.333300</td>\n      <td>0.375000</td>\n      <td>...</td>\n      <td>0.206900</td>\n      <td>0.333300</td>\n      <td>0.375000</td>\n      <td>0.088000</td>\n      <td>0.126600</td>\n      <td>0.137425</td>\n      <td>0.003900</td>\n      <td>0.028025</td>\n      <td>0.135700</td>\n      <td>2.000000</td>\n      <td>0.000000</td>\n      <td>2.000000</td>\n      <td>0.000000</td>\n      <td>-363.000000</td>\n      <td>0.0</td>\n      <td>1.000000</td>\n      <td>0.000000</td>\n      <td>0.000000</td>\n      <td>0.000000</td>\n      <td>0.000000</td>\n      <td>0.000000</td>\n      <td>0.000000</td>\n      <td>0.0</td>\n      <td>0.000000</td>\n      <td>0.0</td>\n      <td>0.0</td>\n      <td>0.0</td>\n      <td>0.0</td>\n      <td>0.0</td>\n      <td>0.0</td>\n      <td>0.000000</td>\n      <td>0.0</td>\n      <td>0.0</td>\n      <td>0.0</td>\n      <td>0.000000</td>\n      <td>0.000000</td>\n      <td>0.000000</td>\n      <td>0.000000</td>\n      <td>1.000000</td>\n      <td>3.000000</td>\n    </tr>\n    <tr>\n      <th>max</th>\n      <td>456250.000000</td>\n      <td>20.000000</td>\n      <td>4.410000e+06</td>\n      <td>2.245500e+06</td>\n      <td>180576.000000</td>\n      <td>2.245500e+06</td>\n      <td>0.072508</td>\n      <td>-7338.000000</td>\n      <td>365243.000000</td>\n      <td>0.000000</td>\n      <td>0.000000</td>\n      <td>74.000000</td>\n      <td>1.000000</td>\n      <td>1.000000</td>\n      <td>1.000000</td>\n      <td>1.000000</td>\n      <td>1.000000</td>\n      <td>1.000000</td>\n      <td>21.000000</td>\n      <td>3.000000</td>\n      <td>3.000000</td>\n      <td>23.000000</td>\n      <td>1.000000</td>\n      <td>1.000000</td>\n      <td>1.000000</td>\n      <td>1.000000</td>\n      <td>1.000000</td>\n      <td>1.000000</td>\n      <td>0.939145</td>\n      <td>0.855000</td>\n      <td>0.882530</td>\n      <td>1.000000</td>\n      <td>1.000000</td>\n      <td>1.000000</td>\n      <td>1.000000</td>\n      <td>1.000000</td>\n      <td>1.000000</td>\n      <td>1.000000</td>\n      <td>1.000000</td>\n      <td>1.000000</td>\n      <td>...</td>\n      <td>1.000000</td>\n      <td>1.000000</td>\n      <td>1.000000</td>\n      <td>1.000000</td>\n      <td>1.000000</td>\n      <td>1.000000</td>\n      <td>1.000000</td>\n      <td>1.000000</td>\n      <td>1.000000</td>\n      <td>354.000000</td>\n      <td>34.000000</td>\n      <td>351.000000</td>\n      <td>24.000000</td>\n      <td>0.000000</td>\n      <td>0.0</td>\n      <td>1.000000</td>\n      <td>1.000000</td>\n      <td>1.000000</td>\n      <td>1.000000</td>\n      <td>1.000000</td>\n      <td>1.000000</td>\n      <td>1.000000</td>\n      <td>0.0</td>\n      <td>1.000000</td>\n      <td>0.0</td>\n      <td>0.0</td>\n      <td>0.0</td>\n      <td>0.0</td>\n      <td>0.0</td>\n      <td>0.0</td>\n      <td>1.000000</td>\n      <td>0.0</td>\n      <td>0.0</td>\n      <td>0.0</td>\n      <td>2.000000</td>\n      <td>2.000000</td>\n      <td>2.000000</td>\n      <td>6.000000</td>\n      <td>7.000000</td>\n      <td>17.000000</td>\n    </tr>\n  </tbody>\n</table>\n</div>"
          },
          "metadata": {}
        }
      ]
    },
    {
      "metadata": {
        "_uuid": "a2cd0784db432e7600df616f5a6f470b581721e9"
      },
      "cell_type": "markdown",
      "source": "**Checkeo y Correccion de irregularidades en las columnas del dataset**  \nSe realiza el mismo proceso que se uso en el dataset de entrenamiento para corregir las irregularidades encontradas."
    },
    {
      "metadata": {
        "trusted": true,
        "_uuid": "76a8280a8536276ddc17fb99d5f1b3195c208d26"
      },
      "cell_type": "code",
      "source": "data_test['DAYS_BIRTH'] = abs(data_test['DAYS_BIRTH'])/365",
      "execution_count": 156,
      "outputs": []
    },
    {
      "metadata": {
        "trusted": true,
        "scrolled": false,
        "_uuid": "ad74735d1ae17917cdafa90cc0529e43bfb0b2a0"
      },
      "cell_type": "code",
      "source": "#Todo parece estar en orden con las edades\nplt.boxplot(data_test['DAYS_BIRTH'])\nplt.title('Boxplot de las edades.')\nplt.ylabel('Edad.');",
      "execution_count": 157,
      "outputs": [
        {
          "output_type": "display_data",
          "data": {
            "text/plain": "<Figure size 432x288 with 1 Axes>",
            "image/png": "[encoded data removed]"
          },
          "metadata": {}
        }
      ]
    },
    {
      "metadata": {
        "_uuid": "ba28669241986fefab52a928d59cab492193a023"
      },
      "cell_type": "markdown",
      "source": "Para los dias de empleo que tiene en el trabajo actual"
    },
    {
      "metadata": {
        "trusted": true,
        "_uuid": "86c488b88280d375a609535ea0a6673c923d3a2d"
      },
      "cell_type": "code",
      "source": "data_test['DAYS_EMPLOYED'] = abs(data_test['DAYS_EMPLOYED'])/365",
      "execution_count": 158,
      "outputs": []
    },
    {
      "metadata": {
        "trusted": true,
        "_uuid": "811831e0f274cd2651312a34c1303629c125d943"
      },
      "cell_type": "code",
      "source": "#Todo parece estar en orden con las edades\nplt.boxplot(data_test['DAYS_EMPLOYED'])\nplt.title('Boxplot de los años de trabajo')\nplt.ylabel('Años que lleva en el empleo actual.');",
      "execution_count": 159,
      "outputs": [
        {
          "output_type": "display_data",
          "data": {
            "text/plain": "<Figure size 432x288 with 1 Axes>",
            "image/png": "[encoded data removed]"
          },
          "metadata": {}
        }
      ]
    },
    {
      "metadata": {
        "trusted": true,
        "_uuid": "b69b645b53f5d9cd97e23ba7037d73132b9005d2"
      },
      "cell_type": "code",
      "source": "data_test['DAYS_EMPLOYED'].replace(1000.6657534246575, np.nan, inplace=True)",
      "execution_count": 160,
      "outputs": []
    },
    {
      "metadata": {
        "trusted": true,
        "scrolled": true,
        "_uuid": "55d426a93405fb87b055096da53c562b2f9243c8"
      },
      "cell_type": "code",
      "source": "print('Maximo valor: ', data_test['DAYS_EMPLOYED'].max())\nprint('Minimo valor', data_test['DAYS_EMPLOYED'].min())",
      "execution_count": 161,
      "outputs": [
        {
          "output_type": "stream",
          "text": "Maximo valor:  47.843835616438355\nMinimo valor 0.0027397260273972603\n",
          "name": "stdout"
        }
      ]
    },
    {
      "metadata": {
        "_uuid": "bc67702dd4fd152ff7abff2f558f043420a6a8a6"
      },
      "cell_type": "markdown",
      "source": "Para las otras dos variables del mismo formato."
    },
    {
      "metadata": {
        "trusted": true,
        "_uuid": "79a0cbfe1be065709f8690a6d19e5c6db134e247"
      },
      "cell_type": "code",
      "source": "data_test['DAYS_REGISTRATION'] = abs(data_test['DAYS_REGISTRATION'])",
      "execution_count": 162,
      "outputs": []
    },
    {
      "metadata": {
        "trusted": true,
        "_uuid": "b7710bcd418f37cfd12a091ddcef402c0425fc04"
      },
      "cell_type": "code",
      "source": "print('Maximo valor: ', data_test['DAYS_REGISTRATION'].max())\nprint('Minimo valor', data_test['DAYS_REGISTRATION'].min())",
      "execution_count": 163,
      "outputs": [
        {
          "output_type": "stream",
          "text": "Maximo valor:  23722.0\nMinimo valor 0.0\n",
          "name": "stdout"
        }
      ]
    },
    {
      "metadata": {
        "trusted": true,
        "_uuid": "98a5f13a098829f396d34c4983b02eaf179bce85"
      },
      "cell_type": "code",
      "source": "data_test['DAYS_ID_PUBLISH'] = abs(data_test['DAYS_ID_PUBLISH'])",
      "execution_count": 164,
      "outputs": []
    },
    {
      "metadata": {
        "trusted": true,
        "scrolled": true,
        "_uuid": "1d7d83b3873db6669cd152f594a063cf0f3c3b63"
      },
      "cell_type": "code",
      "source": "print('Maximo valor: ', data_test['DAYS_ID_PUBLISH'].max())\nprint('Minimo valor', data_test['DAYS_ID_PUBLISH'].min())",
      "execution_count": 165,
      "outputs": [
        {
          "output_type": "stream",
          "text": "Maximo valor:  6348\nMinimo valor 0\n",
          "name": "stdout"
        }
      ]
    },
    {
      "metadata": {
        "_uuid": "3b5bf4c20a808e4c49f265ff51df3d64e87c6bb0"
      },
      "cell_type": "markdown",
      "source": "**Reviso los valores NaN**\n\nSe puede notar que la proporcion de valores NaN no varia mucho en comparación al dataset de entrenamiento."
    },
    {
      "metadata": {
        "trusted": true,
        "_uuid": "4a3c896f3e39b21ae23189bdd7d6814ab822bc43"
      },
      "cell_type": "code",
      "source": "print('valores NaN', data_test.isnull().sum().sum())\nprint('porcentaje de valores NaN en el DF es de %0.2f%%' %(100*data_test.isnull().sum().sum()/(data_test.shape[0]*data_test.shape[1])))",
      "execution_count": 166,
      "outputs": [
        {
          "output_type": "stream",
          "text": "valores NaN 1413693\nporcentaje de valores NaN en el DF es de 23.97%\n",
          "name": "stdout"
        }
      ]
    },
    {
      "metadata": {
        "_uuid": "7097164b0e21c5007d143d18ffa18d526b93105a"
      },
      "cell_type": "markdown",
      "source": "**Buscando las columnas categoricas**  \nAl tratarse de la parte de un mismo archivo, se puede ver que el dataset de testeo posee las mismas columnas categoricas que el dataset de entrenamiento"
    },
    {
      "metadata": {
        "scrolled": true,
        "trusted": true,
        "_uuid": "b2d047d41f7ba303bce5a3a130b873c7f4d44715"
      },
      "cell_type": "code",
      "source": "data_test.dtypes.value_counts()",
      "execution_count": 167,
      "outputs": [
        {
          "output_type": "execute_result",
          "execution_count": 167,
          "data": {
            "text/plain": "float64    67\nint64      38\nobject     16\ndtype: int64"
          },
          "metadata": {}
        }
      ]
    },
    {
      "metadata": {
        "trusted": true,
        "_uuid": "72f48f4e28ece43487de8400ce354ef80f554261"
      },
      "cell_type": "code",
      "source": "obj_columns = data_test.dtypes[data_test.dtypes.values == 'object'].index.tolist()",
      "execution_count": 168,
      "outputs": []
    },
    {
      "metadata": {
        "trusted": true,
        "_uuid": "0e3893b71a731e1cf20c745b52b09373def16f8e"
      },
      "cell_type": "code",
      "source": "print(data_test[obj_columns].apply(pd.Series.nunique, axis = 0))\nprint('cantidad de elementos unicos en las variables categoricas', data_test[obj_columns].apply(pd.Series.nunique, axis = 0).values.sum())",
      "execution_count": 169,
      "outputs": [
        {
          "output_type": "stream",
          "text": "NAME_CONTRACT_TYPE             2\nCODE_GENDER                    2\nFLAG_OWN_CAR                   2\nFLAG_OWN_REALTY                2\nNAME_TYPE_SUITE                7\nNAME_INCOME_TYPE               7\nNAME_EDUCATION_TYPE            5\nNAME_FAMILY_STATUS             5\nNAME_HOUSING_TYPE              6\nOCCUPATION_TYPE               18\nWEEKDAY_APPR_PROCESS_START     7\nORGANIZATION_TYPE             58\nFONDKAPREMONT_MODE             4\nHOUSETYPE_MODE                 3\nWALLSMATERIAL_MODE             7\nEMERGENCYSTATE_MODE            2\ndtype: int64\ncantidad de elementos unicos en las variables categoricas 137\n",
          "name": "stdout"
        }
      ]
    },
    {
      "metadata": {
        "_uuid": "a1f5d362654504eb2d3702783a6df44536a79e12"
      },
      "cell_type": "markdown",
      "source": "***Aunque si se nota un leve cambio en la cantidad de valores unicos que poseen las columnas categoricas.***"
    },
    {
      "metadata": {
        "collapsed": true,
        "_uuid": "473778c82d61271000f9ed2495efea4b472db246"
      },
      "cell_type": "markdown",
      "source": "# Pre-Procesado de datos\n\n### Codificación de las caracteristicas categoricas\n\n- Usando LabelEncoder para las caracteristicas con 2 categorias\n- Usando OneHotEncoder (para crear variables Dummy) para las caracteristicas que tengan mas de 2 categorias"
    },
    {
      "metadata": {
        "trusted": true,
        "_uuid": "07452e5f835143ce24c78a5a47b6b3203e08211d"
      },
      "cell_type": "code",
      "source": "from sklearn.preprocessing import LabelEncoder",
      "execution_count": 170,
      "outputs": []
    },
    {
      "metadata": {
        "trusted": true,
        "_uuid": "f9f818c88e7f7e922742db2f9ceadb058101b086"
      },
      "cell_type": "code",
      "source": "label = LabelEncoder()\n\nfor i in obj_columns:\n    if len(data_train[i].unique()) <= 2:\n        #entreo el objeto encoder\n        label.fit(data_train[i])\n        #aplico la transformacion en los dos DF principales.\n        data_train[i] = label.transform(data_train[i])\n        data_test[i] = label.transform(data_test[i])\n\n#Ahora codificar las que tienen mas de 2 categorias.\ndata_train = pd.get_dummies(data_train)\ndata_test = pd.get_dummies(data_test)",
      "execution_count": 171,
      "outputs": []
    },
    {
      "metadata": {
        "trusted": true,
        "_uuid": "e65aaeb169dc68b993243114419c858487366649"
      },
      "cell_type": "code",
      "source": "print('Nuevas dimensiones del DF:', data_train.shape)\nprint('Nuevas dimensiones del DF:', data_test.shape)",
      "execution_count": 172,
      "outputs": [
        {
          "output_type": "stream",
          "text": "Nuevas dimensiones del DF: (307511, 243)\nNuevas dimensiones del DF: (48744, 239)\n",
          "name": "stdout"
        }
      ]
    },
    {
      "metadata": {
        "_uuid": "ac2759d72ecb9b6794ca4be1d197efffcac84ee3"
      },
      "cell_type": "markdown",
      "source": "Por esta razon tenemos que modificar los dataset de entrenamiento y prueba, ya que deben tener la misma cantidad de columnas para que el modelo predictivo que se cree nos sirva.  \n\n- Se penso en usar el metodo Join, pero el metodo JOIN nos retornaria un solo dataset, y nosotros necesitamos tener los dos, entonces...\n- Se usara el metodo Align para \"alinear\" los dos archivos y que queden con un mismo numero de columnas, sin tener que necesariamente unirlos."
    },
    {
      "metadata": {
        "trusted": true,
        "_uuid": "c7c9fbb8b22b956a3cd53cdff48d00528d7d6192"
      },
      "cell_type": "code",
      "source": "#Lo primero es salvar nuestra columna de TARGET, porque esta columna no esta en el dataset de pruebas\nTargets = data_train['TARGET']",
      "execution_count": 173,
      "outputs": []
    },
    {
      "metadata": {
        "trusted": true,
        "_uuid": "2feb613cf2d155e98cd9cf267735a52a5934227c"
      },
      "cell_type": "code",
      "source": "#hacemos uso del metodo align, que nos permite \"recortar\" los dataframes para que queden con la misma\n#cantidad de columnas. (Usamos las columnas que tienen en comun los dos dataframes)\n#Usamos axis = 1 para que nos realice el proceso por columnas y no por filas.\ndata_train, data_test = data_train.align(data_test, join='inner', axis=1)",
      "execution_count": 174,
      "outputs": []
    },
    {
      "metadata": {
        "trusted": true,
        "_uuid": "818ab25b9ab80e4ac7a2b8da6e14b60614c4b5a5"
      },
      "cell_type": "code",
      "source": "#Ahora solo hay que agregar de nuevo la columna de los TARGETS a nuestro nuevo dataset de entrenamiento\ndata_train['TARGET'] = Targets",
      "execution_count": 175,
      "outputs": []
    },
    {
      "metadata": {
        "trusted": true,
        "_uuid": "b8dc31bf47d5c3f2debc917f7c31c9274d89d7f6"
      },
      "cell_type": "code",
      "source": "print('Nuevas dimensiones del DF:', data_train.shape)\nprint('Nuevas dimensiones del DF:', data_test.shape)",
      "execution_count": 176,
      "outputs": [
        {
          "output_type": "stream",
          "text": "Nuevas dimensiones del DF: (307511, 240)\nNuevas dimensiones del DF: (48744, 239)\n",
          "name": "stdout"
        }
      ]
    },
    {
      "metadata": {
        "_uuid": "ed2e9e854ac8a79de02084bc5d5c58dedc0d0176"
      },
      "cell_type": "markdown",
      "source": "## Feature Engineering\n\n### Buscando Correlaciones\nEste paso es muy importante ya que podemos encontrar que caracteristicas afectan mas a nuestro *TARGET*"
    },
    {
      "metadata": {
        "trusted": true,
        "_uuid": "bd90e3359c1b7d1f16d6e84a71900175d8243d58"
      },
      "cell_type": "code",
      "source": "corrs = data_train.corr()",
      "execution_count": 177,
      "outputs": []
    },
    {
      "metadata": {
        "_uuid": "3bf4ecc2693276634f865ff267b305991615721e"
      },
      "cell_type": "markdown",
      "source": "Nos interesa ver las correlaciones de las variables contra nuestra variable *TARGET*"
    },
    {
      "metadata": {
        "trusted": true,
        "_uuid": "7812b6a5b6a59456c4f782d7bc215ad9335f7e8b"
      },
      "cell_type": "code",
      "source": "corrs.sort_values('TARGET', inplace=True)",
      "execution_count": 178,
      "outputs": []
    },
    {
      "metadata": {
        "trusted": true,
        "_uuid": "a5e6f606b6ebb0cb9fddbe5592bc322af96aac40"
      },
      "cell_type": "code",
      "source": "corrs = corrs['TARGET']",
      "execution_count": 179,
      "outputs": []
    },
    {
      "metadata": {
        "trusted": true,
        "_uuid": "3f3cf7b8534826d9d15ee873f13e9a8edc104a09"
      },
      "cell_type": "code",
      "source": "corrs.head(10)",
      "execution_count": 180,
      "outputs": [
        {
          "output_type": "execute_result",
          "execution_count": 180,
          "data": {
            "text/plain": "EXT_SOURCE_3                           -0.178919\nEXT_SOURCE_2                           -0.160472\nEXT_SOURCE_1                           -0.155317\nDAYS_BIRTH                             -0.078239\nDAYS_EMPLOYED                          -0.074958\nNAME_EDUCATION_TYPE_Higher education   -0.056593\nCODE_GENDER_F                          -0.054704\nDAYS_ID_PUBLISH                        -0.051457\nNAME_INCOME_TYPE_Pensioner             -0.046209\nORGANIZATION_TYPE_XNA                  -0.045987\nName: TARGET, dtype: float64"
          },
          "metadata": {}
        }
      ]
    },
    {
      "metadata": {
        "trusted": true,
        "_uuid": "ca3a9cf7dd543803fff9dcca083aedf5786e1f63"
      },
      "cell_type": "code",
      "source": "corrs.tail(10)",
      "execution_count": 181,
      "outputs": [
        {
          "output_type": "execute_result",
          "execution_count": 181,
          "data": {
            "text/plain": "REG_CITY_NOT_LIVE_CITY                               0.044395\nFLAG_EMP_PHONE                                       0.045982\nNAME_EDUCATION_TYPE_Secondary / secondary special    0.049824\nREG_CITY_NOT_WORK_CITY                               0.050994\nCODE_GENDER_M                                        0.054713\nDAYS_LAST_PHONE_CHANGE                               0.055218\nNAME_INCOME_TYPE_Working                             0.057481\nREGION_RATING_CLIENT                                 0.058899\nREGION_RATING_CLIENT_W_CITY                          0.060893\nTARGET                                               1.000000\nName: TARGET, dtype: float64"
          },
          "metadata": {}
        }
      ]
    },
    {
      "metadata": {
        "_uuid": "19ccb9d1aa6be2868c6c81ea16819ecfcab5eb74"
      },
      "cell_type": "markdown",
      "source": "Se puede observar que las columnas que afectan mas de manera positiva son:\n- CODE_GENDER_M                                      \n- DAYS_LAST_PHONE_CHANGE                            \n- NAME_INCOME_TYPE_Working                            \n- REGION_RATING_CLIENT                                \n- REGION_RATING_CLIENT_W_CITY \n\nY las que mas afectan de manera negativa son:\n- EXT_SOURCE_3                        \n- EXT_SOURCE_2                         \n- EXT_SOURCE_1                        \n- DAYS_BIRTH                            \n- DAYS_EMPLOYED                          "
    },
    {
      "metadata": {
        "_uuid": "1790eabd4672ee59a27a5a12fdcb1cf64816755c"
      },
      "cell_type": "markdown",
      "source": "Obteniendo las caracteristicas mas importantes con otro metodo... Entrenando un RandomForestClassifier.\n\nPero primero debemos rellenar los NaN  \n\n**Tratamiento de los valores NaN**\n\n- Lo primero es obtener las columnas que poseen valores NaN.\n- Y luego rellenar los valores NaN con alguna estrategia."
    },
    {
      "metadata": {
        "trusted": true,
        "_uuid": "f82f140b1f5114776c945433f2a3922bbf226da2"
      },
      "cell_type": "code",
      "source": "columns_NaN = data_train.isnull().sum()[data_train.isnull().sum().values > 0].index.tolist()",
      "execution_count": 182,
      "outputs": []
    },
    {
      "metadata": {
        "trusted": true,
        "_uuid": "95e13ff20d0df7d896d0b2c9ea02d092c3c6a832"
      },
      "cell_type": "code",
      "source": "data_train['OWN_CAR_AGE'].fillna(0, inplace=True)\ndata_train.fillna(np.mean(data_train), inplace=True)",
      "execution_count": 183,
      "outputs": []
    },
    {
      "metadata": {
        "_uuid": "54a92050a9354e744f0f86fbfbd91c28d6c60b83"
      },
      "cell_type": "markdown",
      "source": "Ahora el mismo procedimiento para el dataset de test"
    },
    {
      "metadata": {
        "trusted": true,
        "_uuid": "eaa104e74b3378bb6a24bedd95d8efd42040ab13"
      },
      "cell_type": "code",
      "source": "columns_NaN = data_test.isnull().sum()[data_test.isnull().sum().values > 0].index.tolist()",
      "execution_count": 184,
      "outputs": []
    },
    {
      "metadata": {
        "trusted": true,
        "_uuid": "a2758ed9a949a2211eb92094178da8259d2a7272"
      },
      "cell_type": "code",
      "source": "data_test['OWN_CAR_AGE'].fillna(0, inplace=True)\ndata_test.fillna(np.mean(data_test), inplace=True)",
      "execution_count": 185,
      "outputs": []
    },
    {
      "metadata": {
        "_uuid": "75fad747a2bf928f2f2df8ebb4a1d0cf86a4f312"
      },
      "cell_type": "markdown",
      "source": "### Creando un bosque aleatorio clasificador para obtener la importancia de las caracteristicas"
    },
    {
      "metadata": {
        "trusted": true,
        "_uuid": "5050a9bd9bedfd88ee68749b61932cfe65cb1879"
      },
      "cell_type": "code",
      "source": "from sklearn.ensemble import RandomForestClassifier",
      "execution_count": 186,
      "outputs": []
    },
    {
      "metadata": {
        "trusted": true,
        "_uuid": "3ee4b68b1dd78ff238ee0f7498608eaaa103c565"
      },
      "cell_type": "code",
      "source": "RFC = RandomForestClassifier()",
      "execution_count": 187,
      "outputs": []
    },
    {
      "metadata": {
        "trusted": true,
        "_uuid": "2914deaff86c9ec8eda431655342e2f4eeee0ba3"
      },
      "cell_type": "code",
      "source": "cl = data_train.columns.values.tolist()\ncl.remove('TARGET')",
      "execution_count": 188,
      "outputs": []
    },
    {
      "metadata": {
        "trusted": true,
        "_uuid": "69e2092dee7423623f6aae94bf1238a6e5bf5054"
      },
      "cell_type": "code",
      "source": "cl = data_train.columns.values.tolist()\ncl.remove('TARGET')\nX = data_train.filter(cl)\ny = data_train['TARGET']\nRFC.fit(X, y)",
      "execution_count": 189,
      "outputs": [
        {
          "output_type": "stream",
          "text": "/opt/conda/lib/python3.6/site-packages/sklearn/ensemble/forest.py:246: FutureWarning: The default value of n_estimators will change from 10 in version 0.20 to 100 in 0.22.\n  \"10 in version 0.20 to 100 in 0.22.\", FutureWarning)\n",
          "name": "stderr"
        },
        {
          "output_type": "execute_result",
          "execution_count": 189,
          "data": {
            "text/plain": "RandomForestClassifier(bootstrap=True, class_weight=None, criterion='gini',\n            max_depth=None, max_features='auto', max_leaf_nodes=None,\n            min_impurity_decrease=0.0, min_impurity_split=None,\n            min_samples_leaf=1, min_samples_split=2,\n            min_weight_fraction_leaf=0.0, n_estimators=10, n_jobs=None,\n            oob_score=False, random_state=None, verbose=0,\n            warm_start=False)"
          },
          "metadata": {}
        }
      ]
    },
    {
      "metadata": {
        "trusted": true,
        "scrolled": true,
        "_uuid": "72f3cf1eb546194462d805d8d57eec32b1cffa56"
      },
      "cell_type": "code",
      "source": "plt.figure(figsize=(15,5))\nplt.bar(X.columns.values.tolist()[:35], RFC.feature_importances_[:35])\nplt.xticks(rotation=90);",
      "execution_count": 190,
      "outputs": [
        {
          "output_type": "display_data",
          "data": {
            "text/plain": "<Figure size 1080x360 with 1 Axes>",
            "image/png": "[encoded data removed]"
          },
          "metadata": {}
        }
      ]
    },
    {
      "metadata": {
        "_uuid": "e94ec52368009a559ed793932266e2cdbd59b2c3"
      },
      "cell_type": "markdown",
      "source": "Como se observo anteriormente con el coeficiente de pearson (con la funcion de pandas .corr()) los campos que mas afectan a nuestro *TARGET* son los de EXT_SORCE_#, y otros como el *INCOME_TOTAL*, *AMT_ANNUITY*, *GOODS_PRICE*, *DAYS_EMPLOYED*, entre otros como se ve en la anterior grafica.  \nY algo curioso es que la edad *DAYS_BIRTH* afecta.  "
    },
    {
      "metadata": {
        "_uuid": "e963783d00f0511c1cf04904ffb8a7dfe613431f"
      },
      "cell_type": "markdown",
      "source": "### Re-Escalado de los datos\nEs necesario hacerlo para que una columna no influya mucho mas que otra por la escala en la que estan los datos."
    },
    {
      "metadata": {
        "trusted": true,
        "_uuid": "9041d77cb54e782b24abfea25bbc2f5124373e7d"
      },
      "cell_type": "code",
      "source": "from sklearn.preprocessing import MinMaxScaler",
      "execution_count": 191,
      "outputs": []
    },
    {
      "metadata": {
        "trusted": true,
        "_uuid": "e8bbe0d9b7865d6c619db95c2d4cacd494f0c818"
      },
      "cell_type": "code",
      "source": "scaler = MinMaxScaler(feature_range=(0,1))",
      "execution_count": 192,
      "outputs": []
    },
    {
      "metadata": {
        "trusted": true,
        "_uuid": "1ca4e84e28b29ea75cce7d0fe6e171278a6a6ee4"
      },
      "cell_type": "code",
      "source": "scaler.fit(X)\nX_train = scaler.transform(X)\nX_test = scaler.transform(data_test)",
      "execution_count": 193,
      "outputs": [
        {
          "output_type": "stream",
          "text": "/opt/conda/lib/python3.6/site-packages/sklearn/preprocessing/data.py:323: DataConversionWarning: Data with input dtype uint8, int64, float64 were all converted to float64 by MinMaxScaler.\n  return self.partial_fit(X, y)\n",
          "name": "stderr"
        }
      ]
    },
    {
      "metadata": {
        "_uuid": "d60addeb0c2afaf4e49728e70d7a8721885c5e56"
      },
      "cell_type": "markdown",
      "source": "## Hacemos unas predicciones para probar lo que hemos hecho hasta aca."
    },
    {
      "metadata": {
        "trusted": true,
        "_uuid": "9034dd20bd3384e89f7a0af7dbeaa5ae03ea0185"
      },
      "cell_type": "code",
      "source": "from sklearn.linear_model import LogisticRegression",
      "execution_count": 194,
      "outputs": []
    },
    {
      "metadata": {
        "trusted": true,
        "_uuid": "aa9887ca3925d472ab262e2a607e7d1bb683690a"
      },
      "cell_type": "code",
      "source": "LR = LogisticRegression()",
      "execution_count": 195,
      "outputs": []
    },
    {
      "metadata": {
        "trusted": true,
        "_uuid": "de8884cd1a5ca8b73b68bbbea4c525795369ee61"
      },
      "cell_type": "code",
      "source": "LR.fit(X_train, y)",
      "execution_count": 196,
      "outputs": [
        {
          "output_type": "stream",
          "text": "/opt/conda/lib/python3.6/site-packages/sklearn/linear_model/logistic.py:433: FutureWarning: Default solver will be changed to 'lbfgs' in 0.22. Specify a solver to silence this warning.\n  FutureWarning)\n",
          "name": "stderr"
        },
        {
          "output_type": "execute_result",
          "execution_count": 196,
          "data": {
            "text/plain": "LogisticRegression(C=1.0, class_weight=None, dual=False, fit_intercept=True,\n          intercept_scaling=1, max_iter=100, multi_class='warn',\n          n_jobs=None, penalty='l2', random_state=None, solver='warn',\n          tol=0.0001, verbose=0, warm_start=False)"
          },
          "metadata": {}
        }
      ]
    },
    {
      "metadata": {
        "trusted": true,
        "_uuid": "eb24bfa386504b764c9f9c67ff214acbc66e457a"
      },
      "cell_type": "code",
      "source": "#Usamos el metodo predict_proba ya que este nos devuelve un array de n x 2, donde n son\n#las observaciones, y 2 son las columnas, la primera columna para las probabilidades de \n#que salga 0 y la segunda para las probabilidades de 1. Para nuestro reto necesitamos \n#la segunda columna.\nresult = LR.predict_proba(X_test)[:,1]",
      "execution_count": 197,
      "outputs": []
    },
    {
      "metadata": {
        "_uuid": "1978bf91bdafd1670136689c91a356370de8c56d"
      },
      "cell_type": "markdown",
      "source": "Ahora que tenemos las probabilidades, tenemos que crear el archivo con el formato que exige la competencia de kaggle para obtener nuestro score."
    },
    {
      "metadata": {
        "trusted": true,
        "_uuid": "552af6961254677ed437c666c71f7debb71f7988"
      },
      "cell_type": "code",
      "source": "submission = data_test[['SK_ID_CURR']]",
      "execution_count": 198,
      "outputs": []
    },
    {
      "metadata": {
        "trusted": true,
        "_uuid": "de0c3b3605481ac7517b304dd9b2aecbe3f0808f"
      },
      "cell_type": "code",
      "source": "submission['TARGET'] = result",
      "execution_count": 199,
      "outputs": [
        {
          "output_type": "stream",
          "text": "/opt/conda/lib/python3.6/site-packages/ipykernel_launcher.py:1: SettingWithCopyWarning: \nA value is trying to be set on a copy of a slice from a DataFrame.\nTry using .loc[row_indexer,col_indexer] = value instead\n\nSee the caveats in the documentation: http://pandas.pydata.org/pandas-docs/stable/indexing.html#indexing-view-versus-copy\n  \"\"\"Entry point for launching an IPython kernel.\n",
          "name": "stderr"
        }
      ]
    },
    {
      "metadata": {
        "trusted": true,
        "_uuid": "eb288488e9f53dd200426a7ec96c40ca64783046"
      },
      "cell_type": "code",
      "source": "submission.head(10)",
      "execution_count": 200,
      "outputs": [
        {
          "output_type": "execute_result",
          "execution_count": 200,
          "data": {
            "text/plain": "   SK_ID_CURR    TARGET\n0      100001  0.056481\n1      100005  0.212261\n2      100013  0.042172\n3      100028  0.034225\n4      100038  0.129258\n5      100042  0.022847\n6      100057  0.019992\n7      100065  0.096406\n8      100066  0.017209\n9      100067  0.112297",
            "text/html": "<div>\n<style scoped>\n    .dataframe tbody tr th:only-of-type {\n        vertical-align: middle;\n    }\n\n    .dataframe tbody tr th {\n        vertical-align: top;\n    }\n\n    .dataframe thead th {\n        text-align: right;\n    }\n</style>\n<table border=\"1\" class=\"dataframe\">\n  <thead>\n    <tr style=\"text-align: right;\">\n      <th></th>\n      <th>SK_ID_CURR</th>\n      <th>TARGET</th>\n    </tr>\n  </thead>\n  <tbody>\n    <tr>\n      <th>0</th>\n      <td>100001</td>\n      <td>0.056481</td>\n    </tr>\n    <tr>\n      <th>1</th>\n      <td>100005</td>\n      <td>0.212261</td>\n    </tr>\n    <tr>\n      <th>2</th>\n      <td>100013</td>\n      <td>0.042172</td>\n    </tr>\n    <tr>\n      <th>3</th>\n      <td>100028</td>\n      <td>0.034225</td>\n    </tr>\n    <tr>\n      <th>4</th>\n      <td>100038</td>\n      <td>0.129258</td>\n    </tr>\n    <tr>\n      <th>5</th>\n      <td>100042</td>\n      <td>0.022847</td>\n    </tr>\n    <tr>\n      <th>6</th>\n      <td>100057</td>\n      <td>0.019992</td>\n    </tr>\n    <tr>\n      <th>7</th>\n      <td>100065</td>\n      <td>0.096406</td>\n    </tr>\n    <tr>\n      <th>8</th>\n      <td>100066</td>\n      <td>0.017209</td>\n    </tr>\n    <tr>\n      <th>9</th>\n      <td>100067</td>\n      <td>0.112297</td>\n    </tr>\n  </tbody>\n</table>\n</div>"
          },
          "metadata": {}
        }
      ]
    },
    {
      "metadata": {
        "trusted": true,
        "_uuid": "d67a36d3412e45dbf75c66d2a23e65aeebe6ecdb"
      },
      "cell_type": "code",
      "source": "submission.to_csv('submission.csv', index=False)",
      "execution_count": 201,
      "outputs": []
    },
    {
      "metadata": {
        "_uuid": "dba4c928cc1de163b59e1e32b78ab560187454e8"
      },
      "cell_type": "markdown",
      "source": "### Probando con un Arbol de clasificacion."
    },
    {
      "metadata": {
        "trusted": true,
        "_uuid": "917989f587ddc65f26e8d964cfb13585f2c71788"
      },
      "cell_type": "code",
      "source": "RFC = RandomForestClassifier(n_estimators=100, n_jobs=-1)\nRFC.fit(X_train,y)\nRF_Results = RFC.predict_proba(X_test)[:,1]",
      "execution_count": 202,
      "outputs": []
    },
    {
      "metadata": {
        "trusted": true,
        "scrolled": false,
        "_uuid": "c24b6775561c67cf332faf6634cfa7df79cf1ae7"
      },
      "cell_type": "code",
      "source": "submission2 = data_test[['SK_ID_CURR']]\nsubmission2['TARGET'] = RF_Results\nsubmission2.head(10)",
      "execution_count": 203,
      "outputs": [
        {
          "output_type": "stream",
          "text": "/opt/conda/lib/python3.6/site-packages/ipykernel_launcher.py:2: SettingWithCopyWarning: \nA value is trying to be set on a copy of a slice from a DataFrame.\nTry using .loc[row_indexer,col_indexer] = value instead\n\nSee the caveats in the documentation: http://pandas.pydata.org/pandas-docs/stable/indexing.html#indexing-view-versus-copy\n  \n",
          "name": "stderr"
        },
        {
          "output_type": "execute_result",
          "execution_count": 203,
          "data": {
            "text/plain": "   SK_ID_CURR  TARGET\n0      100001    0.14\n1      100005    0.11\n2      100013    0.07\n3      100028    0.08\n4      100038    0.19\n5      100042    0.11\n6      100057    0.08\n7      100065    0.09\n8      100066    0.11\n9      100067    0.17",
            "text/html": "<div>\n<style scoped>\n    .dataframe tbody tr th:only-of-type {\n        vertical-align: middle;\n    }\n\n    .dataframe tbody tr th {\n        vertical-align: top;\n    }\n\n    .dataframe thead th {\n        text-align: right;\n    }\n</style>\n<table border=\"1\" class=\"dataframe\">\n  <thead>\n    <tr style=\"text-align: right;\">\n      <th></th>\n      <th>SK_ID_CURR</th>\n      <th>TARGET</th>\n    </tr>\n  </thead>\n  <tbody>\n    <tr>\n      <th>0</th>\n      <td>100001</td>\n      <td>0.14</td>\n    </tr>\n    <tr>\n      <th>1</th>\n      <td>100005</td>\n      <td>0.11</td>\n    </tr>\n    <tr>\n      <th>2</th>\n      <td>100013</td>\n      <td>0.07</td>\n    </tr>\n    <tr>\n      <th>3</th>\n      <td>100028</td>\n      <td>0.08</td>\n    </tr>\n    <tr>\n      <th>4</th>\n      <td>100038</td>\n      <td>0.19</td>\n    </tr>\n    <tr>\n      <th>5</th>\n      <td>100042</td>\n      <td>0.11</td>\n    </tr>\n    <tr>\n      <th>6</th>\n      <td>100057</td>\n      <td>0.08</td>\n    </tr>\n    <tr>\n      <th>7</th>\n      <td>100065</td>\n      <td>0.09</td>\n    </tr>\n    <tr>\n      <th>8</th>\n      <td>100066</td>\n      <td>0.11</td>\n    </tr>\n    <tr>\n      <th>9</th>\n      <td>100067</td>\n      <td>0.17</td>\n    </tr>\n  </tbody>\n</table>\n</div>"
          },
          "metadata": {}
        }
      ]
    },
    {
      "metadata": {
        "trusted": true,
        "_uuid": "6c29e76144e691b56d11084dfecf0430b13b6e14"
      },
      "cell_type": "code",
      "source": "submission2.to_csv('Submission2.csv', index=False)",
      "execution_count": 204,
      "outputs": []
    },
    {
      "metadata": {
        "_uuid": "8e63ba91778e4f3ed90ca2f875d867b6f6248c06"
      },
      "cell_type": "markdown",
      "source": "### Prueba con el algoritmo de GradientBoostingClassifier"
    },
    {
      "metadata": {
        "trusted": true,
        "_uuid": "27f12b2dd9a6159b9ad15ef5fc8f31776c4d080d"
      },
      "cell_type": "code",
      "source": "from sklearn.ensemble import GradientBoostingClassifier\n\nGBC = GradientBoostingClassifier()\nGBC.fit(X_train, y)\nGB_Results = GBC.predict_proba(X_test)[:,1]",
      "execution_count": 205,
      "outputs": []
    },
    {
      "metadata": {
        "trusted": true,
        "_uuid": "cdf833083db4dfaa9b7bc3370207e7567b95743b"
      },
      "cell_type": "code",
      "source": "Submission3 = data_test[['SK_ID_CURR']]",
      "execution_count": 206,
      "outputs": []
    },
    {
      "metadata": {
        "trusted": true,
        "_uuid": "b7ed58283169e85d861730fb4a4edadf04d31a3a"
      },
      "cell_type": "code",
      "source": "Submission3['TARGET'] = GB_Results",
      "execution_count": 207,
      "outputs": [
        {
          "output_type": "stream",
          "text": "/opt/conda/lib/python3.6/site-packages/ipykernel_launcher.py:1: SettingWithCopyWarning: \nA value is trying to be set on a copy of a slice from a DataFrame.\nTry using .loc[row_indexer,col_indexer] = value instead\n\nSee the caveats in the documentation: http://pandas.pydata.org/pandas-docs/stable/indexing.html#indexing-view-versus-copy\n  \"\"\"Entry point for launching an IPython kernel.\n",
          "name": "stderr"
        }
      ]
    },
    {
      "metadata": {
        "trusted": true,
        "_uuid": "f521d57e29757aa44bc90531f2e00e6d621dd128"
      },
      "cell_type": "code",
      "source": "Submission3.head(10)",
      "execution_count": 208,
      "outputs": [
        {
          "output_type": "execute_result",
          "execution_count": 208,
          "data": {
            "text/plain": "   SK_ID_CURR    TARGET\n0      100001  0.048838\n1      100005  0.107343\n2      100013  0.029464\n3      100028  0.039527\n4      100038  0.092788\n5      100042  0.041874\n6      100057  0.030204\n7      100065  0.043056\n8      100066  0.023990\n9      100067  0.098472",
            "text/html": "<div>\n<style scoped>\n    .dataframe tbody tr th:only-of-type {\n        vertical-align: middle;\n    }\n\n    .dataframe tbody tr th {\n        vertical-align: top;\n    }\n\n    .dataframe thead th {\n        text-align: right;\n    }\n</style>\n<table border=\"1\" class=\"dataframe\">\n  <thead>\n    <tr style=\"text-align: right;\">\n      <th></th>\n      <th>SK_ID_CURR</th>\n      <th>TARGET</th>\n    </tr>\n  </thead>\n  <tbody>\n    <tr>\n      <th>0</th>\n      <td>100001</td>\n      <td>0.048838</td>\n    </tr>\n    <tr>\n      <th>1</th>\n      <td>100005</td>\n      <td>0.107343</td>\n    </tr>\n    <tr>\n      <th>2</th>\n      <td>100013</td>\n      <td>0.029464</td>\n    </tr>\n    <tr>\n      <th>3</th>\n      <td>100028</td>\n      <td>0.039527</td>\n    </tr>\n    <tr>\n      <th>4</th>\n      <td>100038</td>\n      <td>0.092788</td>\n    </tr>\n    <tr>\n      <th>5</th>\n      <td>100042</td>\n      <td>0.041874</td>\n    </tr>\n    <tr>\n      <th>6</th>\n      <td>100057</td>\n      <td>0.030204</td>\n    </tr>\n    <tr>\n      <th>7</th>\n      <td>100065</td>\n      <td>0.043056</td>\n    </tr>\n    <tr>\n      <th>8</th>\n      <td>100066</td>\n      <td>0.023990</td>\n    </tr>\n    <tr>\n      <th>9</th>\n      <td>100067</td>\n      <td>0.098472</td>\n    </tr>\n  </tbody>\n</table>\n</div>"
          },
          "metadata": {}
        }
      ]
    },
    {
      "metadata": {
        "trusted": true,
        "_uuid": "49cf873fa0ec6bccc22cba3db526dc862afcf0a1"
      },
      "cell_type": "code",
      "source": "Submission3.to_csv('Submission3.csv', index=False)",
      "execution_count": 209,
      "outputs": []
    },
    {
      "metadata": {
        "_uuid": "7f4b5543e661186ccd94d75e533dc90235225803"
      },
      "cell_type": "markdown",
      "source": "### Reduccion de dimensionalidad con PCA"
    },
    {
      "metadata": {
        "trusted": true,
        "_uuid": "d217e8fdf82f56be578e1614fceb7429ff70121a"
      },
      "cell_type": "markdown",
      "source": "from sklearn.decomposition import PCA\nfrom sklearn.model_selection import cross_val_score, KFold"
    },
    {
      "metadata": {
        "trusted": true,
        "_uuid": "44e4c0e965e9983eb61af4c5a8d7056dc62a427b"
      },
      "cell_type": "code",
      "source": "",
      "execution_count": null,
      "outputs": []
    },
    {
      "metadata": {
        "trusted": true,
        "_uuid": "ce7ea0d4c208515d831621a699725488b1d10f88"
      },
      "cell_type": "code",
      "source": "",
      "execution_count": null,
      "outputs": []
    },
    {
      "metadata": {
        "trusted": true,
        "_uuid": "1fbd03641f376246efc4672991a3b3ce0a683248"
      },
      "cell_type": "code",
      "source": "",
      "execution_count": null,
      "outputs": []
    },
    {
      "metadata": {
        "trusted": true,
        "_uuid": "2843a3bb36be6fb1747e03b2f2a478eddf5b2355"
      },
      "cell_type": "code",
      "source": "",
      "execution_count": null,
      "outputs": []
    }
  ],
  "metadata": {
    "kernelspec": {
      "display_name": "Python 3",
      "language": "python",
      "name": "python3"
    },
    "language_info": {
      "name": "python",
      "version": "3.6.6",
      "mimetype": "text/x-python",
      "codemirror_mode": {
        "name": "ipython",
        "version": 3
      },
      "pygments_lexer": "ipython3",
      "nbconvert_exporter": "python",
      "file_extension": ".py"
    }
  },
  "nbformat": 4,
  "nbformat_minor": 1
}