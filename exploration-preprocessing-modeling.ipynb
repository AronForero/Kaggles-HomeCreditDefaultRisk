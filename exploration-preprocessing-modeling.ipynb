{
  "cells": [
    {
      "metadata": {
        "trusted": true,
        "_uuid": "2479211cab97f1211d9050c19078b6435c3d0b22"
      },
      "cell_type": "code",
      "source": "import pandas as pd\nimport numpy as np\nimport matplotlib.pyplot as plt\n%matplotlib inline",
      "execution_count": 1,
      "outputs": []
    },
    {
      "metadata": {
        "_uuid": "d2c135c40bf5358517bbb500fdc644b499e3a60a"
      },
      "cell_type": "markdown",
      "source": "# Exploracion de datos  \n\n## Application train\n\nImportamos el dataset de entrenamiento, y revisamos sus estadisticas principales rapidamente."
    },
    {
      "metadata": {
        "trusted": true,
        "_uuid": "34ddc37af172b2a5a2bb30da5c7f8e9d748ce459"
      },
      "cell_type": "code",
      "source": "data_train = pd.read_csv('../input/application_train.csv')\nprint(data_train.shape)\ndata_train.head()",
      "execution_count": 2,
      "outputs": [
        {
          "output_type": "stream",
          "text": "(307511, 122)\n",
          "name": "stdout"
        },
        {
          "output_type": "execute_result",
          "execution_count": 2,
          "data": {
            "text/plain": "   SK_ID_CURR             ...              AMT_REQ_CREDIT_BUREAU_YEAR\n0      100002             ...                                     1.0\n1      100003             ...                                     0.0\n2      100004             ...                                     0.0\n3      100006             ...                                     NaN\n4      100007             ...                                     0.0\n\n[5 rows x 122 columns]",
            "text/html": "<div>\n<style scoped>\n    .dataframe tbody tr th:only-of-type {\n        vertical-align: middle;\n    }\n\n    .dataframe tbody tr th {\n        vertical-align: top;\n    }\n\n    .dataframe thead th {\n        text-align: right;\n    }\n</style>\n<table border=\"1\" class=\"dataframe\">\n  <thead>\n    <tr style=\"text-align: right;\">\n      <th></th>\n      <th>SK_ID_CURR</th>\n      <th>TARGET</th>\n      <th>NAME_CONTRACT_TYPE</th>\n      <th>CODE_GENDER</th>\n      <th>FLAG_OWN_CAR</th>\n      <th>FLAG_OWN_REALTY</th>\n      <th>CNT_CHILDREN</th>\n      <th>AMT_INCOME_TOTAL</th>\n      <th>AMT_CREDIT</th>\n      <th>AMT_ANNUITY</th>\n      <th>AMT_GOODS_PRICE</th>\n      <th>NAME_TYPE_SUITE</th>\n      <th>NAME_INCOME_TYPE</th>\n      <th>NAME_EDUCATION_TYPE</th>\n      <th>NAME_FAMILY_STATUS</th>\n      <th>NAME_HOUSING_TYPE</th>\n      <th>REGION_POPULATION_RELATIVE</th>\n      <th>DAYS_BIRTH</th>\n      <th>DAYS_EMPLOYED</th>\n      <th>DAYS_REGISTRATION</th>\n      <th>DAYS_ID_PUBLISH</th>\n      <th>OWN_CAR_AGE</th>\n      <th>FLAG_MOBIL</th>\n      <th>FLAG_EMP_PHONE</th>\n      <th>FLAG_WORK_PHONE</th>\n      <th>FLAG_CONT_MOBILE</th>\n      <th>FLAG_PHONE</th>\n      <th>FLAG_EMAIL</th>\n      <th>OCCUPATION_TYPE</th>\n      <th>CNT_FAM_MEMBERS</th>\n      <th>REGION_RATING_CLIENT</th>\n      <th>REGION_RATING_CLIENT_W_CITY</th>\n      <th>WEEKDAY_APPR_PROCESS_START</th>\n      <th>HOUR_APPR_PROCESS_START</th>\n      <th>REG_REGION_NOT_LIVE_REGION</th>\n      <th>REG_REGION_NOT_WORK_REGION</th>\n      <th>LIVE_REGION_NOT_WORK_REGION</th>\n      <th>REG_CITY_NOT_LIVE_CITY</th>\n      <th>REG_CITY_NOT_WORK_CITY</th>\n      <th>LIVE_CITY_NOT_WORK_CITY</th>\n      <th>...</th>\n      <th>LIVINGAPARTMENTS_MEDI</th>\n      <th>LIVINGAREA_MEDI</th>\n      <th>NONLIVINGAPARTMENTS_MEDI</th>\n      <th>NONLIVINGAREA_MEDI</th>\n      <th>FONDKAPREMONT_MODE</th>\n      <th>HOUSETYPE_MODE</th>\n      <th>TOTALAREA_MODE</th>\n      <th>WALLSMATERIAL_MODE</th>\n      <th>EMERGENCYSTATE_MODE</th>\n      <th>OBS_30_CNT_SOCIAL_CIRCLE</th>\n      <th>DEF_30_CNT_SOCIAL_CIRCLE</th>\n      <th>OBS_60_CNT_SOCIAL_CIRCLE</th>\n      <th>DEF_60_CNT_SOCIAL_CIRCLE</th>\n      <th>DAYS_LAST_PHONE_CHANGE</th>\n      <th>FLAG_DOCUMENT_2</th>\n      <th>FLAG_DOCUMENT_3</th>\n      <th>FLAG_DOCUMENT_4</th>\n      <th>FLAG_DOCUMENT_5</th>\n      <th>FLAG_DOCUMENT_6</th>\n      <th>FLAG_DOCUMENT_7</th>\n      <th>FLAG_DOCUMENT_8</th>\n      <th>FLAG_DOCUMENT_9</th>\n      <th>FLAG_DOCUMENT_10</th>\n      <th>FLAG_DOCUMENT_11</th>\n      <th>FLAG_DOCUMENT_12</th>\n      <th>FLAG_DOCUMENT_13</th>\n      <th>FLAG_DOCUMENT_14</th>\n      <th>FLAG_DOCUMENT_15</th>\n      <th>FLAG_DOCUMENT_16</th>\n      <th>FLAG_DOCUMENT_17</th>\n      <th>FLAG_DOCUMENT_18</th>\n      <th>FLAG_DOCUMENT_19</th>\n      <th>FLAG_DOCUMENT_20</th>\n      <th>FLAG_DOCUMENT_21</th>\n      <th>AMT_REQ_CREDIT_BUREAU_HOUR</th>\n      <th>AMT_REQ_CREDIT_BUREAU_DAY</th>\n      <th>AMT_REQ_CREDIT_BUREAU_WEEK</th>\n      <th>AMT_REQ_CREDIT_BUREAU_MON</th>\n      <th>AMT_REQ_CREDIT_BUREAU_QRT</th>\n      <th>AMT_REQ_CREDIT_BUREAU_YEAR</th>\n    </tr>\n  </thead>\n  <tbody>\n    <tr>\n      <th>0</th>\n      <td>100002</td>\n      <td>1</td>\n      <td>Cash loans</td>\n      <td>M</td>\n      <td>N</td>\n      <td>Y</td>\n      <td>0</td>\n      <td>202500.0</td>\n      <td>406597.5</td>\n      <td>24700.5</td>\n      <td>351000.0</td>\n      <td>Unaccompanied</td>\n      <td>Working</td>\n      <td>Secondary / secondary special</td>\n      <td>Single / not married</td>\n      <td>House / apartment</td>\n      <td>0.018801</td>\n      <td>-9461</td>\n      <td>-637</td>\n      <td>-3648.0</td>\n      <td>-2120</td>\n      <td>NaN</td>\n      <td>1</td>\n      <td>1</td>\n      <td>0</td>\n      <td>1</td>\n      <td>1</td>\n      <td>0</td>\n      <td>Laborers</td>\n      <td>1.0</td>\n      <td>2</td>\n      <td>2</td>\n      <td>WEDNESDAY</td>\n      <td>10</td>\n      <td>0</td>\n      <td>0</td>\n      <td>0</td>\n      <td>0</td>\n      <td>0</td>\n      <td>0</td>\n      <td>...</td>\n      <td>0.0205</td>\n      <td>0.0193</td>\n      <td>0.0000</td>\n      <td>0.00</td>\n      <td>reg oper account</td>\n      <td>block of flats</td>\n      <td>0.0149</td>\n      <td>Stone, brick</td>\n      <td>No</td>\n      <td>2.0</td>\n      <td>2.0</td>\n      <td>2.0</td>\n      <td>2.0</td>\n      <td>-1134.0</td>\n      <td>0</td>\n      <td>1</td>\n      <td>0</td>\n      <td>0</td>\n      <td>0</td>\n      <td>0</td>\n      <td>0</td>\n      <td>0</td>\n      <td>0</td>\n      <td>0</td>\n      <td>0</td>\n      <td>0</td>\n      <td>0</td>\n      <td>0</td>\n      <td>0</td>\n      <td>0</td>\n      <td>0</td>\n      <td>0</td>\n      <td>0</td>\n      <td>0</td>\n      <td>0.0</td>\n      <td>0.0</td>\n      <td>0.0</td>\n      <td>0.0</td>\n      <td>0.0</td>\n      <td>1.0</td>\n    </tr>\n    <tr>\n      <th>1</th>\n      <td>100003</td>\n      <td>0</td>\n      <td>Cash loans</td>\n      <td>F</td>\n      <td>N</td>\n      <td>N</td>\n      <td>0</td>\n      <td>270000.0</td>\n      <td>1293502.5</td>\n      <td>35698.5</td>\n      <td>1129500.0</td>\n      <td>Family</td>\n      <td>State servant</td>\n      <td>Higher education</td>\n      <td>Married</td>\n      <td>House / apartment</td>\n      <td>0.003541</td>\n      <td>-16765</td>\n      <td>-1188</td>\n      <td>-1186.0</td>\n      <td>-291</td>\n      <td>NaN</td>\n      <td>1</td>\n      <td>1</td>\n      <td>0</td>\n      <td>1</td>\n      <td>1</td>\n      <td>0</td>\n      <td>Core staff</td>\n      <td>2.0</td>\n      <td>1</td>\n      <td>1</td>\n      <td>MONDAY</td>\n      <td>11</td>\n      <td>0</td>\n      <td>0</td>\n      <td>0</td>\n      <td>0</td>\n      <td>0</td>\n      <td>0</td>\n      <td>...</td>\n      <td>0.0787</td>\n      <td>0.0558</td>\n      <td>0.0039</td>\n      <td>0.01</td>\n      <td>reg oper account</td>\n      <td>block of flats</td>\n      <td>0.0714</td>\n      <td>Block</td>\n      <td>No</td>\n      <td>1.0</td>\n      <td>0.0</td>\n      <td>1.0</td>\n      <td>0.0</td>\n      <td>-828.0</td>\n      <td>0</td>\n      <td>1</td>\n      <td>0</td>\n      <td>0</td>\n      <td>0</td>\n      <td>0</td>\n      <td>0</td>\n      <td>0</td>\n      <td>0</td>\n      <td>0</td>\n      <td>0</td>\n      <td>0</td>\n      <td>0</td>\n      <td>0</td>\n      <td>0</td>\n      <td>0</td>\n      <td>0</td>\n      <td>0</td>\n      <td>0</td>\n      <td>0</td>\n      <td>0.0</td>\n      <td>0.0</td>\n      <td>0.0</td>\n      <td>0.0</td>\n      <td>0.0</td>\n      <td>0.0</td>\n    </tr>\n    <tr>\n      <th>2</th>\n      <td>100004</td>\n      <td>0</td>\n      <td>Revolving loans</td>\n      <td>M</td>\n      <td>Y</td>\n      <td>Y</td>\n      <td>0</td>\n      <td>67500.0</td>\n      <td>135000.0</td>\n      <td>6750.0</td>\n      <td>135000.0</td>\n      <td>Unaccompanied</td>\n      <td>Working</td>\n      <td>Secondary / secondary special</td>\n      <td>Single / not married</td>\n      <td>House / apartment</td>\n      <td>0.010032</td>\n      <td>-19046</td>\n      <td>-225</td>\n      <td>-4260.0</td>\n      <td>-2531</td>\n      <td>26.0</td>\n      <td>1</td>\n      <td>1</td>\n      <td>1</td>\n      <td>1</td>\n      <td>1</td>\n      <td>0</td>\n      <td>Laborers</td>\n      <td>1.0</td>\n      <td>2</td>\n      <td>2</td>\n      <td>MONDAY</td>\n      <td>9</td>\n      <td>0</td>\n      <td>0</td>\n      <td>0</td>\n      <td>0</td>\n      <td>0</td>\n      <td>0</td>\n      <td>...</td>\n      <td>NaN</td>\n      <td>NaN</td>\n      <td>NaN</td>\n      <td>NaN</td>\n      <td>NaN</td>\n      <td>NaN</td>\n      <td>NaN</td>\n      <td>NaN</td>\n      <td>NaN</td>\n      <td>0.0</td>\n      <td>0.0</td>\n      <td>0.0</td>\n      <td>0.0</td>\n      <td>-815.0</td>\n      <td>0</td>\n      <td>0</td>\n      <td>0</td>\n      <td>0</td>\n      <td>0</td>\n      <td>0</td>\n      <td>0</td>\n      <td>0</td>\n      <td>0</td>\n      <td>0</td>\n      <td>0</td>\n      <td>0</td>\n      <td>0</td>\n      <td>0</td>\n      <td>0</td>\n      <td>0</td>\n      <td>0</td>\n      <td>0</td>\n      <td>0</td>\n      <td>0</td>\n      <td>0.0</td>\n      <td>0.0</td>\n      <td>0.0</td>\n      <td>0.0</td>\n      <td>0.0</td>\n      <td>0.0</td>\n    </tr>\n    <tr>\n      <th>3</th>\n      <td>100006</td>\n      <td>0</td>\n      <td>Cash loans</td>\n      <td>F</td>\n      <td>N</td>\n      <td>Y</td>\n      <td>0</td>\n      <td>135000.0</td>\n      <td>312682.5</td>\n      <td>29686.5</td>\n      <td>297000.0</td>\n      <td>Unaccompanied</td>\n      <td>Working</td>\n      <td>Secondary / secondary special</td>\n      <td>Civil marriage</td>\n      <td>House / apartment</td>\n      <td>0.008019</td>\n      <td>-19005</td>\n      <td>-3039</td>\n      <td>-9833.0</td>\n      <td>-2437</td>\n      <td>NaN</td>\n      <td>1</td>\n      <td>1</td>\n      <td>0</td>\n      <td>1</td>\n      <td>0</td>\n      <td>0</td>\n      <td>Laborers</td>\n      <td>2.0</td>\n      <td>2</td>\n      <td>2</td>\n      <td>WEDNESDAY</td>\n      <td>17</td>\n      <td>0</td>\n      <td>0</td>\n      <td>0</td>\n      <td>0</td>\n      <td>0</td>\n      <td>0</td>\n      <td>...</td>\n      <td>NaN</td>\n      <td>NaN</td>\n      <td>NaN</td>\n      <td>NaN</td>\n      <td>NaN</td>\n      <td>NaN</td>\n      <td>NaN</td>\n      <td>NaN</td>\n      <td>NaN</td>\n      <td>2.0</td>\n      <td>0.0</td>\n      <td>2.0</td>\n      <td>0.0</td>\n      <td>-617.0</td>\n      <td>0</td>\n      <td>1</td>\n      <td>0</td>\n      <td>0</td>\n      <td>0</td>\n      <td>0</td>\n      <td>0</td>\n      <td>0</td>\n      <td>0</td>\n      <td>0</td>\n      <td>0</td>\n      <td>0</td>\n      <td>0</td>\n      <td>0</td>\n      <td>0</td>\n      <td>0</td>\n      <td>0</td>\n      <td>0</td>\n      <td>0</td>\n      <td>0</td>\n      <td>NaN</td>\n      <td>NaN</td>\n      <td>NaN</td>\n      <td>NaN</td>\n      <td>NaN</td>\n      <td>NaN</td>\n    </tr>\n    <tr>\n      <th>4</th>\n      <td>100007</td>\n      <td>0</td>\n      <td>Cash loans</td>\n      <td>M</td>\n      <td>N</td>\n      <td>Y</td>\n      <td>0</td>\n      <td>121500.0</td>\n      <td>513000.0</td>\n      <td>21865.5</td>\n      <td>513000.0</td>\n      <td>Unaccompanied</td>\n      <td>Working</td>\n      <td>Secondary / secondary special</td>\n      <td>Single / not married</td>\n      <td>House / apartment</td>\n      <td>0.028663</td>\n      <td>-19932</td>\n      <td>-3038</td>\n      <td>-4311.0</td>\n      <td>-3458</td>\n      <td>NaN</td>\n      <td>1</td>\n      <td>1</td>\n      <td>0</td>\n      <td>1</td>\n      <td>0</td>\n      <td>0</td>\n      <td>Core staff</td>\n      <td>1.0</td>\n      <td>2</td>\n      <td>2</td>\n      <td>THURSDAY</td>\n      <td>11</td>\n      <td>0</td>\n      <td>0</td>\n      <td>0</td>\n      <td>0</td>\n      <td>1</td>\n      <td>1</td>\n      <td>...</td>\n      <td>NaN</td>\n      <td>NaN</td>\n      <td>NaN</td>\n      <td>NaN</td>\n      <td>NaN</td>\n      <td>NaN</td>\n      <td>NaN</td>\n      <td>NaN</td>\n      <td>NaN</td>\n      <td>0.0</td>\n      <td>0.0</td>\n      <td>0.0</td>\n      <td>0.0</td>\n      <td>-1106.0</td>\n      <td>0</td>\n      <td>0</td>\n      <td>0</td>\n      <td>0</td>\n      <td>0</td>\n      <td>0</td>\n      <td>1</td>\n      <td>0</td>\n      <td>0</td>\n      <td>0</td>\n      <td>0</td>\n      <td>0</td>\n      <td>0</td>\n      <td>0</td>\n      <td>0</td>\n      <td>0</td>\n      <td>0</td>\n      <td>0</td>\n      <td>0</td>\n      <td>0</td>\n      <td>0.0</td>\n      <td>0.0</td>\n      <td>0.0</td>\n      <td>0.0</td>\n      <td>0.0</td>\n      <td>0.0</td>\n    </tr>\n  </tbody>\n</table>\n</div>"
          },
          "metadata": {}
        }
      ]
    },
    {
      "metadata": {
        "_uuid": "2d71123b6df6eaacab9fedfa444a122a96af1d2a"
      },
      "cell_type": "markdown",
      "source": "Al revisar las estadisticas que muestra la sentencia *data_train.describe()* observamos algo extraño en algunas columnas, como la columna *Days_Birth* que tiene valores negativos, y esto se debe a que las edades estan calculadas en dias y de manera relativa a la aplicación del prestamo."
    },
    {
      "metadata": {
        "scrolled": true,
        "trusted": true,
        "_uuid": "8aff612717d3c1e0b17ef5fcf4fb6d6c45d67ff8"
      },
      "cell_type": "code",
      "source": "data_train.describe()",
      "execution_count": 3,
      "outputs": [
        {
          "output_type": "execute_result",
          "execution_count": 3,
          "data": {
            "text/plain": "          SK_ID_CURR             ...              AMT_REQ_CREDIT_BUREAU_YEAR\ncount  307511.000000             ...                           265992.000000\nmean   278180.518577             ...                                1.899974\nstd    102790.175348             ...                                1.869295\nmin    100002.000000             ...                                0.000000\n25%    189145.500000             ...                                0.000000\n50%    278202.000000             ...                                1.000000\n75%    367142.500000             ...                                3.000000\nmax    456255.000000             ...                               25.000000\n\n[8 rows x 106 columns]",
            "text/html": "<div>\n<style scoped>\n    .dataframe tbody tr th:only-of-type {\n        vertical-align: middle;\n    }\n\n    .dataframe tbody tr th {\n        vertical-align: top;\n    }\n\n    .dataframe thead th {\n        text-align: right;\n    }\n</style>\n<table border=\"1\" class=\"dataframe\">\n  <thead>\n    <tr style=\"text-align: right;\">\n      <th></th>\n      <th>SK_ID_CURR</th>\n      <th>TARGET</th>\n      <th>CNT_CHILDREN</th>\n      <th>AMT_INCOME_TOTAL</th>\n      <th>AMT_CREDIT</th>\n      <th>AMT_ANNUITY</th>\n      <th>AMT_GOODS_PRICE</th>\n      <th>REGION_POPULATION_RELATIVE</th>\n      <th>DAYS_BIRTH</th>\n      <th>DAYS_EMPLOYED</th>\n      <th>DAYS_REGISTRATION</th>\n      <th>DAYS_ID_PUBLISH</th>\n      <th>OWN_CAR_AGE</th>\n      <th>FLAG_MOBIL</th>\n      <th>FLAG_EMP_PHONE</th>\n      <th>FLAG_WORK_PHONE</th>\n      <th>FLAG_CONT_MOBILE</th>\n      <th>FLAG_PHONE</th>\n      <th>FLAG_EMAIL</th>\n      <th>CNT_FAM_MEMBERS</th>\n      <th>REGION_RATING_CLIENT</th>\n      <th>REGION_RATING_CLIENT_W_CITY</th>\n      <th>HOUR_APPR_PROCESS_START</th>\n      <th>REG_REGION_NOT_LIVE_REGION</th>\n      <th>REG_REGION_NOT_WORK_REGION</th>\n      <th>LIVE_REGION_NOT_WORK_REGION</th>\n      <th>REG_CITY_NOT_LIVE_CITY</th>\n      <th>REG_CITY_NOT_WORK_CITY</th>\n      <th>LIVE_CITY_NOT_WORK_CITY</th>\n      <th>EXT_SOURCE_1</th>\n      <th>EXT_SOURCE_2</th>\n      <th>EXT_SOURCE_3</th>\n      <th>APARTMENTS_AVG</th>\n      <th>BASEMENTAREA_AVG</th>\n      <th>YEARS_BEGINEXPLUATATION_AVG</th>\n      <th>YEARS_BUILD_AVG</th>\n      <th>COMMONAREA_AVG</th>\n      <th>ELEVATORS_AVG</th>\n      <th>ENTRANCES_AVG</th>\n      <th>FLOORSMAX_AVG</th>\n      <th>...</th>\n      <th>ENTRANCES_MEDI</th>\n      <th>FLOORSMAX_MEDI</th>\n      <th>FLOORSMIN_MEDI</th>\n      <th>LANDAREA_MEDI</th>\n      <th>LIVINGAPARTMENTS_MEDI</th>\n      <th>LIVINGAREA_MEDI</th>\n      <th>NONLIVINGAPARTMENTS_MEDI</th>\n      <th>NONLIVINGAREA_MEDI</th>\n      <th>TOTALAREA_MODE</th>\n      <th>OBS_30_CNT_SOCIAL_CIRCLE</th>\n      <th>DEF_30_CNT_SOCIAL_CIRCLE</th>\n      <th>OBS_60_CNT_SOCIAL_CIRCLE</th>\n      <th>DEF_60_CNT_SOCIAL_CIRCLE</th>\n      <th>DAYS_LAST_PHONE_CHANGE</th>\n      <th>FLAG_DOCUMENT_2</th>\n      <th>FLAG_DOCUMENT_3</th>\n      <th>FLAG_DOCUMENT_4</th>\n      <th>FLAG_DOCUMENT_5</th>\n      <th>FLAG_DOCUMENT_6</th>\n      <th>FLAG_DOCUMENT_7</th>\n      <th>FLAG_DOCUMENT_8</th>\n      <th>FLAG_DOCUMENT_9</th>\n      <th>FLAG_DOCUMENT_10</th>\n      <th>FLAG_DOCUMENT_11</th>\n      <th>FLAG_DOCUMENT_12</th>\n      <th>FLAG_DOCUMENT_13</th>\n      <th>FLAG_DOCUMENT_14</th>\n      <th>FLAG_DOCUMENT_15</th>\n      <th>FLAG_DOCUMENT_16</th>\n      <th>FLAG_DOCUMENT_17</th>\n      <th>FLAG_DOCUMENT_18</th>\n      <th>FLAG_DOCUMENT_19</th>\n      <th>FLAG_DOCUMENT_20</th>\n      <th>FLAG_DOCUMENT_21</th>\n      <th>AMT_REQ_CREDIT_BUREAU_HOUR</th>\n      <th>AMT_REQ_CREDIT_BUREAU_DAY</th>\n      <th>AMT_REQ_CREDIT_BUREAU_WEEK</th>\n      <th>AMT_REQ_CREDIT_BUREAU_MON</th>\n      <th>AMT_REQ_CREDIT_BUREAU_QRT</th>\n      <th>AMT_REQ_CREDIT_BUREAU_YEAR</th>\n    </tr>\n  </thead>\n  <tbody>\n    <tr>\n      <th>count</th>\n      <td>307511.000000</td>\n      <td>307511.000000</td>\n      <td>307511.000000</td>\n      <td>3.075110e+05</td>\n      <td>3.075110e+05</td>\n      <td>307499.000000</td>\n      <td>3.072330e+05</td>\n      <td>307511.000000</td>\n      <td>307511.000000</td>\n      <td>307511.000000</td>\n      <td>307511.000000</td>\n      <td>307511.000000</td>\n      <td>104582.000000</td>\n      <td>307511.000000</td>\n      <td>307511.000000</td>\n      <td>307511.000000</td>\n      <td>307511.000000</td>\n      <td>307511.000000</td>\n      <td>307511.000000</td>\n      <td>307509.000000</td>\n      <td>307511.000000</td>\n      <td>307511.000000</td>\n      <td>307511.000000</td>\n      <td>307511.000000</td>\n      <td>307511.000000</td>\n      <td>307511.000000</td>\n      <td>307511.000000</td>\n      <td>307511.000000</td>\n      <td>307511.000000</td>\n      <td>134133.000000</td>\n      <td>3.068510e+05</td>\n      <td>246546.000000</td>\n      <td>151450.00000</td>\n      <td>127568.000000</td>\n      <td>157504.000000</td>\n      <td>103023.000000</td>\n      <td>92646.000000</td>\n      <td>143620.000000</td>\n      <td>152683.000000</td>\n      <td>154491.000000</td>\n      <td>...</td>\n      <td>152683.000000</td>\n      <td>154491.000000</td>\n      <td>98869.000000</td>\n      <td>124921.000000</td>\n      <td>97312.000000</td>\n      <td>153161.000000</td>\n      <td>93997.000000</td>\n      <td>137829.000000</td>\n      <td>159080.000000</td>\n      <td>306490.000000</td>\n      <td>306490.000000</td>\n      <td>306490.000000</td>\n      <td>306490.000000</td>\n      <td>307510.000000</td>\n      <td>307511.000000</td>\n      <td>307511.000000</td>\n      <td>307511.000000</td>\n      <td>307511.000000</td>\n      <td>307511.000000</td>\n      <td>307511.000000</td>\n      <td>307511.000000</td>\n      <td>307511.000000</td>\n      <td>307511.000000</td>\n      <td>307511.000000</td>\n      <td>307511.000000</td>\n      <td>307511.000000</td>\n      <td>307511.000000</td>\n      <td>307511.00000</td>\n      <td>307511.000000</td>\n      <td>307511.000000</td>\n      <td>307511.000000</td>\n      <td>307511.000000</td>\n      <td>307511.000000</td>\n      <td>307511.000000</td>\n      <td>265992.000000</td>\n      <td>265992.000000</td>\n      <td>265992.000000</td>\n      <td>265992.000000</td>\n      <td>265992.000000</td>\n      <td>265992.000000</td>\n    </tr>\n    <tr>\n      <th>mean</th>\n      <td>278180.518577</td>\n      <td>0.080729</td>\n      <td>0.417052</td>\n      <td>1.687979e+05</td>\n      <td>5.990260e+05</td>\n      <td>27108.573909</td>\n      <td>5.383962e+05</td>\n      <td>0.020868</td>\n      <td>-16036.995067</td>\n      <td>63815.045904</td>\n      <td>-4986.120328</td>\n      <td>-2994.202373</td>\n      <td>12.061091</td>\n      <td>0.999997</td>\n      <td>0.819889</td>\n      <td>0.199368</td>\n      <td>0.998133</td>\n      <td>0.281066</td>\n      <td>0.056720</td>\n      <td>2.152665</td>\n      <td>2.052463</td>\n      <td>2.031521</td>\n      <td>12.063419</td>\n      <td>0.015144</td>\n      <td>0.050769</td>\n      <td>0.040659</td>\n      <td>0.078173</td>\n      <td>0.230454</td>\n      <td>0.179555</td>\n      <td>0.502130</td>\n      <td>5.143927e-01</td>\n      <td>0.510853</td>\n      <td>0.11744</td>\n      <td>0.088442</td>\n      <td>0.977735</td>\n      <td>0.752471</td>\n      <td>0.044621</td>\n      <td>0.078942</td>\n      <td>0.149725</td>\n      <td>0.226282</td>\n      <td>...</td>\n      <td>0.149213</td>\n      <td>0.225897</td>\n      <td>0.231625</td>\n      <td>0.067169</td>\n      <td>0.101954</td>\n      <td>0.108607</td>\n      <td>0.008651</td>\n      <td>0.028236</td>\n      <td>0.102547</td>\n      <td>1.422245</td>\n      <td>0.143421</td>\n      <td>1.405292</td>\n      <td>0.100049</td>\n      <td>-962.858788</td>\n      <td>0.000042</td>\n      <td>0.710023</td>\n      <td>0.000081</td>\n      <td>0.015115</td>\n      <td>0.088055</td>\n      <td>0.000192</td>\n      <td>0.081376</td>\n      <td>0.003896</td>\n      <td>0.000023</td>\n      <td>0.003912</td>\n      <td>0.000007</td>\n      <td>0.003525</td>\n      <td>0.002936</td>\n      <td>0.00121</td>\n      <td>0.009928</td>\n      <td>0.000267</td>\n      <td>0.008130</td>\n      <td>0.000595</td>\n      <td>0.000507</td>\n      <td>0.000335</td>\n      <td>0.006402</td>\n      <td>0.007000</td>\n      <td>0.034362</td>\n      <td>0.267395</td>\n      <td>0.265474</td>\n      <td>1.899974</td>\n    </tr>\n    <tr>\n      <th>std</th>\n      <td>102790.175348</td>\n      <td>0.272419</td>\n      <td>0.722121</td>\n      <td>2.371231e+05</td>\n      <td>4.024908e+05</td>\n      <td>14493.737315</td>\n      <td>3.694465e+05</td>\n      <td>0.013831</td>\n      <td>4363.988632</td>\n      <td>141275.766519</td>\n      <td>3522.886321</td>\n      <td>1509.450419</td>\n      <td>11.944812</td>\n      <td>0.001803</td>\n      <td>0.384280</td>\n      <td>0.399526</td>\n      <td>0.043164</td>\n      <td>0.449521</td>\n      <td>0.231307</td>\n      <td>0.910682</td>\n      <td>0.509034</td>\n      <td>0.502737</td>\n      <td>3.265832</td>\n      <td>0.122126</td>\n      <td>0.219526</td>\n      <td>0.197499</td>\n      <td>0.268444</td>\n      <td>0.421124</td>\n      <td>0.383817</td>\n      <td>0.211062</td>\n      <td>1.910602e-01</td>\n      <td>0.194844</td>\n      <td>0.10824</td>\n      <td>0.082438</td>\n      <td>0.059223</td>\n      <td>0.113280</td>\n      <td>0.076036</td>\n      <td>0.134576</td>\n      <td>0.100049</td>\n      <td>0.144641</td>\n      <td>...</td>\n      <td>0.100368</td>\n      <td>0.145067</td>\n      <td>0.161934</td>\n      <td>0.082167</td>\n      <td>0.093642</td>\n      <td>0.112260</td>\n      <td>0.047415</td>\n      <td>0.070166</td>\n      <td>0.107462</td>\n      <td>2.400989</td>\n      <td>0.446698</td>\n      <td>2.379803</td>\n      <td>0.362291</td>\n      <td>826.808487</td>\n      <td>0.006502</td>\n      <td>0.453752</td>\n      <td>0.009016</td>\n      <td>0.122010</td>\n      <td>0.283376</td>\n      <td>0.013850</td>\n      <td>0.273412</td>\n      <td>0.062295</td>\n      <td>0.004771</td>\n      <td>0.062424</td>\n      <td>0.002550</td>\n      <td>0.059268</td>\n      <td>0.054110</td>\n      <td>0.03476</td>\n      <td>0.099144</td>\n      <td>0.016327</td>\n      <td>0.089798</td>\n      <td>0.024387</td>\n      <td>0.022518</td>\n      <td>0.018299</td>\n      <td>0.083849</td>\n      <td>0.110757</td>\n      <td>0.204685</td>\n      <td>0.916002</td>\n      <td>0.794056</td>\n      <td>1.869295</td>\n    </tr>\n    <tr>\n      <th>min</th>\n      <td>100002.000000</td>\n      <td>0.000000</td>\n      <td>0.000000</td>\n      <td>2.565000e+04</td>\n      <td>4.500000e+04</td>\n      <td>1615.500000</td>\n      <td>4.050000e+04</td>\n      <td>0.000290</td>\n      <td>-25229.000000</td>\n      <td>-17912.000000</td>\n      <td>-24672.000000</td>\n      <td>-7197.000000</td>\n      <td>0.000000</td>\n      <td>0.000000</td>\n      <td>0.000000</td>\n      <td>0.000000</td>\n      <td>0.000000</td>\n      <td>0.000000</td>\n      <td>0.000000</td>\n      <td>1.000000</td>\n      <td>1.000000</td>\n      <td>1.000000</td>\n      <td>0.000000</td>\n      <td>0.000000</td>\n      <td>0.000000</td>\n      <td>0.000000</td>\n      <td>0.000000</td>\n      <td>0.000000</td>\n      <td>0.000000</td>\n      <td>0.014568</td>\n      <td>8.173617e-08</td>\n      <td>0.000527</td>\n      <td>0.00000</td>\n      <td>0.000000</td>\n      <td>0.000000</td>\n      <td>0.000000</td>\n      <td>0.000000</td>\n      <td>0.000000</td>\n      <td>0.000000</td>\n      <td>0.000000</td>\n      <td>...</td>\n      <td>0.000000</td>\n      <td>0.000000</td>\n      <td>0.000000</td>\n      <td>0.000000</td>\n      <td>0.000000</td>\n      <td>0.000000</td>\n      <td>0.000000</td>\n      <td>0.000000</td>\n      <td>0.000000</td>\n      <td>0.000000</td>\n      <td>0.000000</td>\n      <td>0.000000</td>\n      <td>0.000000</td>\n      <td>-4292.000000</td>\n      <td>0.000000</td>\n      <td>0.000000</td>\n      <td>0.000000</td>\n      <td>0.000000</td>\n      <td>0.000000</td>\n      <td>0.000000</td>\n      <td>0.000000</td>\n      <td>0.000000</td>\n      <td>0.000000</td>\n      <td>0.000000</td>\n      <td>0.000000</td>\n      <td>0.000000</td>\n      <td>0.000000</td>\n      <td>0.00000</td>\n      <td>0.000000</td>\n      <td>0.000000</td>\n      <td>0.000000</td>\n      <td>0.000000</td>\n      <td>0.000000</td>\n      <td>0.000000</td>\n      <td>0.000000</td>\n      <td>0.000000</td>\n      <td>0.000000</td>\n      <td>0.000000</td>\n      <td>0.000000</td>\n      <td>0.000000</td>\n    </tr>\n    <tr>\n      <th>25%</th>\n      <td>189145.500000</td>\n      <td>0.000000</td>\n      <td>0.000000</td>\n      <td>1.125000e+05</td>\n      <td>2.700000e+05</td>\n      <td>16524.000000</td>\n      <td>2.385000e+05</td>\n      <td>0.010006</td>\n      <td>-19682.000000</td>\n      <td>-2760.000000</td>\n      <td>-7479.500000</td>\n      <td>-4299.000000</td>\n      <td>5.000000</td>\n      <td>1.000000</td>\n      <td>1.000000</td>\n      <td>0.000000</td>\n      <td>1.000000</td>\n      <td>0.000000</td>\n      <td>0.000000</td>\n      <td>2.000000</td>\n      <td>2.000000</td>\n      <td>2.000000</td>\n      <td>10.000000</td>\n      <td>0.000000</td>\n      <td>0.000000</td>\n      <td>0.000000</td>\n      <td>0.000000</td>\n      <td>0.000000</td>\n      <td>0.000000</td>\n      <td>0.334007</td>\n      <td>3.924574e-01</td>\n      <td>0.370650</td>\n      <td>0.05770</td>\n      <td>0.044200</td>\n      <td>0.976700</td>\n      <td>0.687200</td>\n      <td>0.007800</td>\n      <td>0.000000</td>\n      <td>0.069000</td>\n      <td>0.166700</td>\n      <td>...</td>\n      <td>0.069000</td>\n      <td>0.166700</td>\n      <td>0.083300</td>\n      <td>0.018700</td>\n      <td>0.051300</td>\n      <td>0.045700</td>\n      <td>0.000000</td>\n      <td>0.000000</td>\n      <td>0.041200</td>\n      <td>0.000000</td>\n      <td>0.000000</td>\n      <td>0.000000</td>\n      <td>0.000000</td>\n      <td>-1570.000000</td>\n      <td>0.000000</td>\n      <td>0.000000</td>\n      <td>0.000000</td>\n      <td>0.000000</td>\n      <td>0.000000</td>\n      <td>0.000000</td>\n      <td>0.000000</td>\n      <td>0.000000</td>\n      <td>0.000000</td>\n      <td>0.000000</td>\n      <td>0.000000</td>\n      <td>0.000000</td>\n      <td>0.000000</td>\n      <td>0.00000</td>\n      <td>0.000000</td>\n      <td>0.000000</td>\n      <td>0.000000</td>\n      <td>0.000000</td>\n      <td>0.000000</td>\n      <td>0.000000</td>\n      <td>0.000000</td>\n      <td>0.000000</td>\n      <td>0.000000</td>\n      <td>0.000000</td>\n      <td>0.000000</td>\n      <td>0.000000</td>\n    </tr>\n    <tr>\n      <th>50%</th>\n      <td>278202.000000</td>\n      <td>0.000000</td>\n      <td>0.000000</td>\n      <td>1.471500e+05</td>\n      <td>5.135310e+05</td>\n      <td>24903.000000</td>\n      <td>4.500000e+05</td>\n      <td>0.018850</td>\n      <td>-15750.000000</td>\n      <td>-1213.000000</td>\n      <td>-4504.000000</td>\n      <td>-3254.000000</td>\n      <td>9.000000</td>\n      <td>1.000000</td>\n      <td>1.000000</td>\n      <td>0.000000</td>\n      <td>1.000000</td>\n      <td>0.000000</td>\n      <td>0.000000</td>\n      <td>2.000000</td>\n      <td>2.000000</td>\n      <td>2.000000</td>\n      <td>12.000000</td>\n      <td>0.000000</td>\n      <td>0.000000</td>\n      <td>0.000000</td>\n      <td>0.000000</td>\n      <td>0.000000</td>\n      <td>0.000000</td>\n      <td>0.505998</td>\n      <td>5.659614e-01</td>\n      <td>0.535276</td>\n      <td>0.08760</td>\n      <td>0.076300</td>\n      <td>0.981600</td>\n      <td>0.755200</td>\n      <td>0.021100</td>\n      <td>0.000000</td>\n      <td>0.137900</td>\n      <td>0.166700</td>\n      <td>...</td>\n      <td>0.137900</td>\n      <td>0.166700</td>\n      <td>0.208300</td>\n      <td>0.048700</td>\n      <td>0.076100</td>\n      <td>0.074900</td>\n      <td>0.000000</td>\n      <td>0.003100</td>\n      <td>0.068800</td>\n      <td>0.000000</td>\n      <td>0.000000</td>\n      <td>0.000000</td>\n      <td>0.000000</td>\n      <td>-757.000000</td>\n      <td>0.000000</td>\n      <td>1.000000</td>\n      <td>0.000000</td>\n      <td>0.000000</td>\n      <td>0.000000</td>\n      <td>0.000000</td>\n      <td>0.000000</td>\n      <td>0.000000</td>\n      <td>0.000000</td>\n      <td>0.000000</td>\n      <td>0.000000</td>\n      <td>0.000000</td>\n      <td>0.000000</td>\n      <td>0.00000</td>\n      <td>0.000000</td>\n      <td>0.000000</td>\n      <td>0.000000</td>\n      <td>0.000000</td>\n      <td>0.000000</td>\n      <td>0.000000</td>\n      <td>0.000000</td>\n      <td>0.000000</td>\n      <td>0.000000</td>\n      <td>0.000000</td>\n      <td>0.000000</td>\n      <td>1.000000</td>\n    </tr>\n    <tr>\n      <th>75%</th>\n      <td>367142.500000</td>\n      <td>0.000000</td>\n      <td>1.000000</td>\n      <td>2.025000e+05</td>\n      <td>8.086500e+05</td>\n      <td>34596.000000</td>\n      <td>6.795000e+05</td>\n      <td>0.028663</td>\n      <td>-12413.000000</td>\n      <td>-289.000000</td>\n      <td>-2010.000000</td>\n      <td>-1720.000000</td>\n      <td>15.000000</td>\n      <td>1.000000</td>\n      <td>1.000000</td>\n      <td>0.000000</td>\n      <td>1.000000</td>\n      <td>1.000000</td>\n      <td>0.000000</td>\n      <td>3.000000</td>\n      <td>2.000000</td>\n      <td>2.000000</td>\n      <td>14.000000</td>\n      <td>0.000000</td>\n      <td>0.000000</td>\n      <td>0.000000</td>\n      <td>0.000000</td>\n      <td>0.000000</td>\n      <td>0.000000</td>\n      <td>0.675053</td>\n      <td>6.636171e-01</td>\n      <td>0.669057</td>\n      <td>0.14850</td>\n      <td>0.112200</td>\n      <td>0.986600</td>\n      <td>0.823200</td>\n      <td>0.051500</td>\n      <td>0.120000</td>\n      <td>0.206900</td>\n      <td>0.333300</td>\n      <td>...</td>\n      <td>0.206900</td>\n      <td>0.333300</td>\n      <td>0.375000</td>\n      <td>0.086800</td>\n      <td>0.123100</td>\n      <td>0.130300</td>\n      <td>0.003900</td>\n      <td>0.026600</td>\n      <td>0.127600</td>\n      <td>2.000000</td>\n      <td>0.000000</td>\n      <td>2.000000</td>\n      <td>0.000000</td>\n      <td>-274.000000</td>\n      <td>0.000000</td>\n      <td>1.000000</td>\n      <td>0.000000</td>\n      <td>0.000000</td>\n      <td>0.000000</td>\n      <td>0.000000</td>\n      <td>0.000000</td>\n      <td>0.000000</td>\n      <td>0.000000</td>\n      <td>0.000000</td>\n      <td>0.000000</td>\n      <td>0.000000</td>\n      <td>0.000000</td>\n      <td>0.00000</td>\n      <td>0.000000</td>\n      <td>0.000000</td>\n      <td>0.000000</td>\n      <td>0.000000</td>\n      <td>0.000000</td>\n      <td>0.000000</td>\n      <td>0.000000</td>\n      <td>0.000000</td>\n      <td>0.000000</td>\n      <td>0.000000</td>\n      <td>0.000000</td>\n      <td>3.000000</td>\n    </tr>\n    <tr>\n      <th>max</th>\n      <td>456255.000000</td>\n      <td>1.000000</td>\n      <td>19.000000</td>\n      <td>1.170000e+08</td>\n      <td>4.050000e+06</td>\n      <td>258025.500000</td>\n      <td>4.050000e+06</td>\n      <td>0.072508</td>\n      <td>-7489.000000</td>\n      <td>365243.000000</td>\n      <td>0.000000</td>\n      <td>0.000000</td>\n      <td>91.000000</td>\n      <td>1.000000</td>\n      <td>1.000000</td>\n      <td>1.000000</td>\n      <td>1.000000</td>\n      <td>1.000000</td>\n      <td>1.000000</td>\n      <td>20.000000</td>\n      <td>3.000000</td>\n      <td>3.000000</td>\n      <td>23.000000</td>\n      <td>1.000000</td>\n      <td>1.000000</td>\n      <td>1.000000</td>\n      <td>1.000000</td>\n      <td>1.000000</td>\n      <td>1.000000</td>\n      <td>0.962693</td>\n      <td>8.549997e-01</td>\n      <td>0.896010</td>\n      <td>1.00000</td>\n      <td>1.000000</td>\n      <td>1.000000</td>\n      <td>1.000000</td>\n      <td>1.000000</td>\n      <td>1.000000</td>\n      <td>1.000000</td>\n      <td>1.000000</td>\n      <td>...</td>\n      <td>1.000000</td>\n      <td>1.000000</td>\n      <td>1.000000</td>\n      <td>1.000000</td>\n      <td>1.000000</td>\n      <td>1.000000</td>\n      <td>1.000000</td>\n      <td>1.000000</td>\n      <td>1.000000</td>\n      <td>348.000000</td>\n      <td>34.000000</td>\n      <td>344.000000</td>\n      <td>24.000000</td>\n      <td>0.000000</td>\n      <td>1.000000</td>\n      <td>1.000000</td>\n      <td>1.000000</td>\n      <td>1.000000</td>\n      <td>1.000000</td>\n      <td>1.000000</td>\n      <td>1.000000</td>\n      <td>1.000000</td>\n      <td>1.000000</td>\n      <td>1.000000</td>\n      <td>1.000000</td>\n      <td>1.000000</td>\n      <td>1.000000</td>\n      <td>1.00000</td>\n      <td>1.000000</td>\n      <td>1.000000</td>\n      <td>1.000000</td>\n      <td>1.000000</td>\n      <td>1.000000</td>\n      <td>1.000000</td>\n      <td>4.000000</td>\n      <td>9.000000</td>\n      <td>8.000000</td>\n      <td>27.000000</td>\n      <td>261.000000</td>\n      <td>25.000000</td>\n    </tr>\n  </tbody>\n</table>\n</div>"
          },
          "metadata": {}
        }
      ]
    },
    {
      "metadata": {
        "_uuid": "eba3c18f4e6484f46fa991ee91bbe357ed45fcfb"
      },
      "cell_type": "markdown",
      "source": "Para arreglar esta irregularidad en los datos, sacamos el valor absoluto de los dias que nos presenta el dataset, y para una vision mas comun de la edad, lo convertimos en años dividiendo por 365."
    },
    {
      "metadata": {
        "trusted": true,
        "_uuid": "cd73abc599d06dc246e2b4af7fdb43663575ae70"
      },
      "cell_type": "code",
      "source": "data_train['DAYS_BIRTH'] = abs(data_train['DAYS_BIRTH'])/365",
      "execution_count": 4,
      "outputs": []
    },
    {
      "metadata": {
        "trusted": true,
        "_uuid": "30c3094e76dee9d7df68960f906626ba80f9fa06"
      },
      "cell_type": "code",
      "source": "#revisamos con un boxplot que todo este mas o menos normal y no existan outliers exagerados\nplt.boxplot(data_train['DAYS_BIRTH'])\nplt.title('Boxplot de las edades')\nplt.ylabel('Edad en años');",
      "execution_count": 5,
      "outputs": [
        {
          "output_type": "display_data",
          "data": {
            "text/plain": "<Figure size 432x288 with 1 Axes>",
            "image/png": "[encoded data removed]"
          },
          "metadata": {}
        }
      ]
    },
    {
      "metadata": {
        "_uuid": "9b40e61fbe269f82ec4e5236934d520370d9e3b8"
      },
      "cell_type": "markdown",
      "source": "Todo parece estar bien con las edades, ahora haremos lo mismo con la columna de *DAYS_EMPLOYED* que posee la misma irregularidad"
    },
    {
      "metadata": {
        "trusted": true,
        "_uuid": "6f7983189c56c80415b548162318e9686474c90b"
      },
      "cell_type": "code",
      "source": "data_train['DAYS_EMPLOYED'] = abs(data_train['DAYS_EMPLOYED'])/365",
      "execution_count": 6,
      "outputs": []
    },
    {
      "metadata": {
        "trusted": true,
        "_uuid": "fd62faa840a4df64ada2c3b93d05ce77011fda63"
      },
      "cell_type": "code",
      "source": "plt.boxplot(data_train['DAYS_EMPLOYED'])\nplt.title('Boxplot de los años de trabajo')\nplt.ylabel('Años que lleva en el empleo actual.');",
      "execution_count": 7,
      "outputs": [
        {
          "output_type": "display_data",
          "data": {
            "text/plain": "<Figure size 432x288 with 1 Axes>",
            "image/png": "[encoded data removed]"
          },
          "metadata": {}
        }
      ]
    },
    {
      "metadata": {
        "_uuid": "334a458b6db389cb5571f03e443dfadbb3c9a757"
      },
      "cell_type": "markdown",
      "source": "Y se puede observar que existen outliers, y unos muy exagerados he ilogicos, tanto asi que hay algunos que han estado 1000 años en su ultimo empleo.\n- Estos Outliers se eliminaran inmediatamente, y quedaran como valores *NaN* porque es ilogico e imposible que una persona haya trabajado o vivido 1000 años.\n- Otra cosa importante, es que estos valores extraños, son todos iguales y equivalen a 1000.6657534246575 años de trabajo. **ENTONCES** cuando rellenemos estos valores *NaN* que crearemos, todos van a ser llenados con el mismo valor."
    },
    {
      "metadata": {
        "trusted": true,
        "_uuid": "659bfd3a70c0c13b038c8fdd0d07e216165bc214"
      },
      "cell_type": "code",
      "source": "weird_data = data_train[data_train['DAYS_EMPLOYED'] >= 1000]\n('Los datos raros corresponden a un %0.2f%% de todos los datos.' % (100*weird_data['DAYS_EMPLOYED'].shape[0]/data_train.shape[0]))",
      "execution_count": 8,
      "outputs": [
        {
          "output_type": "execute_result",
          "execution_count": 8,
          "data": {
            "text/plain": "'Los datos raros corresponden a un 18.01% de todos los datos.'"
          },
          "metadata": {}
        }
      ]
    },
    {
      "metadata": {
        "trusted": true,
        "_uuid": "f5ada5ea474b40e40b6aa0adf3614bb21f5a89fc"
      },
      "cell_type": "code",
      "source": "data_train['DAYS_EMPLOYED'].replace(1000.6657534246575, np.nan, inplace=True)",
      "execution_count": 9,
      "outputs": []
    },
    {
      "metadata": {
        "trusted": true,
        "_uuid": "1c2cd982c7a8639bf53a86dc112297201d4643fa"
      },
      "cell_type": "code",
      "source": "#Y graficamos de nuevo para ver el nuevo boxplot, llenando los Valores NaN con el promedio de la columna.\nDays_Job = data_train['DAYS_EMPLOYED'].copy()\nDays_Job.fillna(Days_Job.mean(), inplace=True)\nprint('Se siguen observando Outliers, pero mas logicos, ya que hay personas de mas de 60 años, es posible que lleven 40 años en el mismo trabajo')\nplt.boxplot(Days_Job)\nplt.ylabel('Años que lleva en el empleo actual');",
      "execution_count": 10,
      "outputs": [
        {
          "output_type": "stream",
          "text": "Se siguen observando Outliers, pero mas logicos, ya que hay personas de mas de 60 años, es posible que lleven 40 años en el mismo trabajo\n",
          "name": "stdout"
        },
        {
          "output_type": "display_data",
          "data": {
            "text/plain": "<Figure size 432x288 with 1 Axes>",
            "image/png": "[encoded data removed]"
          },
          "metadata": {}
        }
      ]
    },
    {
      "metadata": {
        "_uuid": "bc7745f024cdf482afb6bd0040b426166665c0a5"
      },
      "cell_type": "markdown",
      "source": "- Revisamos las otras columnas que tienen el mismo formato de dias relativos a la aplicacion del credito, y las transformamos a valores positivos.\n- Los Outliers presentados en estas columnas se pueden pasar por alto, ya que son posibles."
    },
    {
      "metadata": {
        "trusted": true,
        "_uuid": "4195130d7d9d801e8502d51b0b4c2bbbb1868717"
      },
      "cell_type": "code",
      "source": "data_train['DAYS_REGISTRATION'] = abs(data_train['DAYS_REGISTRATION'])",
      "execution_count": 11,
      "outputs": []
    },
    {
      "metadata": {
        "trusted": true,
        "_uuid": "9888dfa7f268fc5fe7d9a0d4c43998f0efa78c39"
      },
      "cell_type": "code",
      "source": "plt.boxplot(data_train['DAYS_REGISTRATION']);",
      "execution_count": 12,
      "outputs": [
        {
          "output_type": "display_data",
          "data": {
            "text/plain": "<Figure size 432x288 with 1 Axes>",
            "image/png": "[encoded data removed]"
          },
          "metadata": {}
        }
      ]
    },
    {
      "metadata": {
        "trusted": true,
        "_uuid": "428ba4f5b169c660a155ae363e5a1d373d1a5186"
      },
      "cell_type": "code",
      "source": "data_train['DAYS_ID_PUBLISH'] = abs(data_train['DAYS_ID_PUBLISH'])",
      "execution_count": 13,
      "outputs": []
    },
    {
      "metadata": {
        "trusted": true,
        "_uuid": "a9a6143461c96c8bf87bf5327ae810b0a6e52efd"
      },
      "cell_type": "code",
      "source": "plt.boxplot(data_train['DAYS_ID_PUBLISH']);",
      "execution_count": 14,
      "outputs": [
        {
          "output_type": "display_data",
          "data": {
            "text/plain": "<Figure size 432x288 with 1 Axes>",
            "image/png": "[encoded data removed]"
          },
          "metadata": {}
        }
      ]
    },
    {
      "metadata": {
        "_uuid": "eb6cd0817f93ee8b41274f2af9a6740d26c829f8"
      },
      "cell_type": "markdown",
      "source": "Graficando se puede ver que nuestro dataset esta muy desbalanceado."
    },
    {
      "metadata": {
        "scrolled": true,
        "trusted": true,
        "_uuid": "9a04be5f5a8fea72048e174d300b9e03347cef87"
      },
      "cell_type": "code",
      "source": "plt.figure(figsize=(5,3))\nplt.hist(data_train['TARGET'].astype(int))\nplt.title('TARGETS')\nplt.xticks([0,1]);",
      "execution_count": 16,
      "outputs": [
        {
          "output_type": "display_data",
          "data": {
            "text/plain": "<Figure size 360x216 with 1 Axes>",
            "image/png": "[encoded data removed]"
          },
          "metadata": {}
        }
      ]
    },
    {
      "metadata": {
        "_uuid": "c5e47d71e877314515ddf22842dcda91596e028f"
      },
      "cell_type": "markdown",
      "source": "Explicitamente se puede ver la proporcion de cada posible valor de nuestro TARGET"
    },
    {
      "metadata": {
        "trusted": true,
        "_uuid": "971c45113189915eeb5b26e5d23352847e7a995d"
      },
      "cell_type": "code",
      "source": "print('target 1 :', sum(data_train.TARGET==1), 'datos')\nprint('target 0 :', sum(data_train.TARGET==0), 'datos')\nprint('------------------')\nprint('%target 1 :', np.mean(data_train.TARGET==1))\nprint('%target 0 :', np.mean(data_train.TARGET==0))",
      "execution_count": 17,
      "outputs": [
        {
          "output_type": "stream",
          "text": "target 1 : 24825 datos\ntarget 0 : 282686 datos\n------------------\n%target 1 : 0.08072881945686496\n%target 0 : 0.9192711805431351\n",
          "name": "stdout"
        }
      ]
    },
    {
      "metadata": {
        "_uuid": "3c1cace866bfb4a3e2759f7ca0eed9f849c6c0d7"
      },
      "cell_type": "markdown",
      "source": "Buscando valores NaN"
    },
    {
      "metadata": {
        "trusted": true,
        "_uuid": "133748ecaf58d9c5c57a30801daa12e5149f868e"
      },
      "cell_type": "code",
      "source": "print('valores NaN', data_train.isnull().sum().sum())\nprint('porcentaje de valores NaN en el DF:', 100*data_train.isnull().sum().sum()/(data_train.shape[0]*data_train.shape[1]))",
      "execution_count": 18,
      "outputs": [
        {
          "output_type": "stream",
          "text": "valores NaN 9207839\nporcentaje de valores NaN en el DF: 24.543541585157744\n",
          "name": "stdout"
        }
      ]
    },
    {
      "metadata": {
        "_uuid": "cd702d5f9715a7b4d973ea50aaccfa55a47b539b"
      },
      "cell_type": "markdown",
      "source": "Los valores NaN se trataran justo antes de empezar a realizar las predicciones, esto con el fin de probar varias maneras de llenar los valores NaN y escoger la que mejor rendimiento presente.\n\n______________________\n\nBuscando caracteristicas categoricas... obtenemos 16!"
    },
    {
      "metadata": {
        "trusted": true,
        "_uuid": "4f3956e345226b826f0c14f831217716ffac4b59"
      },
      "cell_type": "code",
      "source": "data_train.dtypes.value_counts()",
      "execution_count": 19,
      "outputs": [
        {
          "output_type": "execute_result",
          "execution_count": 19,
          "data": {
            "text/plain": "float64    67\nint64      39\nobject     16\ndtype: int64"
          },
          "metadata": {}
        }
      ]
    },
    {
      "metadata": {
        "_uuid": "3e7b0e05f996fa0e3d62df120fd897c671031813"
      },
      "cell_type": "markdown",
      "source": "revisando cuantos valores unicos poseen las caracteristicas categoricas"
    },
    {
      "metadata": {
        "trusted": true,
        "_uuid": "656bdbf9f1708ddbb6d987ab83b4e51d9655525f"
      },
      "cell_type": "code",
      "source": "obj_columns = data_train.dtypes[data_train.dtypes.values == 'object'].index.tolist()",
      "execution_count": 20,
      "outputs": []
    },
    {
      "metadata": {
        "scrolled": true,
        "trusted": true,
        "_uuid": "1ab6d33bfff6d7b974f14467dbc74c3cd3c4d13f"
      },
      "cell_type": "code",
      "source": "print(data_train[obj_columns].apply(pd.Series.nunique, axis = 0))\nprint('cantidad de elementos unicos en las variables categoricas', data_train[obj_columns].apply(pd.Series.nunique, axis = 0).values.sum())",
      "execution_count": 21,
      "outputs": [
        {
          "output_type": "stream",
          "text": "NAME_CONTRACT_TYPE             2\nCODE_GENDER                    3\nFLAG_OWN_CAR                   2\nFLAG_OWN_REALTY                2\nNAME_TYPE_SUITE                7\nNAME_INCOME_TYPE               8\nNAME_EDUCATION_TYPE            5\nNAME_FAMILY_STATUS             6\nNAME_HOUSING_TYPE              6\nOCCUPATION_TYPE               18\nWEEKDAY_APPR_PROCESS_START     7\nORGANIZATION_TYPE             58\nFONDKAPREMONT_MODE             4\nHOUSETYPE_MODE                 3\nWALLSMATERIAL_MODE             7\nEMERGENCYSTATE_MODE            2\ndtype: int64\ncantidad de elementos unicos en las variables categoricas 140\n",
          "name": "stdout"
        }
      ]
    },
    {
      "metadata": {
        "_uuid": "489a713b7ed3003694ef93ac59fc64925aa668e1"
      },
      "cell_type": "markdown",
      "source": "Tienen muy pocos valores unicos"
    },
    {
      "metadata": {
        "_uuid": "cf93b732f8ee6207a6dda37a23fe23b1ad4fba85"
      },
      "cell_type": "markdown",
      "source": "## Application Test\n\nDataset de testeo. Se le realiza el mismo analisis que al anterior.\n\nA primera vista se ve que el conjunto de testeo es significativamente mas pequeño que el conjunto de entrenamiento."
    },
    {
      "metadata": {
        "scrolled": true,
        "trusted": true,
        "_uuid": "0d2abb5b16de2292e0e5816a42db53f050b2f5a5"
      },
      "cell_type": "code",
      "source": "data_test = pd.read_csv('../input/application_test.csv')\nprint(data_test.shape)\ndata_test.head()",
      "execution_count": 22,
      "outputs": [
        {
          "output_type": "stream",
          "text": "(48744, 121)\n",
          "name": "stdout"
        },
        {
          "output_type": "execute_result",
          "execution_count": 22,
          "data": {
            "text/plain": "   SK_ID_CURR            ...             AMT_REQ_CREDIT_BUREAU_YEAR\n0      100001            ...                                    0.0\n1      100005            ...                                    3.0\n2      100013            ...                                    4.0\n3      100028            ...                                    3.0\n4      100038            ...                                    NaN\n\n[5 rows x 121 columns]",
            "text/html": "<div>\n<style scoped>\n    .dataframe tbody tr th:only-of-type {\n        vertical-align: middle;\n    }\n\n    .dataframe tbody tr th {\n        vertical-align: top;\n    }\n\n    .dataframe thead th {\n        text-align: right;\n    }\n</style>\n<table border=\"1\" class=\"dataframe\">\n  <thead>\n    <tr style=\"text-align: right;\">\n      <th></th>\n      <th>SK_ID_CURR</th>\n      <th>NAME_CONTRACT_TYPE</th>\n      <th>CODE_GENDER</th>\n      <th>FLAG_OWN_CAR</th>\n      <th>FLAG_OWN_REALTY</th>\n      <th>CNT_CHILDREN</th>\n      <th>AMT_INCOME_TOTAL</th>\n      <th>AMT_CREDIT</th>\n      <th>AMT_ANNUITY</th>\n      <th>AMT_GOODS_PRICE</th>\n      <th>NAME_TYPE_SUITE</th>\n      <th>NAME_INCOME_TYPE</th>\n      <th>NAME_EDUCATION_TYPE</th>\n      <th>NAME_FAMILY_STATUS</th>\n      <th>NAME_HOUSING_TYPE</th>\n      <th>REGION_POPULATION_RELATIVE</th>\n      <th>DAYS_BIRTH</th>\n      <th>DAYS_EMPLOYED</th>\n      <th>DAYS_REGISTRATION</th>\n      <th>DAYS_ID_PUBLISH</th>\n      <th>OWN_CAR_AGE</th>\n      <th>FLAG_MOBIL</th>\n      <th>FLAG_EMP_PHONE</th>\n      <th>FLAG_WORK_PHONE</th>\n      <th>FLAG_CONT_MOBILE</th>\n      <th>FLAG_PHONE</th>\n      <th>FLAG_EMAIL</th>\n      <th>OCCUPATION_TYPE</th>\n      <th>CNT_FAM_MEMBERS</th>\n      <th>REGION_RATING_CLIENT</th>\n      <th>REGION_RATING_CLIENT_W_CITY</th>\n      <th>WEEKDAY_APPR_PROCESS_START</th>\n      <th>HOUR_APPR_PROCESS_START</th>\n      <th>REG_REGION_NOT_LIVE_REGION</th>\n      <th>REG_REGION_NOT_WORK_REGION</th>\n      <th>LIVE_REGION_NOT_WORK_REGION</th>\n      <th>REG_CITY_NOT_LIVE_CITY</th>\n      <th>REG_CITY_NOT_WORK_CITY</th>\n      <th>LIVE_CITY_NOT_WORK_CITY</th>\n      <th>ORGANIZATION_TYPE</th>\n      <th>...</th>\n      <th>LIVINGAPARTMENTS_MEDI</th>\n      <th>LIVINGAREA_MEDI</th>\n      <th>NONLIVINGAPARTMENTS_MEDI</th>\n      <th>NONLIVINGAREA_MEDI</th>\n      <th>FONDKAPREMONT_MODE</th>\n      <th>HOUSETYPE_MODE</th>\n      <th>TOTALAREA_MODE</th>\n      <th>WALLSMATERIAL_MODE</th>\n      <th>EMERGENCYSTATE_MODE</th>\n      <th>OBS_30_CNT_SOCIAL_CIRCLE</th>\n      <th>DEF_30_CNT_SOCIAL_CIRCLE</th>\n      <th>OBS_60_CNT_SOCIAL_CIRCLE</th>\n      <th>DEF_60_CNT_SOCIAL_CIRCLE</th>\n      <th>DAYS_LAST_PHONE_CHANGE</th>\n      <th>FLAG_DOCUMENT_2</th>\n      <th>FLAG_DOCUMENT_3</th>\n      <th>FLAG_DOCUMENT_4</th>\n      <th>FLAG_DOCUMENT_5</th>\n      <th>FLAG_DOCUMENT_6</th>\n      <th>FLAG_DOCUMENT_7</th>\n      <th>FLAG_DOCUMENT_8</th>\n      <th>FLAG_DOCUMENT_9</th>\n      <th>FLAG_DOCUMENT_10</th>\n      <th>FLAG_DOCUMENT_11</th>\n      <th>FLAG_DOCUMENT_12</th>\n      <th>FLAG_DOCUMENT_13</th>\n      <th>FLAG_DOCUMENT_14</th>\n      <th>FLAG_DOCUMENT_15</th>\n      <th>FLAG_DOCUMENT_16</th>\n      <th>FLAG_DOCUMENT_17</th>\n      <th>FLAG_DOCUMENT_18</th>\n      <th>FLAG_DOCUMENT_19</th>\n      <th>FLAG_DOCUMENT_20</th>\n      <th>FLAG_DOCUMENT_21</th>\n      <th>AMT_REQ_CREDIT_BUREAU_HOUR</th>\n      <th>AMT_REQ_CREDIT_BUREAU_DAY</th>\n      <th>AMT_REQ_CREDIT_BUREAU_WEEK</th>\n      <th>AMT_REQ_CREDIT_BUREAU_MON</th>\n      <th>AMT_REQ_CREDIT_BUREAU_QRT</th>\n      <th>AMT_REQ_CREDIT_BUREAU_YEAR</th>\n    </tr>\n  </thead>\n  <tbody>\n    <tr>\n      <th>0</th>\n      <td>100001</td>\n      <td>Cash loans</td>\n      <td>F</td>\n      <td>N</td>\n      <td>Y</td>\n      <td>0</td>\n      <td>135000.0</td>\n      <td>568800.0</td>\n      <td>20560.5</td>\n      <td>450000.0</td>\n      <td>Unaccompanied</td>\n      <td>Working</td>\n      <td>Higher education</td>\n      <td>Married</td>\n      <td>House / apartment</td>\n      <td>0.018850</td>\n      <td>-19241</td>\n      <td>-2329</td>\n      <td>-5170.0</td>\n      <td>-812</td>\n      <td>NaN</td>\n      <td>1</td>\n      <td>1</td>\n      <td>0</td>\n      <td>1</td>\n      <td>0</td>\n      <td>1</td>\n      <td>NaN</td>\n      <td>2.0</td>\n      <td>2</td>\n      <td>2</td>\n      <td>TUESDAY</td>\n      <td>18</td>\n      <td>0</td>\n      <td>0</td>\n      <td>0</td>\n      <td>0</td>\n      <td>0</td>\n      <td>0</td>\n      <td>Kindergarten</td>\n      <td>...</td>\n      <td>NaN</td>\n      <td>0.0514</td>\n      <td>NaN</td>\n      <td>NaN</td>\n      <td>NaN</td>\n      <td>block of flats</td>\n      <td>0.0392</td>\n      <td>Stone, brick</td>\n      <td>No</td>\n      <td>0.0</td>\n      <td>0.0</td>\n      <td>0.0</td>\n      <td>0.0</td>\n      <td>-1740.0</td>\n      <td>0</td>\n      <td>1</td>\n      <td>0</td>\n      <td>0</td>\n      <td>0</td>\n      <td>0</td>\n      <td>0</td>\n      <td>0</td>\n      <td>0</td>\n      <td>0</td>\n      <td>0</td>\n      <td>0</td>\n      <td>0</td>\n      <td>0</td>\n      <td>0</td>\n      <td>0</td>\n      <td>0</td>\n      <td>0</td>\n      <td>0</td>\n      <td>0</td>\n      <td>0.0</td>\n      <td>0.0</td>\n      <td>0.0</td>\n      <td>0.0</td>\n      <td>0.0</td>\n      <td>0.0</td>\n    </tr>\n    <tr>\n      <th>1</th>\n      <td>100005</td>\n      <td>Cash loans</td>\n      <td>M</td>\n      <td>N</td>\n      <td>Y</td>\n      <td>0</td>\n      <td>99000.0</td>\n      <td>222768.0</td>\n      <td>17370.0</td>\n      <td>180000.0</td>\n      <td>Unaccompanied</td>\n      <td>Working</td>\n      <td>Secondary / secondary special</td>\n      <td>Married</td>\n      <td>House / apartment</td>\n      <td>0.035792</td>\n      <td>-18064</td>\n      <td>-4469</td>\n      <td>-9118.0</td>\n      <td>-1623</td>\n      <td>NaN</td>\n      <td>1</td>\n      <td>1</td>\n      <td>0</td>\n      <td>1</td>\n      <td>0</td>\n      <td>0</td>\n      <td>Low-skill Laborers</td>\n      <td>2.0</td>\n      <td>2</td>\n      <td>2</td>\n      <td>FRIDAY</td>\n      <td>9</td>\n      <td>0</td>\n      <td>0</td>\n      <td>0</td>\n      <td>0</td>\n      <td>0</td>\n      <td>0</td>\n      <td>Self-employed</td>\n      <td>...</td>\n      <td>NaN</td>\n      <td>NaN</td>\n      <td>NaN</td>\n      <td>NaN</td>\n      <td>NaN</td>\n      <td>NaN</td>\n      <td>NaN</td>\n      <td>NaN</td>\n      <td>NaN</td>\n      <td>0.0</td>\n      <td>0.0</td>\n      <td>0.0</td>\n      <td>0.0</td>\n      <td>0.0</td>\n      <td>0</td>\n      <td>1</td>\n      <td>0</td>\n      <td>0</td>\n      <td>0</td>\n      <td>0</td>\n      <td>0</td>\n      <td>0</td>\n      <td>0</td>\n      <td>0</td>\n      <td>0</td>\n      <td>0</td>\n      <td>0</td>\n      <td>0</td>\n      <td>0</td>\n      <td>0</td>\n      <td>0</td>\n      <td>0</td>\n      <td>0</td>\n      <td>0</td>\n      <td>0.0</td>\n      <td>0.0</td>\n      <td>0.0</td>\n      <td>0.0</td>\n      <td>0.0</td>\n      <td>3.0</td>\n    </tr>\n    <tr>\n      <th>2</th>\n      <td>100013</td>\n      <td>Cash loans</td>\n      <td>M</td>\n      <td>Y</td>\n      <td>Y</td>\n      <td>0</td>\n      <td>202500.0</td>\n      <td>663264.0</td>\n      <td>69777.0</td>\n      <td>630000.0</td>\n      <td>NaN</td>\n      <td>Working</td>\n      <td>Higher education</td>\n      <td>Married</td>\n      <td>House / apartment</td>\n      <td>0.019101</td>\n      <td>-20038</td>\n      <td>-4458</td>\n      <td>-2175.0</td>\n      <td>-3503</td>\n      <td>5.0</td>\n      <td>1</td>\n      <td>1</td>\n      <td>0</td>\n      <td>1</td>\n      <td>0</td>\n      <td>0</td>\n      <td>Drivers</td>\n      <td>2.0</td>\n      <td>2</td>\n      <td>2</td>\n      <td>MONDAY</td>\n      <td>14</td>\n      <td>0</td>\n      <td>0</td>\n      <td>0</td>\n      <td>0</td>\n      <td>0</td>\n      <td>0</td>\n      <td>Transport: type 3</td>\n      <td>...</td>\n      <td>NaN</td>\n      <td>NaN</td>\n      <td>NaN</td>\n      <td>NaN</td>\n      <td>NaN</td>\n      <td>NaN</td>\n      <td>NaN</td>\n      <td>NaN</td>\n      <td>NaN</td>\n      <td>0.0</td>\n      <td>0.0</td>\n      <td>0.0</td>\n      <td>0.0</td>\n      <td>-856.0</td>\n      <td>0</td>\n      <td>0</td>\n      <td>0</td>\n      <td>0</td>\n      <td>0</td>\n      <td>0</td>\n      <td>1</td>\n      <td>0</td>\n      <td>0</td>\n      <td>0</td>\n      <td>0</td>\n      <td>0</td>\n      <td>0</td>\n      <td>0</td>\n      <td>0</td>\n      <td>0</td>\n      <td>0</td>\n      <td>0</td>\n      <td>0</td>\n      <td>0</td>\n      <td>0.0</td>\n      <td>0.0</td>\n      <td>0.0</td>\n      <td>0.0</td>\n      <td>1.0</td>\n      <td>4.0</td>\n    </tr>\n    <tr>\n      <th>3</th>\n      <td>100028</td>\n      <td>Cash loans</td>\n      <td>F</td>\n      <td>N</td>\n      <td>Y</td>\n      <td>2</td>\n      <td>315000.0</td>\n      <td>1575000.0</td>\n      <td>49018.5</td>\n      <td>1575000.0</td>\n      <td>Unaccompanied</td>\n      <td>Working</td>\n      <td>Secondary / secondary special</td>\n      <td>Married</td>\n      <td>House / apartment</td>\n      <td>0.026392</td>\n      <td>-13976</td>\n      <td>-1866</td>\n      <td>-2000.0</td>\n      <td>-4208</td>\n      <td>NaN</td>\n      <td>1</td>\n      <td>1</td>\n      <td>0</td>\n      <td>1</td>\n      <td>1</td>\n      <td>0</td>\n      <td>Sales staff</td>\n      <td>4.0</td>\n      <td>2</td>\n      <td>2</td>\n      <td>WEDNESDAY</td>\n      <td>11</td>\n      <td>0</td>\n      <td>0</td>\n      <td>0</td>\n      <td>0</td>\n      <td>0</td>\n      <td>0</td>\n      <td>Business Entity Type 3</td>\n      <td>...</td>\n      <td>0.2446</td>\n      <td>0.3739</td>\n      <td>0.0388</td>\n      <td>0.0817</td>\n      <td>reg oper account</td>\n      <td>block of flats</td>\n      <td>0.3700</td>\n      <td>Panel</td>\n      <td>No</td>\n      <td>0.0</td>\n      <td>0.0</td>\n      <td>0.0</td>\n      <td>0.0</td>\n      <td>-1805.0</td>\n      <td>0</td>\n      <td>1</td>\n      <td>0</td>\n      <td>0</td>\n      <td>0</td>\n      <td>0</td>\n      <td>0</td>\n      <td>0</td>\n      <td>0</td>\n      <td>0</td>\n      <td>0</td>\n      <td>0</td>\n      <td>0</td>\n      <td>0</td>\n      <td>0</td>\n      <td>0</td>\n      <td>0</td>\n      <td>0</td>\n      <td>0</td>\n      <td>0</td>\n      <td>0.0</td>\n      <td>0.0</td>\n      <td>0.0</td>\n      <td>0.0</td>\n      <td>0.0</td>\n      <td>3.0</td>\n    </tr>\n    <tr>\n      <th>4</th>\n      <td>100038</td>\n      <td>Cash loans</td>\n      <td>M</td>\n      <td>Y</td>\n      <td>N</td>\n      <td>1</td>\n      <td>180000.0</td>\n      <td>625500.0</td>\n      <td>32067.0</td>\n      <td>625500.0</td>\n      <td>Unaccompanied</td>\n      <td>Working</td>\n      <td>Secondary / secondary special</td>\n      <td>Married</td>\n      <td>House / apartment</td>\n      <td>0.010032</td>\n      <td>-13040</td>\n      <td>-2191</td>\n      <td>-4000.0</td>\n      <td>-4262</td>\n      <td>16.0</td>\n      <td>1</td>\n      <td>1</td>\n      <td>1</td>\n      <td>1</td>\n      <td>0</td>\n      <td>0</td>\n      <td>NaN</td>\n      <td>3.0</td>\n      <td>2</td>\n      <td>2</td>\n      <td>FRIDAY</td>\n      <td>5</td>\n      <td>0</td>\n      <td>0</td>\n      <td>0</td>\n      <td>0</td>\n      <td>1</td>\n      <td>1</td>\n      <td>Business Entity Type 3</td>\n      <td>...</td>\n      <td>NaN</td>\n      <td>NaN</td>\n      <td>NaN</td>\n      <td>NaN</td>\n      <td>NaN</td>\n      <td>NaN</td>\n      <td>NaN</td>\n      <td>NaN</td>\n      <td>NaN</td>\n      <td>0.0</td>\n      <td>0.0</td>\n      <td>0.0</td>\n      <td>0.0</td>\n      <td>-821.0</td>\n      <td>0</td>\n      <td>1</td>\n      <td>0</td>\n      <td>0</td>\n      <td>0</td>\n      <td>0</td>\n      <td>0</td>\n      <td>0</td>\n      <td>0</td>\n      <td>0</td>\n      <td>0</td>\n      <td>0</td>\n      <td>0</td>\n      <td>0</td>\n      <td>0</td>\n      <td>0</td>\n      <td>0</td>\n      <td>0</td>\n      <td>0</td>\n      <td>0</td>\n      <td>NaN</td>\n      <td>NaN</td>\n      <td>NaN</td>\n      <td>NaN</td>\n      <td>NaN</td>\n      <td>NaN</td>\n    </tr>\n  </tbody>\n</table>\n</div>"
          },
          "metadata": {}
        }
      ]
    },
    {
      "metadata": {
        "scrolled": true,
        "trusted": true,
        "_uuid": "7f7039a64e7eaa492bba475150081b54caca6b9f"
      },
      "cell_type": "code",
      "source": "data_test.describe()",
      "execution_count": 23,
      "outputs": [
        {
          "output_type": "execute_result",
          "execution_count": 23,
          "data": {
            "text/plain": "          SK_ID_CURR             ...              AMT_REQ_CREDIT_BUREAU_YEAR\ncount   48744.000000             ...                            42695.000000\nmean   277796.676350             ...                                1.983769\nstd    103169.547296             ...                                1.838873\nmin    100001.000000             ...                                0.000000\n25%    188557.750000             ...                                0.000000\n50%    277549.000000             ...                                2.000000\n75%    367555.500000             ...                                3.000000\nmax    456250.000000             ...                               17.000000\n\n[8 rows x 105 columns]",
            "text/html": "<div>\n<style scoped>\n    .dataframe tbody tr th:only-of-type {\n        vertical-align: middle;\n    }\n\n    .dataframe tbody tr th {\n        vertical-align: top;\n    }\n\n    .dataframe thead th {\n        text-align: right;\n    }\n</style>\n<table border=\"1\" class=\"dataframe\">\n  <thead>\n    <tr style=\"text-align: right;\">\n      <th></th>\n      <th>SK_ID_CURR</th>\n      <th>CNT_CHILDREN</th>\n      <th>AMT_INCOME_TOTAL</th>\n      <th>AMT_CREDIT</th>\n      <th>AMT_ANNUITY</th>\n      <th>AMT_GOODS_PRICE</th>\n      <th>REGION_POPULATION_RELATIVE</th>\n      <th>DAYS_BIRTH</th>\n      <th>DAYS_EMPLOYED</th>\n      <th>DAYS_REGISTRATION</th>\n      <th>DAYS_ID_PUBLISH</th>\n      <th>OWN_CAR_AGE</th>\n      <th>FLAG_MOBIL</th>\n      <th>FLAG_EMP_PHONE</th>\n      <th>FLAG_WORK_PHONE</th>\n      <th>FLAG_CONT_MOBILE</th>\n      <th>FLAG_PHONE</th>\n      <th>FLAG_EMAIL</th>\n      <th>CNT_FAM_MEMBERS</th>\n      <th>REGION_RATING_CLIENT</th>\n      <th>REGION_RATING_CLIENT_W_CITY</th>\n      <th>HOUR_APPR_PROCESS_START</th>\n      <th>REG_REGION_NOT_LIVE_REGION</th>\n      <th>REG_REGION_NOT_WORK_REGION</th>\n      <th>LIVE_REGION_NOT_WORK_REGION</th>\n      <th>REG_CITY_NOT_LIVE_CITY</th>\n      <th>REG_CITY_NOT_WORK_CITY</th>\n      <th>LIVE_CITY_NOT_WORK_CITY</th>\n      <th>EXT_SOURCE_1</th>\n      <th>EXT_SOURCE_2</th>\n      <th>EXT_SOURCE_3</th>\n      <th>APARTMENTS_AVG</th>\n      <th>BASEMENTAREA_AVG</th>\n      <th>YEARS_BEGINEXPLUATATION_AVG</th>\n      <th>YEARS_BUILD_AVG</th>\n      <th>COMMONAREA_AVG</th>\n      <th>ELEVATORS_AVG</th>\n      <th>ENTRANCES_AVG</th>\n      <th>FLOORSMAX_AVG</th>\n      <th>FLOORSMIN_AVG</th>\n      <th>...</th>\n      <th>ENTRANCES_MEDI</th>\n      <th>FLOORSMAX_MEDI</th>\n      <th>FLOORSMIN_MEDI</th>\n      <th>LANDAREA_MEDI</th>\n      <th>LIVINGAPARTMENTS_MEDI</th>\n      <th>LIVINGAREA_MEDI</th>\n      <th>NONLIVINGAPARTMENTS_MEDI</th>\n      <th>NONLIVINGAREA_MEDI</th>\n      <th>TOTALAREA_MODE</th>\n      <th>OBS_30_CNT_SOCIAL_CIRCLE</th>\n      <th>DEF_30_CNT_SOCIAL_CIRCLE</th>\n      <th>OBS_60_CNT_SOCIAL_CIRCLE</th>\n      <th>DEF_60_CNT_SOCIAL_CIRCLE</th>\n      <th>DAYS_LAST_PHONE_CHANGE</th>\n      <th>FLAG_DOCUMENT_2</th>\n      <th>FLAG_DOCUMENT_3</th>\n      <th>FLAG_DOCUMENT_4</th>\n      <th>FLAG_DOCUMENT_5</th>\n      <th>FLAG_DOCUMENT_6</th>\n      <th>FLAG_DOCUMENT_7</th>\n      <th>FLAG_DOCUMENT_8</th>\n      <th>FLAG_DOCUMENT_9</th>\n      <th>FLAG_DOCUMENT_10</th>\n      <th>FLAG_DOCUMENT_11</th>\n      <th>FLAG_DOCUMENT_12</th>\n      <th>FLAG_DOCUMENT_13</th>\n      <th>FLAG_DOCUMENT_14</th>\n      <th>FLAG_DOCUMENT_15</th>\n      <th>FLAG_DOCUMENT_16</th>\n      <th>FLAG_DOCUMENT_17</th>\n      <th>FLAG_DOCUMENT_18</th>\n      <th>FLAG_DOCUMENT_19</th>\n      <th>FLAG_DOCUMENT_20</th>\n      <th>FLAG_DOCUMENT_21</th>\n      <th>AMT_REQ_CREDIT_BUREAU_HOUR</th>\n      <th>AMT_REQ_CREDIT_BUREAU_DAY</th>\n      <th>AMT_REQ_CREDIT_BUREAU_WEEK</th>\n      <th>AMT_REQ_CREDIT_BUREAU_MON</th>\n      <th>AMT_REQ_CREDIT_BUREAU_QRT</th>\n      <th>AMT_REQ_CREDIT_BUREAU_YEAR</th>\n    </tr>\n  </thead>\n  <tbody>\n    <tr>\n      <th>count</th>\n      <td>48744.000000</td>\n      <td>48744.000000</td>\n      <td>4.874400e+04</td>\n      <td>4.874400e+04</td>\n      <td>48720.000000</td>\n      <td>4.874400e+04</td>\n      <td>48744.000000</td>\n      <td>48744.000000</td>\n      <td>48744.000000</td>\n      <td>48744.000000</td>\n      <td>48744.000000</td>\n      <td>16432.000000</td>\n      <td>48744.000000</td>\n      <td>48744.000000</td>\n      <td>48744.000000</td>\n      <td>48744.000000</td>\n      <td>48744.000000</td>\n      <td>48744.000000</td>\n      <td>48744.000000</td>\n      <td>48744.000000</td>\n      <td>48744.000000</td>\n      <td>48744.000000</td>\n      <td>48744.000000</td>\n      <td>48744.000000</td>\n      <td>48744.000000</td>\n      <td>48744.000000</td>\n      <td>48744.000000</td>\n      <td>48744.000000</td>\n      <td>28212.000000</td>\n      <td>48736.000000</td>\n      <td>40076.000000</td>\n      <td>24857.000000</td>\n      <td>21103.000000</td>\n      <td>25888.000000</td>\n      <td>16926.000000</td>\n      <td>15249.000000</td>\n      <td>23555.000000</td>\n      <td>25165.000000</td>\n      <td>25423.000000</td>\n      <td>16278.000000</td>\n      <td>...</td>\n      <td>25165.000000</td>\n      <td>25423.000000</td>\n      <td>16278.000000</td>\n      <td>20490.000000</td>\n      <td>15964.000000</td>\n      <td>25192.000000</td>\n      <td>15397.000000</td>\n      <td>22660.000000</td>\n      <td>26120.000000</td>\n      <td>48715.000000</td>\n      <td>48715.000000</td>\n      <td>48715.000000</td>\n      <td>48715.000000</td>\n      <td>48744.000000</td>\n      <td>48744.0</td>\n      <td>48744.000000</td>\n      <td>48744.000000</td>\n      <td>48744.000000</td>\n      <td>48744.000000</td>\n      <td>48744.000000</td>\n      <td>48744.000000</td>\n      <td>48744.000000</td>\n      <td>48744.0</td>\n      <td>48744.000000</td>\n      <td>48744.0</td>\n      <td>48744.0</td>\n      <td>48744.0</td>\n      <td>48744.0</td>\n      <td>48744.0</td>\n      <td>48744.0</td>\n      <td>48744.000000</td>\n      <td>48744.0</td>\n      <td>48744.0</td>\n      <td>48744.0</td>\n      <td>42695.000000</td>\n      <td>42695.000000</td>\n      <td>42695.000000</td>\n      <td>42695.000000</td>\n      <td>42695.000000</td>\n      <td>42695.000000</td>\n    </tr>\n    <tr>\n      <th>mean</th>\n      <td>277796.676350</td>\n      <td>0.397054</td>\n      <td>1.784318e+05</td>\n      <td>5.167404e+05</td>\n      <td>29426.240209</td>\n      <td>4.626188e+05</td>\n      <td>0.021226</td>\n      <td>-16068.084605</td>\n      <td>67485.366322</td>\n      <td>-4967.652716</td>\n      <td>-3051.712949</td>\n      <td>11.786027</td>\n      <td>0.999979</td>\n      <td>0.809720</td>\n      <td>0.204702</td>\n      <td>0.998400</td>\n      <td>0.263130</td>\n      <td>0.162646</td>\n      <td>2.146767</td>\n      <td>2.038159</td>\n      <td>2.012596</td>\n      <td>12.007365</td>\n      <td>0.018833</td>\n      <td>0.055166</td>\n      <td>0.042036</td>\n      <td>0.077466</td>\n      <td>0.224664</td>\n      <td>0.174216</td>\n      <td>0.501180</td>\n      <td>0.518021</td>\n      <td>0.500106</td>\n      <td>0.122388</td>\n      <td>0.090065</td>\n      <td>0.978828</td>\n      <td>0.751137</td>\n      <td>0.047624</td>\n      <td>0.085168</td>\n      <td>0.151777</td>\n      <td>0.233706</td>\n      <td>0.238423</td>\n      <td>...</td>\n      <td>0.151200</td>\n      <td>0.233154</td>\n      <td>0.237846</td>\n      <td>0.068069</td>\n      <td>0.107063</td>\n      <td>0.113368</td>\n      <td>0.008979</td>\n      <td>0.029296</td>\n      <td>0.107129</td>\n      <td>1.447644</td>\n      <td>0.143652</td>\n      <td>1.435738</td>\n      <td>0.101139</td>\n      <td>-1077.766228</td>\n      <td>0.0</td>\n      <td>0.786620</td>\n      <td>0.000103</td>\n      <td>0.014751</td>\n      <td>0.087477</td>\n      <td>0.000041</td>\n      <td>0.088462</td>\n      <td>0.004493</td>\n      <td>0.0</td>\n      <td>0.001169</td>\n      <td>0.0</td>\n      <td>0.0</td>\n      <td>0.0</td>\n      <td>0.0</td>\n      <td>0.0</td>\n      <td>0.0</td>\n      <td>0.001559</td>\n      <td>0.0</td>\n      <td>0.0</td>\n      <td>0.0</td>\n      <td>0.002108</td>\n      <td>0.001803</td>\n      <td>0.002787</td>\n      <td>0.009299</td>\n      <td>0.546902</td>\n      <td>1.983769</td>\n    </tr>\n    <tr>\n      <th>std</th>\n      <td>103169.547296</td>\n      <td>0.709047</td>\n      <td>1.015226e+05</td>\n      <td>3.653970e+05</td>\n      <td>16016.368315</td>\n      <td>3.367102e+05</td>\n      <td>0.014428</td>\n      <td>4325.900393</td>\n      <td>144348.507136</td>\n      <td>3552.612035</td>\n      <td>1569.276709</td>\n      <td>11.462889</td>\n      <td>0.004529</td>\n      <td>0.392526</td>\n      <td>0.403488</td>\n      <td>0.039971</td>\n      <td>0.440337</td>\n      <td>0.369046</td>\n      <td>0.890423</td>\n      <td>0.522694</td>\n      <td>0.515804</td>\n      <td>3.278172</td>\n      <td>0.135937</td>\n      <td>0.228306</td>\n      <td>0.200673</td>\n      <td>0.267332</td>\n      <td>0.417365</td>\n      <td>0.379299</td>\n      <td>0.205142</td>\n      <td>0.181278</td>\n      <td>0.189498</td>\n      <td>0.113112</td>\n      <td>0.081536</td>\n      <td>0.049318</td>\n      <td>0.113188</td>\n      <td>0.082868</td>\n      <td>0.139164</td>\n      <td>0.100669</td>\n      <td>0.147361</td>\n      <td>0.164976</td>\n      <td>...</td>\n      <td>0.100931</td>\n      <td>0.147629</td>\n      <td>0.165241</td>\n      <td>0.082869</td>\n      <td>0.099737</td>\n      <td>0.116503</td>\n      <td>0.048148</td>\n      <td>0.072998</td>\n      <td>0.111420</td>\n      <td>3.608053</td>\n      <td>0.514413</td>\n      <td>3.580125</td>\n      <td>0.403791</td>\n      <td>878.920740</td>\n      <td>0.0</td>\n      <td>0.409698</td>\n      <td>0.010128</td>\n      <td>0.120554</td>\n      <td>0.282536</td>\n      <td>0.006405</td>\n      <td>0.283969</td>\n      <td>0.066879</td>\n      <td>0.0</td>\n      <td>0.034176</td>\n      <td>0.0</td>\n      <td>0.0</td>\n      <td>0.0</td>\n      <td>0.0</td>\n      <td>0.0</td>\n      <td>0.0</td>\n      <td>0.039456</td>\n      <td>0.0</td>\n      <td>0.0</td>\n      <td>0.0</td>\n      <td>0.046373</td>\n      <td>0.046132</td>\n      <td>0.054037</td>\n      <td>0.110924</td>\n      <td>0.693305</td>\n      <td>1.838873</td>\n    </tr>\n    <tr>\n      <th>min</th>\n      <td>100001.000000</td>\n      <td>0.000000</td>\n      <td>2.694150e+04</td>\n      <td>4.500000e+04</td>\n      <td>2295.000000</td>\n      <td>4.500000e+04</td>\n      <td>0.000253</td>\n      <td>-25195.000000</td>\n      <td>-17463.000000</td>\n      <td>-23722.000000</td>\n      <td>-6348.000000</td>\n      <td>0.000000</td>\n      <td>0.000000</td>\n      <td>0.000000</td>\n      <td>0.000000</td>\n      <td>0.000000</td>\n      <td>0.000000</td>\n      <td>0.000000</td>\n      <td>1.000000</td>\n      <td>1.000000</td>\n      <td>-1.000000</td>\n      <td>0.000000</td>\n      <td>0.000000</td>\n      <td>0.000000</td>\n      <td>0.000000</td>\n      <td>0.000000</td>\n      <td>0.000000</td>\n      <td>0.000000</td>\n      <td>0.013458</td>\n      <td>0.000008</td>\n      <td>0.000527</td>\n      <td>0.000000</td>\n      <td>0.000000</td>\n      <td>0.000000</td>\n      <td>0.000000</td>\n      <td>0.000000</td>\n      <td>0.000000</td>\n      <td>0.000000</td>\n      <td>0.000000</td>\n      <td>0.000000</td>\n      <td>...</td>\n      <td>0.000000</td>\n      <td>0.000000</td>\n      <td>0.000000</td>\n      <td>0.000000</td>\n      <td>0.000000</td>\n      <td>0.000000</td>\n      <td>0.000000</td>\n      <td>0.000000</td>\n      <td>0.000000</td>\n      <td>0.000000</td>\n      <td>0.000000</td>\n      <td>0.000000</td>\n      <td>0.000000</td>\n      <td>-4361.000000</td>\n      <td>0.0</td>\n      <td>0.000000</td>\n      <td>0.000000</td>\n      <td>0.000000</td>\n      <td>0.000000</td>\n      <td>0.000000</td>\n      <td>0.000000</td>\n      <td>0.000000</td>\n      <td>0.0</td>\n      <td>0.000000</td>\n      <td>0.0</td>\n      <td>0.0</td>\n      <td>0.0</td>\n      <td>0.0</td>\n      <td>0.0</td>\n      <td>0.0</td>\n      <td>0.000000</td>\n      <td>0.0</td>\n      <td>0.0</td>\n      <td>0.0</td>\n      <td>0.000000</td>\n      <td>0.000000</td>\n      <td>0.000000</td>\n      <td>0.000000</td>\n      <td>0.000000</td>\n      <td>0.000000</td>\n    </tr>\n    <tr>\n      <th>25%</th>\n      <td>188557.750000</td>\n      <td>0.000000</td>\n      <td>1.125000e+05</td>\n      <td>2.606400e+05</td>\n      <td>17973.000000</td>\n      <td>2.250000e+05</td>\n      <td>0.010006</td>\n      <td>-19637.000000</td>\n      <td>-2910.000000</td>\n      <td>-7459.250000</td>\n      <td>-4448.000000</td>\n      <td>4.000000</td>\n      <td>1.000000</td>\n      <td>1.000000</td>\n      <td>0.000000</td>\n      <td>1.000000</td>\n      <td>0.000000</td>\n      <td>0.000000</td>\n      <td>2.000000</td>\n      <td>2.000000</td>\n      <td>2.000000</td>\n      <td>10.000000</td>\n      <td>0.000000</td>\n      <td>0.000000</td>\n      <td>0.000000</td>\n      <td>0.000000</td>\n      <td>0.000000</td>\n      <td>0.000000</td>\n      <td>0.343695</td>\n      <td>0.408066</td>\n      <td>0.363945</td>\n      <td>0.061900</td>\n      <td>0.046700</td>\n      <td>0.976700</td>\n      <td>0.687200</td>\n      <td>0.008100</td>\n      <td>0.000000</td>\n      <td>0.074500</td>\n      <td>0.166700</td>\n      <td>0.104200</td>\n      <td>...</td>\n      <td>0.069000</td>\n      <td>0.166700</td>\n      <td>0.083300</td>\n      <td>0.019000</td>\n      <td>0.051300</td>\n      <td>0.049000</td>\n      <td>0.000000</td>\n      <td>0.000000</td>\n      <td>0.043200</td>\n      <td>0.000000</td>\n      <td>0.000000</td>\n      <td>0.000000</td>\n      <td>0.000000</td>\n      <td>-1766.250000</td>\n      <td>0.0</td>\n      <td>1.000000</td>\n      <td>0.000000</td>\n      <td>0.000000</td>\n      <td>0.000000</td>\n      <td>0.000000</td>\n      <td>0.000000</td>\n      <td>0.000000</td>\n      <td>0.0</td>\n      <td>0.000000</td>\n      <td>0.0</td>\n      <td>0.0</td>\n      <td>0.0</td>\n      <td>0.0</td>\n      <td>0.0</td>\n      <td>0.0</td>\n      <td>0.000000</td>\n      <td>0.0</td>\n      <td>0.0</td>\n      <td>0.0</td>\n      <td>0.000000</td>\n      <td>0.000000</td>\n      <td>0.000000</td>\n      <td>0.000000</td>\n      <td>0.000000</td>\n      <td>0.000000</td>\n    </tr>\n    <tr>\n      <th>50%</th>\n      <td>277549.000000</td>\n      <td>0.000000</td>\n      <td>1.575000e+05</td>\n      <td>4.500000e+05</td>\n      <td>26199.000000</td>\n      <td>3.960000e+05</td>\n      <td>0.018850</td>\n      <td>-15785.000000</td>\n      <td>-1293.000000</td>\n      <td>-4490.000000</td>\n      <td>-3234.000000</td>\n      <td>9.000000</td>\n      <td>1.000000</td>\n      <td>1.000000</td>\n      <td>0.000000</td>\n      <td>1.000000</td>\n      <td>0.000000</td>\n      <td>0.000000</td>\n      <td>2.000000</td>\n      <td>2.000000</td>\n      <td>2.000000</td>\n      <td>12.000000</td>\n      <td>0.000000</td>\n      <td>0.000000</td>\n      <td>0.000000</td>\n      <td>0.000000</td>\n      <td>0.000000</td>\n      <td>0.000000</td>\n      <td>0.506771</td>\n      <td>0.558758</td>\n      <td>0.519097</td>\n      <td>0.092800</td>\n      <td>0.078100</td>\n      <td>0.981600</td>\n      <td>0.755200</td>\n      <td>0.022700</td>\n      <td>0.000000</td>\n      <td>0.137900</td>\n      <td>0.166700</td>\n      <td>0.208300</td>\n      <td>...</td>\n      <td>0.137900</td>\n      <td>0.166700</td>\n      <td>0.208300</td>\n      <td>0.048800</td>\n      <td>0.077000</td>\n      <td>0.077600</td>\n      <td>0.000000</td>\n      <td>0.003100</td>\n      <td>0.070700</td>\n      <td>0.000000</td>\n      <td>0.000000</td>\n      <td>0.000000</td>\n      <td>0.000000</td>\n      <td>-863.000000</td>\n      <td>0.0</td>\n      <td>1.000000</td>\n      <td>0.000000</td>\n      <td>0.000000</td>\n      <td>0.000000</td>\n      <td>0.000000</td>\n      <td>0.000000</td>\n      <td>0.000000</td>\n      <td>0.0</td>\n      <td>0.000000</td>\n      <td>0.0</td>\n      <td>0.0</td>\n      <td>0.0</td>\n      <td>0.0</td>\n      <td>0.0</td>\n      <td>0.0</td>\n      <td>0.000000</td>\n      <td>0.0</td>\n      <td>0.0</td>\n      <td>0.0</td>\n      <td>0.000000</td>\n      <td>0.000000</td>\n      <td>0.000000</td>\n      <td>0.000000</td>\n      <td>0.000000</td>\n      <td>2.000000</td>\n    </tr>\n    <tr>\n      <th>75%</th>\n      <td>367555.500000</td>\n      <td>1.000000</td>\n      <td>2.250000e+05</td>\n      <td>6.750000e+05</td>\n      <td>37390.500000</td>\n      <td>6.300000e+05</td>\n      <td>0.028663</td>\n      <td>-12496.000000</td>\n      <td>-296.000000</td>\n      <td>-1901.000000</td>\n      <td>-1706.000000</td>\n      <td>15.000000</td>\n      <td>1.000000</td>\n      <td>1.000000</td>\n      <td>0.000000</td>\n      <td>1.000000</td>\n      <td>1.000000</td>\n      <td>0.000000</td>\n      <td>3.000000</td>\n      <td>2.000000</td>\n      <td>2.000000</td>\n      <td>14.000000</td>\n      <td>0.000000</td>\n      <td>0.000000</td>\n      <td>0.000000</td>\n      <td>0.000000</td>\n      <td>0.000000</td>\n      <td>0.000000</td>\n      <td>0.665956</td>\n      <td>0.658497</td>\n      <td>0.652897</td>\n      <td>0.148500</td>\n      <td>0.113400</td>\n      <td>0.986600</td>\n      <td>0.816400</td>\n      <td>0.053900</td>\n      <td>0.160000</td>\n      <td>0.206900</td>\n      <td>0.333300</td>\n      <td>0.375000</td>\n      <td>...</td>\n      <td>0.206900</td>\n      <td>0.333300</td>\n      <td>0.375000</td>\n      <td>0.088000</td>\n      <td>0.126600</td>\n      <td>0.137425</td>\n      <td>0.003900</td>\n      <td>0.028025</td>\n      <td>0.135700</td>\n      <td>2.000000</td>\n      <td>0.000000</td>\n      <td>2.000000</td>\n      <td>0.000000</td>\n      <td>-363.000000</td>\n      <td>0.0</td>\n      <td>1.000000</td>\n      <td>0.000000</td>\n      <td>0.000000</td>\n      <td>0.000000</td>\n      <td>0.000000</td>\n      <td>0.000000</td>\n      <td>0.000000</td>\n      <td>0.0</td>\n      <td>0.000000</td>\n      <td>0.0</td>\n      <td>0.0</td>\n      <td>0.0</td>\n      <td>0.0</td>\n      <td>0.0</td>\n      <td>0.0</td>\n      <td>0.000000</td>\n      <td>0.0</td>\n      <td>0.0</td>\n      <td>0.0</td>\n      <td>0.000000</td>\n      <td>0.000000</td>\n      <td>0.000000</td>\n      <td>0.000000</td>\n      <td>1.000000</td>\n      <td>3.000000</td>\n    </tr>\n    <tr>\n      <th>max</th>\n      <td>456250.000000</td>\n      <td>20.000000</td>\n      <td>4.410000e+06</td>\n      <td>2.245500e+06</td>\n      <td>180576.000000</td>\n      <td>2.245500e+06</td>\n      <td>0.072508</td>\n      <td>-7338.000000</td>\n      <td>365243.000000</td>\n      <td>0.000000</td>\n      <td>0.000000</td>\n      <td>74.000000</td>\n      <td>1.000000</td>\n      <td>1.000000</td>\n      <td>1.000000</td>\n      <td>1.000000</td>\n      <td>1.000000</td>\n      <td>1.000000</td>\n      <td>21.000000</td>\n      <td>3.000000</td>\n      <td>3.000000</td>\n      <td>23.000000</td>\n      <td>1.000000</td>\n      <td>1.000000</td>\n      <td>1.000000</td>\n      <td>1.000000</td>\n      <td>1.000000</td>\n      <td>1.000000</td>\n      <td>0.939145</td>\n      <td>0.855000</td>\n      <td>0.882530</td>\n      <td>1.000000</td>\n      <td>1.000000</td>\n      <td>1.000000</td>\n      <td>1.000000</td>\n      <td>1.000000</td>\n      <td>1.000000</td>\n      <td>1.000000</td>\n      <td>1.000000</td>\n      <td>1.000000</td>\n      <td>...</td>\n      <td>1.000000</td>\n      <td>1.000000</td>\n      <td>1.000000</td>\n      <td>1.000000</td>\n      <td>1.000000</td>\n      <td>1.000000</td>\n      <td>1.000000</td>\n      <td>1.000000</td>\n      <td>1.000000</td>\n      <td>354.000000</td>\n      <td>34.000000</td>\n      <td>351.000000</td>\n      <td>24.000000</td>\n      <td>0.000000</td>\n      <td>0.0</td>\n      <td>1.000000</td>\n      <td>1.000000</td>\n      <td>1.000000</td>\n      <td>1.000000</td>\n      <td>1.000000</td>\n      <td>1.000000</td>\n      <td>1.000000</td>\n      <td>0.0</td>\n      <td>1.000000</td>\n      <td>0.0</td>\n      <td>0.0</td>\n      <td>0.0</td>\n      <td>0.0</td>\n      <td>0.0</td>\n      <td>0.0</td>\n      <td>1.000000</td>\n      <td>0.0</td>\n      <td>0.0</td>\n      <td>0.0</td>\n      <td>2.000000</td>\n      <td>2.000000</td>\n      <td>2.000000</td>\n      <td>6.000000</td>\n      <td>7.000000</td>\n      <td>17.000000</td>\n    </tr>\n  </tbody>\n</table>\n</div>"
          },
          "metadata": {}
        }
      ]
    },
    {
      "metadata": {
        "_uuid": "a2cd0784db432e7600df616f5a6f470b581721e9"
      },
      "cell_type": "markdown",
      "source": "**Checkeo y Correccion de irregularidades en las columnas del dataset**  \nSe realiza el mismo proceso que se uso en el dataset de entrenamiento para corregir las irregularidades encontradas."
    },
    {
      "metadata": {
        "trusted": true,
        "_uuid": "76a8280a8536276ddc17fb99d5f1b3195c208d26"
      },
      "cell_type": "code",
      "source": "data_test['DAYS_BIRTH'] = abs(data_test['DAYS_BIRTH'])/365",
      "execution_count": 24,
      "outputs": []
    },
    {
      "metadata": {
        "trusted": true,
        "scrolled": false,
        "_uuid": "ad74735d1ae17917cdafa90cc0529e43bfb0b2a0"
      },
      "cell_type": "code",
      "source": "#Todo parece estar en orden con las edades\nplt.boxplot(data_test['DAYS_BIRTH'])\nplt.title('Boxplot de las edades.')\nplt.ylabel('Edad.');",
      "execution_count": 25,
      "outputs": [
        {
          "output_type": "display_data",
          "data": {
            "text/plain": "<Figure size 432x288 with 1 Axes>",
            "image/png": "[encoded data removed]"
          },
          "metadata": {}
        }
      ]
    },
    {
      "metadata": {
        "_uuid": "ba28669241986fefab52a928d59cab492193a023"
      },
      "cell_type": "markdown",
      "source": "Para los dias de empleo que tiene en el trabajo actual"
    },
    {
      "metadata": {
        "trusted": true,
        "_uuid": "86c488b88280d375a609535ea0a6673c923d3a2d"
      },
      "cell_type": "code",
      "source": "data_test['DAYS_EMPLOYED'] = abs(data_test['DAYS_EMPLOYED'])/365",
      "execution_count": 26,
      "outputs": []
    },
    {
      "metadata": {
        "trusted": true,
        "_uuid": "811831e0f274cd2651312a34c1303629c125d943"
      },
      "cell_type": "code",
      "source": "#Todo parece estar en orden con las edades\nplt.boxplot(data_test['DAYS_EMPLOYED'])\nplt.title('Boxplot de los años de trabajo')\nplt.ylabel('Años que lleva en el empleo actual.');",
      "execution_count": 27,
      "outputs": [
        {
          "output_type": "display_data",
          "data": {
            "text/plain": "<Figure size 432x288 with 1 Axes>",
            "image/png": "[encoded data removed]"
          },
          "metadata": {}
        }
      ]
    },
    {
      "metadata": {
        "trusted": true,
        "_uuid": "b69b645b53f5d9cd97e23ba7037d73132b9005d2"
      },
      "cell_type": "code",
      "source": "data_test['DAYS_EMPLOYED'].replace(1000.6657534246575, np.nan, inplace=True)",
      "execution_count": 28,
      "outputs": []
    },
    {
      "metadata": {
        "trusted": true,
        "scrolled": true,
        "_uuid": "55d426a93405fb87b055096da53c562b2f9243c8"
      },
      "cell_type": "code",
      "source": "print('Maximo valor: ', data_test['DAYS_EMPLOYED'].max())\nprint('Minimo valor', data_test['DAYS_EMPLOYED'].min())",
      "execution_count": 29,
      "outputs": [
        {
          "output_type": "stream",
          "text": "Maximo valor:  47.843835616438355\nMinimo valor 0.0027397260273972603\n",
          "name": "stdout"
        }
      ]
    },
    {
      "metadata": {
        "_uuid": "bc67702dd4fd152ff7abff2f558f043420a6a8a6"
      },
      "cell_type": "markdown",
      "source": "Para las otras dos variables del mismo formato."
    },
    {
      "metadata": {
        "trusted": true,
        "_uuid": "79a0cbfe1be065709f8690a6d19e5c6db134e247"
      },
      "cell_type": "code",
      "source": "data_test['DAYS_REGISTRATION'] = abs(data_test['DAYS_REGISTRATION'])",
      "execution_count": 30,
      "outputs": []
    },
    {
      "metadata": {
        "trusted": true,
        "_uuid": "b7710bcd418f37cfd12a091ddcef402c0425fc04"
      },
      "cell_type": "code",
      "source": "print('Maximo valor: ', data_test['DAYS_REGISTRATION'].max())\nprint('Minimo valor', data_test['DAYS_REGISTRATION'].min())",
      "execution_count": 31,
      "outputs": [
        {
          "output_type": "stream",
          "text": "Maximo valor:  23722.0\nMinimo valor 0.0\n",
          "name": "stdout"
        }
      ]
    },
    {
      "metadata": {
        "trusted": true,
        "_uuid": "98a5f13a098829f396d34c4983b02eaf179bce85"
      },
      "cell_type": "code",
      "source": "data_test['DAYS_ID_PUBLISH'] = abs(data_test['DAYS_ID_PUBLISH'])",
      "execution_count": 32,
      "outputs": []
    },
    {
      "metadata": {
        "trusted": true,
        "scrolled": true,
        "_uuid": "1d7d83b3873db6669cd152f594a063cf0f3c3b63"
      },
      "cell_type": "code",
      "source": "print('Maximo valor: ', data_test['DAYS_ID_PUBLISH'].max())\nprint('Minimo valor', data_test['DAYS_ID_PUBLISH'].min())",
      "execution_count": 33,
      "outputs": [
        {
          "output_type": "stream",
          "text": "Maximo valor:  6348\nMinimo valor 0\n",
          "name": "stdout"
        }
      ]
    },
    {
      "metadata": {
        "_uuid": "3b5bf4c20a808e4c49f265ff51df3d64e87c6bb0"
      },
      "cell_type": "markdown",
      "source": "**Reviso los valores NaN**\n\nSe puede notar que la proporcion de valores NaN no varia mucho en comparación al dataset de entrenamiento."
    },
    {
      "metadata": {
        "trusted": true,
        "_uuid": "4a3c896f3e39b21ae23189bdd7d6814ab822bc43"
      },
      "cell_type": "code",
      "source": "print('valores NaN', data_test.isnull().sum().sum())\nprint('porcentaje de valores NaN en el DF es de %0.2f%%' %(100*data_test.isnull().sum().sum()/(data_test.shape[0]*data_test.shape[1])))",
      "execution_count": 34,
      "outputs": [
        {
          "output_type": "stream",
          "text": "valores NaN 1413693\nporcentaje de valores NaN en el DF es de 23.97%\n",
          "name": "stdout"
        }
      ]
    },
    {
      "metadata": {
        "_uuid": "7097164b0e21c5007d143d18ffa18d526b93105a"
      },
      "cell_type": "markdown",
      "source": "**Buscando las columnas categoricas**  \nAl tratarse de la parte de un mismo archivo, se puede ver que el dataset de testeo posee las mismas columnas categoricas que el dataset de entrenamiento"
    },
    {
      "metadata": {
        "scrolled": true,
        "trusted": true,
        "_uuid": "b2d047d41f7ba303bce5a3a130b873c7f4d44715"
      },
      "cell_type": "code",
      "source": "data_test.dtypes.value_counts()",
      "execution_count": 35,
      "outputs": [
        {
          "output_type": "execute_result",
          "execution_count": 35,
          "data": {
            "text/plain": "float64    67\nint64      38\nobject     16\ndtype: int64"
          },
          "metadata": {}
        }
      ]
    },
    {
      "metadata": {
        "trusted": true,
        "_uuid": "72f48f4e28ece43487de8400ce354ef80f554261"
      },
      "cell_type": "code",
      "source": "obj_columns = data_test.dtypes[data_test.dtypes.values == 'object'].index.tolist()",
      "execution_count": 36,
      "outputs": []
    },
    {
      "metadata": {
        "trusted": true,
        "_uuid": "0e3893b71a731e1cf20c745b52b09373def16f8e"
      },
      "cell_type": "code",
      "source": "print(data_test[obj_columns].apply(pd.Series.nunique, axis = 0))\nprint('cantidad de elementos unicos en las variables categoricas', data_test[obj_columns].apply(pd.Series.nunique, axis = 0).values.sum())",
      "execution_count": 37,
      "outputs": [
        {
          "output_type": "stream",
          "text": "NAME_CONTRACT_TYPE             2\nCODE_GENDER                    2\nFLAG_OWN_CAR                   2\nFLAG_OWN_REALTY                2\nNAME_TYPE_SUITE                7\nNAME_INCOME_TYPE               7\nNAME_EDUCATION_TYPE            5\nNAME_FAMILY_STATUS             5\nNAME_HOUSING_TYPE              6\nOCCUPATION_TYPE               18\nWEEKDAY_APPR_PROCESS_START     7\nORGANIZATION_TYPE             58\nFONDKAPREMONT_MODE             4\nHOUSETYPE_MODE                 3\nWALLSMATERIAL_MODE             7\nEMERGENCYSTATE_MODE            2\ndtype: int64\ncantidad de elementos unicos en las variables categoricas 137\n",
          "name": "stdout"
        }
      ]
    },
    {
      "metadata": {
        "_uuid": "a1f5d362654504eb2d3702783a6df44536a79e12"
      },
      "cell_type": "markdown",
      "source": "***Aunque si se nota un leve cambio en la cantidad de valores unicos que poseen las columnas categoricas.***"
    },
    {
      "metadata": {
        "collapsed": true,
        "_uuid": "473778c82d61271000f9ed2495efea4b472db246"
      },
      "cell_type": "markdown",
      "source": "# Pre-Procesado de datos\n\n### Codificación de las caracteristicas categoricas\n\n- Usando LabelEncoder para las caracteristicas con 2 categorias\n- Usando OneHotEncoder (para crear variables Dummy) para las caracteristicas que tengan mas de 2 categorias"
    },
    {
      "metadata": {
        "trusted": true,
        "_uuid": "07452e5f835143ce24c78a5a47b6b3203e08211d"
      },
      "cell_type": "code",
      "source": "from sklearn.preprocessing import LabelEncoder",
      "execution_count": 38,
      "outputs": []
    },
    {
      "metadata": {
        "trusted": true,
        "_uuid": "f9f818c88e7f7e922742db2f9ceadb058101b086"
      },
      "cell_type": "code",
      "source": "label = LabelEncoder()\n\nfor i in obj_columns:\n    if len(data_train[i].unique()) <= 2:\n        #entreo el objeto encoder\n        label.fit(data_train[i])\n        #aplico la transformacion en los dos DF principales.\n        data_train[i] = label.transform(data_train[i])\n        data_test[i] = label.transform(data_test[i])\n\n#Ahora codificar las que tienen mas de 2 categorias.\ndata_train = pd.get_dummies(data_train)\ndata_test = pd.get_dummies(data_test)",
      "execution_count": 39,
      "outputs": []
    },
    {
      "metadata": {
        "trusted": true,
        "_uuid": "e65aaeb169dc68b993243114419c858487366649"
      },
      "cell_type": "code",
      "source": "print('Nuevas dimensiones del DF:', data_train.shape)\nprint('Nuevas dimensiones del DF:', data_test.shape)",
      "execution_count": 40,
      "outputs": [
        {
          "output_type": "stream",
          "text": "Nuevas dimensiones del DF: (307511, 243)\nNuevas dimensiones del DF: (48744, 239)\n",
          "name": "stdout"
        }
      ]
    },
    {
      "metadata": {
        "_uuid": "ac2759d72ecb9b6794ca4be1d197efffcac84ee3"
      },
      "cell_type": "markdown",
      "source": "Por esta razon tenemos que modificar los dataset de entrenamiento y prueba, ya que deben tener la misma cantidad de columnas para que el modelo predictivo que se cree nos sirva.  \n\n- Se penso en usar el metodo Join, pero el metodo JOIN nos retornaria un solo dataset, y nosotros necesitamos tener los dos, entonces...\n- Se usara el metodo Align para \"alinear\" los dos archivos y que queden con un mismo numero de columnas, sin tener que necesariamente unirlos."
    },
    {
      "metadata": {
        "trusted": true,
        "_uuid": "c7c9fbb8b22b956a3cd53cdff48d00528d7d6192"
      },
      "cell_type": "code",
      "source": "#Lo primero es salvar nuestra columna de TARGET, porque esta columna no esta en el dataset de pruebas\nTargets = data_train['TARGET']\n#hacemos uso del metodo align, que nos permite \"recortar\" los dataframes para que queden con la misma\n#cantidad de columnas. (Usamos las columnas que tienen en comun los dos dataframes)\n#Usamos axis = 1 para que nos realice el proceso por columnas y no por filas.\ndata_train, data_test = data_train.align(data_test, join='inner', axis=1)\n#Ahora solo hay que agregar de nuevo la columna de los TARGETS a nuestro nuevo dataset de entrenamiento\ndata_train['TARGET'] = Targets",
      "execution_count": 41,
      "outputs": []
    },
    {
      "metadata": {
        "trusted": true,
        "_uuid": "b8dc31bf47d5c3f2debc917f7c31c9274d89d7f6"
      },
      "cell_type": "code",
      "source": "print('Nuevas dimensiones del DF:', data_train.shape)\nprint('Nuevas dimensiones del DF:', data_test.shape)",
      "execution_count": 44,
      "outputs": [
        {
          "output_type": "stream",
          "text": "Nuevas dimensiones del DF: (307511, 240)\nNuevas dimensiones del DF: (48744, 239)\n",
          "name": "stdout"
        }
      ]
    },
    {
      "metadata": {
        "_uuid": "ed2e9e854ac8a79de02084bc5d5c58dedc0d0176"
      },
      "cell_type": "markdown",
      "source": "## Feature Engineering\n\n### Buscando Correlaciones\nEste paso es muy importante ya que podemos encontrar que caracteristicas afectan mas a nuestro *TARGET*"
    },
    {
      "metadata": {
        "trusted": true,
        "_uuid": "bd90e3359c1b7d1f16d6e84a71900175d8243d58"
      },
      "cell_type": "code",
      "source": "corrs = data_train.corr()",
      "execution_count": 45,
      "outputs": []
    },
    {
      "metadata": {
        "_uuid": "3bf4ecc2693276634f865ff267b305991615721e"
      },
      "cell_type": "markdown",
      "source": "Nos interesa ver las correlaciones de las variables contra nuestra variable *TARGET*"
    },
    {
      "metadata": {
        "trusted": true,
        "_uuid": "7812b6a5b6a59456c4f782d7bc215ad9335f7e8b"
      },
      "cell_type": "code",
      "source": "corrs.sort_values('TARGET', inplace=True)",
      "execution_count": 46,
      "outputs": []
    },
    {
      "metadata": {
        "trusted": true,
        "_uuid": "a5e6f606b6ebb0cb9fddbe5592bc322af96aac40"
      },
      "cell_type": "code",
      "source": "corrs = corrs['TARGET']",
      "execution_count": 47,
      "outputs": []
    },
    {
      "metadata": {
        "trusted": true,
        "_uuid": "3f3cf7b8534826d9d15ee873f13e9a8edc104a09"
      },
      "cell_type": "code",
      "source": "corrs.head(10)",
      "execution_count": 48,
      "outputs": [
        {
          "output_type": "execute_result",
          "execution_count": 48,
          "data": {
            "text/plain": "EXT_SOURCE_3                           -0.178919\nEXT_SOURCE_2                           -0.160472\nEXT_SOURCE_1                           -0.155317\nDAYS_BIRTH                             -0.078239\nDAYS_EMPLOYED                          -0.074958\nNAME_EDUCATION_TYPE_Higher education   -0.056593\nCODE_GENDER_F                          -0.054704\nDAYS_ID_PUBLISH                        -0.051457\nNAME_INCOME_TYPE_Pensioner             -0.046209\nORGANIZATION_TYPE_XNA                  -0.045987\nName: TARGET, dtype: float64"
          },
          "metadata": {}
        }
      ]
    },
    {
      "metadata": {
        "trusted": true,
        "_uuid": "ca3a9cf7dd543803fff9dcca083aedf5786e1f63"
      },
      "cell_type": "code",
      "source": "corrs.tail(10)",
      "execution_count": 49,
      "outputs": [
        {
          "output_type": "execute_result",
          "execution_count": 49,
          "data": {
            "text/plain": "REG_CITY_NOT_LIVE_CITY                               0.044395\nFLAG_EMP_PHONE                                       0.045982\nNAME_EDUCATION_TYPE_Secondary / secondary special    0.049824\nREG_CITY_NOT_WORK_CITY                               0.050994\nCODE_GENDER_M                                        0.054713\nDAYS_LAST_PHONE_CHANGE                               0.055218\nNAME_INCOME_TYPE_Working                             0.057481\nREGION_RATING_CLIENT                                 0.058899\nREGION_RATING_CLIENT_W_CITY                          0.060893\nTARGET                                               1.000000\nName: TARGET, dtype: float64"
          },
          "metadata": {}
        }
      ]
    },
    {
      "metadata": {
        "_uuid": "19ccb9d1aa6be2868c6c81ea16819ecfcab5eb74"
      },
      "cell_type": "markdown",
      "source": "**LAS 10 MAS**\nSe puede observar que las columnas que afectan mas de manera positiva son:\n- CODE_GENDER_M                                      \n- DAYS_LAST_PHONE_CHANGE                            \n- NAME_INCOME_TYPE_Working                            \n- REGION_RATING_CLIENT                                \n- REGION_RATING_CLIENT_W_CITY \n\nY las que mas afectan de manera negativa son:\n- EXT_SOURCE_3                        \n- EXT_SOURCE_2                         \n- EXT_SOURCE_1                        \n- DAYS_BIRTH                            \n- DAYS_EMPLOYED                          "
    },
    {
      "metadata": {
        "_uuid": "1790eabd4672ee59a27a5a12fdcb1cf64816755c"
      },
      "cell_type": "markdown",
      "source": "Obteniendo las caracteristicas mas importantes con otro metodo... Entrenando un RandomForestClassifier.\n\nPero primero debemos rellenar los NaN  \n\n**Tratamiento de los valores NaN**\n\n- Lo primero es obtener las columnas que poseen valores NaN.\n- Y luego rellenar los valores NaN con alguna estrategia."
    },
    {
      "metadata": {
        "trusted": true,
        "_uuid": "f82f140b1f5114776c945433f2a3922bbf226da2"
      },
      "cell_type": "code",
      "source": "columns_NaN = data_train.isnull().sum()[data_train.isnull().sum().values > 0].index.tolist()",
      "execution_count": 50,
      "outputs": []
    },
    {
      "metadata": {
        "trusted": true,
        "_uuid": "95e13ff20d0df7d896d0b2c9ea02d092c3c6a832"
      },
      "cell_type": "code",
      "source": "data_train['OWN_CAR_AGE'].fillna(0, inplace=True)\ndata_train.fillna(np.mean(data_train), inplace=True)",
      "execution_count": 51,
      "outputs": []
    },
    {
      "metadata": {
        "_uuid": "54a92050a9354e744f0f86fbfbd91c28d6c60b83"
      },
      "cell_type": "markdown",
      "source": "Ahora el mismo procedimiento para el dataset de test"
    },
    {
      "metadata": {
        "trusted": true,
        "_uuid": "eaa104e74b3378bb6a24bedd95d8efd42040ab13"
      },
      "cell_type": "code",
      "source": "columns_NaN = data_test.isnull().sum()[data_test.isnull().sum().values > 0].index.tolist()",
      "execution_count": 52,
      "outputs": []
    },
    {
      "metadata": {
        "trusted": true,
        "_uuid": "a2758ed9a949a2211eb92094178da8259d2a7272"
      },
      "cell_type": "code",
      "source": "data_test['OWN_CAR_AGE'].fillna(0, inplace=True)\ndata_test.fillna(np.mean(data_test), inplace=True)",
      "execution_count": 53,
      "outputs": []
    },
    {
      "metadata": {
        "_uuid": "75fad747a2bf928f2f2df8ebb4a1d0cf86a4f312"
      },
      "cell_type": "markdown",
      "source": "### Creando un bosque aleatorio clasificador para obtener la importancia de las caracteristicas"
    },
    {
      "metadata": {
        "trusted": true,
        "_uuid": "5050a9bd9bedfd88ee68749b61932cfe65cb1879"
      },
      "cell_type": "code",
      "source": "from sklearn.ensemble import RandomForestClassifier",
      "execution_count": 54,
      "outputs": []
    },
    {
      "metadata": {
        "trusted": true,
        "_uuid": "69e2092dee7423623f6aae94bf1238a6e5bf5054"
      },
      "cell_type": "code",
      "source": "cl = data_train.columns.values.tolist()\ncl.remove('TARGET')\nX = data_train.filter(cl)\ny = data_train['TARGET']",
      "execution_count": 56,
      "outputs": []
    },
    {
      "metadata": {
        "trusted": true,
        "_uuid": "3ee4b68b1dd78ff238ee0f7498608eaaa103c565"
      },
      "cell_type": "code",
      "source": "RFC = RandomForestClassifier()\nRFC.fit(X, y)",
      "execution_count": 57,
      "outputs": [
        {
          "output_type": "stream",
          "text": "/opt/conda/lib/python3.6/site-packages/sklearn/ensemble/forest.py:246: FutureWarning: The default value of n_estimators will change from 10 in version 0.20 to 100 in 0.22.\n  \"10 in version 0.20 to 100 in 0.22.\", FutureWarning)\n",
          "name": "stderr"
        },
        {
          "output_type": "execute_result",
          "execution_count": 57,
          "data": {
            "text/plain": "RandomForestClassifier(bootstrap=True, class_weight=None, criterion='gini',\n            max_depth=None, max_features='auto', max_leaf_nodes=None,\n            min_impurity_decrease=0.0, min_impurity_split=None,\n            min_samples_leaf=1, min_samples_split=2,\n            min_weight_fraction_leaf=0.0, n_estimators=10, n_jobs=None,\n            oob_score=False, random_state=None, verbose=0,\n            warm_start=False)"
          },
          "metadata": {}
        }
      ]
    },
    {
      "metadata": {
        "trusted": true,
        "_uuid": "48ac8fdf41634cc8e31793deb66e79a79fc79d98"
      },
      "cell_type": "code",
      "source": "FI = pd.DataFrame({'Column':X.columns.values.tolist(), 'Importance':RFC.feature_importances_})\nFI.sort_values(by='Importance', ascending=False, inplace=True)",
      "execution_count": 74,
      "outputs": []
    },
    {
      "metadata": {
        "trusted": true,
        "scrolled": true,
        "_uuid": "72f3cf1eb546194462d805d8d57eec32b1cffa56"
      },
      "cell_type": "code",
      "source": "FI[:15].plot(x='Column', y='Importance', kind='bar', figsize=(12,4), legend=False)\nplt.title('Feature Importances')\nplt.ylabel('Importance')\nplt.xticks(rotation=90);",
      "execution_count": 95,
      "outputs": [
        {
          "output_type": "display_data",
          "data": {
            "text/plain": "<Figure size 864x288 with 1 Axes>",
            "image/png": "[encoded data removed]"
          },
          "metadata": {}
        }
      ]
    },
    {
      "metadata": {
        "_uuid": "e94ec52368009a559ed793932266e2cdbd59b2c3"
      },
      "cell_type": "markdown",
      "source": "Como se observo anteriormente con el coeficiente de pearson (con la funcion de pandas .corr()) los campos que mas afectan a nuestro *TARGET* son los de EXT_SORCE_#, y otros como el *INCOME_TOTAL*, *AMT_ANNUITY*, *GOODS_PRICE*, *DAYS_EMPLOYED*, entre otros como se ve en la anterior grafica.  \nY algo curioso es que la edad *DAYS_BIRTH* afecta.  "
    },
    {
      "metadata": {
        "_uuid": "e963783d00f0511c1cf04904ffb8a7dfe613431f"
      },
      "cell_type": "markdown",
      "source": "### Re-Escalado de los datos\nEs necesario hacerlo para que una columna no influya mucho mas que otra por la escala en la que estan los datos."
    },
    {
      "metadata": {
        "trusted": true,
        "_uuid": "9041d77cb54e782b24abfea25bbc2f5124373e7d"
      },
      "cell_type": "code",
      "source": "from sklearn.preprocessing import MinMaxScaler",
      "execution_count": 96,
      "outputs": []
    },
    {
      "metadata": {
        "trusted": true,
        "_uuid": "1ca4e84e28b29ea75cce7d0fe6e171278a6a6ee4"
      },
      "cell_type": "code",
      "source": "scaler = MinMaxScaler(feature_range=(0,1))\nscaler.fit(X)\nX_train = scaler.transform(X)\nX_test = scaler.transform(data_test)",
      "execution_count": 97,
      "outputs": [
        {
          "output_type": "stream",
          "text": "/opt/conda/lib/python3.6/site-packages/sklearn/preprocessing/data.py:323: DataConversionWarning: Data with input dtype uint8, int64, float64 were all converted to float64 by MinMaxScaler.\n  return self.partial_fit(X, y)\n",
          "name": "stderr"
        }
      ]
    },
    {
      "metadata": {
        "_uuid": "d60addeb0c2afaf4e49728e70d7a8721885c5e56"
      },
      "cell_type": "markdown",
      "source": "## Hacemos unas predicciones para probar lo que hemos hecho hasta aca."
    },
    {
      "metadata": {
        "trusted": true,
        "_uuid": "9034dd20bd3384e89f7a0af7dbeaa5ae03ea0185"
      },
      "cell_type": "code",
      "source": "from sklearn.linear_model import LogisticRegression",
      "execution_count": 98,
      "outputs": []
    },
    {
      "metadata": {
        "trusted": true,
        "_uuid": "aa9887ca3925d472ab262e2a607e7d1bb683690a"
      },
      "cell_type": "code",
      "source": "LR = LogisticRegression(n_jobs=-1)\nLR.fit(X_train, y)",
      "execution_count": 99,
      "outputs": [
        {
          "output_type": "stream",
          "text": "/opt/conda/lib/python3.6/site-packages/sklearn/linear_model/logistic.py:433: FutureWarning: Default solver will be changed to 'lbfgs' in 0.22. Specify a solver to silence this warning.\n  FutureWarning)\n/opt/conda/lib/python3.6/site-packages/sklearn/linear_model/logistic.py:1297: UserWarning: 'n_jobs' > 1 does not have any effect when 'solver' is set to 'liblinear'. Got 'n_jobs' = 4.\n  \" = {}.\".format(effective_n_jobs(self.n_jobs)))\n",
          "name": "stderr"
        },
        {
          "output_type": "execute_result",
          "execution_count": 99,
          "data": {
            "text/plain": "LogisticRegression(C=1.0, class_weight=None, dual=False, fit_intercept=True,\n          intercept_scaling=1, max_iter=100, multi_class='warn', n_jobs=-1,\n          penalty='l2', random_state=None, solver='warn', tol=0.0001,\n          verbose=0, warm_start=False)"
          },
          "metadata": {}
        }
      ]
    },
    {
      "metadata": {
        "trusted": true,
        "_uuid": "eb24bfa386504b764c9f9c67ff214acbc66e457a"
      },
      "cell_type": "code",
      "source": "#Usamos el metodo predict_proba ya que este nos devuelve un array de n x 2, donde n son\n#las observaciones, y 2 son las columnas, la primera columna para las probabilidades de \n#que salga 0 y la segunda para las probabilidades de 1. Para nuestro reto necesitamos \n#la segunda columna.\nresult = LR.predict_proba(X_test)[:,1]",
      "execution_count": 100,
      "outputs": []
    },
    {
      "metadata": {
        "_uuid": "1978bf91bdafd1670136689c91a356370de8c56d"
      },
      "cell_type": "markdown",
      "source": "Ahora que tenemos las probabilidades, tenemos que crear el archivo con el formato que exige la competencia de kaggle para obtener nuestro score."
    },
    {
      "metadata": {
        "trusted": true,
        "_uuid": "552af6961254677ed437c666c71f7debb71f7988"
      },
      "cell_type": "code",
      "source": "submission = data_test[['SK_ID_CURR']]",
      "execution_count": 101,
      "outputs": []
    },
    {
      "metadata": {
        "trusted": true,
        "_uuid": "de0c3b3605481ac7517b304dd9b2aecbe3f0808f"
      },
      "cell_type": "code",
      "source": "submission['TARGET'] = result",
      "execution_count": 102,
      "outputs": [
        {
          "output_type": "stream",
          "text": "/opt/conda/lib/python3.6/site-packages/ipykernel_launcher.py:1: SettingWithCopyWarning: \nA value is trying to be set on a copy of a slice from a DataFrame.\nTry using .loc[row_indexer,col_indexer] = value instead\n\nSee the caveats in the documentation: http://pandas.pydata.org/pandas-docs/stable/indexing.html#indexing-view-versus-copy\n  \"\"\"Entry point for launching an IPython kernel.\n",
          "name": "stderr"
        }
      ]
    },
    {
      "metadata": {
        "trusted": true,
        "_uuid": "eb288488e9f53dd200426a7ec96c40ca64783046"
      },
      "cell_type": "code",
      "source": "submission.head(10)",
      "execution_count": 103,
      "outputs": [
        {
          "output_type": "execute_result",
          "execution_count": 103,
          "data": {
            "text/plain": "   SK_ID_CURR    TARGET\n0      100001  0.056481\n1      100005  0.212261\n2      100013  0.042172\n3      100028  0.034225\n4      100038  0.129258\n5      100042  0.022847\n6      100057  0.019992\n7      100065  0.096406\n8      100066  0.017209\n9      100067  0.112297",
            "text/html": "<div>\n<style scoped>\n    .dataframe tbody tr th:only-of-type {\n        vertical-align: middle;\n    }\n\n    .dataframe tbody tr th {\n        vertical-align: top;\n    }\n\n    .dataframe thead th {\n        text-align: right;\n    }\n</style>\n<table border=\"1\" class=\"dataframe\">\n  <thead>\n    <tr style=\"text-align: right;\">\n      <th></th>\n      <th>SK_ID_CURR</th>\n      <th>TARGET</th>\n    </tr>\n  </thead>\n  <tbody>\n    <tr>\n      <th>0</th>\n      <td>100001</td>\n      <td>0.056481</td>\n    </tr>\n    <tr>\n      <th>1</th>\n      <td>100005</td>\n      <td>0.212261</td>\n    </tr>\n    <tr>\n      <th>2</th>\n      <td>100013</td>\n      <td>0.042172</td>\n    </tr>\n    <tr>\n      <th>3</th>\n      <td>100028</td>\n      <td>0.034225</td>\n    </tr>\n    <tr>\n      <th>4</th>\n      <td>100038</td>\n      <td>0.129258</td>\n    </tr>\n    <tr>\n      <th>5</th>\n      <td>100042</td>\n      <td>0.022847</td>\n    </tr>\n    <tr>\n      <th>6</th>\n      <td>100057</td>\n      <td>0.019992</td>\n    </tr>\n    <tr>\n      <th>7</th>\n      <td>100065</td>\n      <td>0.096406</td>\n    </tr>\n    <tr>\n      <th>8</th>\n      <td>100066</td>\n      <td>0.017209</td>\n    </tr>\n    <tr>\n      <th>9</th>\n      <td>100067</td>\n      <td>0.112297</td>\n    </tr>\n  </tbody>\n</table>\n</div>"
          },
          "metadata": {}
        }
      ]
    },
    {
      "metadata": {
        "trusted": true,
        "_uuid": "d67a36d3412e45dbf75c66d2a23e65aeebe6ecdb"
      },
      "cell_type": "code",
      "source": "submission.to_csv('submission.csv', index=False)",
      "execution_count": 104,
      "outputs": []
    },
    {
      "metadata": {
        "_uuid": "88dd646d7f86de1e2e396b7e33d4653ed4be6f8e"
      },
      "cell_type": "markdown",
      "source": "**Y que pasa si cambiamos el parametro de regularizacion C...**"
    },
    {
      "metadata": {
        "trusted": true,
        "_uuid": "4d6cb92c158d9218d9563603c54aa9673e6e7bd8"
      },
      "cell_type": "code",
      "source": "LR = LogisticRegression(C=0.1, n_jobs=-1, solver='lbfgs')\nLR.fit(X_train, y)\nLR_2 = LR.predict_proba(X_test)[:,1]",
      "execution_count": 105,
      "outputs": []
    },
    {
      "metadata": {
        "trusted": true,
        "_uuid": "44c23eec7338d441914b61089e69d66df366ca76"
      },
      "cell_type": "code",
      "source": "Submission1_5 = data_test[['SK_ID_CURR']]\nSubmission1_5['TARGET'] = LR_2\nSubmission1_5.head()",
      "execution_count": 106,
      "outputs": [
        {
          "output_type": "stream",
          "text": "/opt/conda/lib/python3.6/site-packages/ipykernel_launcher.py:2: SettingWithCopyWarning: \nA value is trying to be set on a copy of a slice from a DataFrame.\nTry using .loc[row_indexer,col_indexer] = value instead\n\nSee the caveats in the documentation: http://pandas.pydata.org/pandas-docs/stable/indexing.html#indexing-view-versus-copy\n  \n",
          "name": "stderr"
        },
        {
          "output_type": "execute_result",
          "execution_count": 106,
          "data": {
            "text/plain": "   SK_ID_CURR    TARGET\n0      100001  0.054167\n1      100005  0.218365\n2      100013  0.039805\n3      100028  0.043995\n4      100038  0.138266",
            "text/html": "<div>\n<style scoped>\n    .dataframe tbody tr th:only-of-type {\n        vertical-align: middle;\n    }\n\n    .dataframe tbody tr th {\n        vertical-align: top;\n    }\n\n    .dataframe thead th {\n        text-align: right;\n    }\n</style>\n<table border=\"1\" class=\"dataframe\">\n  <thead>\n    <tr style=\"text-align: right;\">\n      <th></th>\n      <th>SK_ID_CURR</th>\n      <th>TARGET</th>\n    </tr>\n  </thead>\n  <tbody>\n    <tr>\n      <th>0</th>\n      <td>100001</td>\n      <td>0.054167</td>\n    </tr>\n    <tr>\n      <th>1</th>\n      <td>100005</td>\n      <td>0.218365</td>\n    </tr>\n    <tr>\n      <th>2</th>\n      <td>100013</td>\n      <td>0.039805</td>\n    </tr>\n    <tr>\n      <th>3</th>\n      <td>100028</td>\n      <td>0.043995</td>\n    </tr>\n    <tr>\n      <th>4</th>\n      <td>100038</td>\n      <td>0.138266</td>\n    </tr>\n  </tbody>\n</table>\n</div>"
          },
          "metadata": {}
        }
      ]
    },
    {
      "metadata": {
        "trusted": true,
        "_uuid": "0c1f23f3f29b2a6d4e8738228fcbeec4fd95f1b1"
      },
      "cell_type": "code",
      "source": "Submission1_5.to_csv('Submission1_5.csv', index=False)",
      "execution_count": 107,
      "outputs": []
    },
    {
      "metadata": {
        "_uuid": "dba4c928cc1de163b59e1e32b78ab560187454e8"
      },
      "cell_type": "markdown",
      "source": "### Probando con un Arbol de clasificacion."
    },
    {
      "metadata": {
        "trusted": true,
        "_uuid": "917989f587ddc65f26e8d964cfb13585f2c71788"
      },
      "cell_type": "code",
      "source": "RFC = RandomForestClassifier(n_estimators=100, n_jobs=-1)\nRFC.fit(X_train,y)\nRF_Results = RFC.predict_proba(X_test)[:,1]",
      "execution_count": 108,
      "outputs": []
    },
    {
      "metadata": {
        "trusted": true,
        "scrolled": false,
        "_uuid": "c24b6775561c67cf332faf6634cfa7df79cf1ae7"
      },
      "cell_type": "code",
      "source": "submission2 = data_test[['SK_ID_CURR']]\nsubmission2['TARGET'] = RF_Results\nsubmission2.head(10)",
      "execution_count": 109,
      "outputs": [
        {
          "output_type": "stream",
          "text": "/opt/conda/lib/python3.6/site-packages/ipykernel_launcher.py:2: SettingWithCopyWarning: \nA value is trying to be set on a copy of a slice from a DataFrame.\nTry using .loc[row_indexer,col_indexer] = value instead\n\nSee the caveats in the documentation: http://pandas.pydata.org/pandas-docs/stable/indexing.html#indexing-view-versus-copy\n  \n",
          "name": "stderr"
        },
        {
          "output_type": "execute_result",
          "execution_count": 109,
          "data": {
            "text/plain": "   SK_ID_CURR  TARGET\n0      100001    0.12\n1      100005    0.12\n2      100013    0.08\n3      100028    0.06\n4      100038    0.14\n5      100042    0.15\n6      100057    0.08\n7      100065    0.13\n8      100066    0.04\n9      100067    0.17",
            "text/html": "<div>\n<style scoped>\n    .dataframe tbody tr th:only-of-type {\n        vertical-align: middle;\n    }\n\n    .dataframe tbody tr th {\n        vertical-align: top;\n    }\n\n    .dataframe thead th {\n        text-align: right;\n    }\n</style>\n<table border=\"1\" class=\"dataframe\">\n  <thead>\n    <tr style=\"text-align: right;\">\n      <th></th>\n      <th>SK_ID_CURR</th>\n      <th>TARGET</th>\n    </tr>\n  </thead>\n  <tbody>\n    <tr>\n      <th>0</th>\n      <td>100001</td>\n      <td>0.12</td>\n    </tr>\n    <tr>\n      <th>1</th>\n      <td>100005</td>\n      <td>0.12</td>\n    </tr>\n    <tr>\n      <th>2</th>\n      <td>100013</td>\n      <td>0.08</td>\n    </tr>\n    <tr>\n      <th>3</th>\n      <td>100028</td>\n      <td>0.06</td>\n    </tr>\n    <tr>\n      <th>4</th>\n      <td>100038</td>\n      <td>0.14</td>\n    </tr>\n    <tr>\n      <th>5</th>\n      <td>100042</td>\n      <td>0.15</td>\n    </tr>\n    <tr>\n      <th>6</th>\n      <td>100057</td>\n      <td>0.08</td>\n    </tr>\n    <tr>\n      <th>7</th>\n      <td>100065</td>\n      <td>0.13</td>\n    </tr>\n    <tr>\n      <th>8</th>\n      <td>100066</td>\n      <td>0.04</td>\n    </tr>\n    <tr>\n      <th>9</th>\n      <td>100067</td>\n      <td>0.17</td>\n    </tr>\n  </tbody>\n</table>\n</div>"
          },
          "metadata": {}
        }
      ]
    },
    {
      "metadata": {
        "trusted": true,
        "_uuid": "6c29e76144e691b56d11084dfecf0430b13b6e14"
      },
      "cell_type": "code",
      "source": "submission2.to_csv('Submission2.csv', index=False)",
      "execution_count": 110,
      "outputs": []
    },
    {
      "metadata": {
        "_uuid": "4164d22dd88be2a651363e8cbcf7cd5a29207c4b"
      },
      "cell_type": "markdown",
      "source": "### Prueba con el algoritmo de GradientBoostingClassifier"
    },
    {
      "metadata": {
        "trusted": true,
        "_uuid": "13c21539f2b8eb7ca2df318202cbeaf00badc6c0"
      },
      "cell_type": "code",
      "source": "from sklearn.ensemble import GradientBoostingClassifier",
      "execution_count": 111,
      "outputs": []
    },
    {
      "metadata": {
        "trusted": true,
        "_uuid": "cde72ef1aff8f90be1fb486222fca6500183572a"
      },
      "cell_type": "code",
      "source": "GBC = GradientBoostingClassifier()\nGBC.fit(X_train, y)\nGB_Results = GBC.predict_proba(X_test)[:,1]",
      "execution_count": null,
      "outputs": []
    },
    {
      "metadata": {
        "trusted": true,
        "_uuid": "07ac3dc87935cf750b72490a7b9081b6cdb24063"
      },
      "cell_type": "code",
      "source": "Submission3 = data_test[['SK_ID_CURR']]",
      "execution_count": null,
      "outputs": []
    },
    {
      "metadata": {
        "trusted": true,
        "_uuid": "2db15c9c0d2d13ff6a3ea7ef9f17c2b650acc916"
      },
      "cell_type": "code",
      "source": "Submission3['TARGET'] = GB_Results",
      "execution_count": null,
      "outputs": []
    },
    {
      "metadata": {
        "trusted": true,
        "_uuid": "bc5522ba6ab86c87bfc9b7dcef28f54f2dd618e0"
      },
      "cell_type": "code",
      "source": "Submission3.head(10)",
      "execution_count": null,
      "outputs": []
    },
    {
      "metadata": {
        "trusted": true,
        "_uuid": "4a2fc68c2c64910d70b13d54908b26dc6b05fc82"
      },
      "cell_type": "code",
      "source": "Submission3.to_csv('Submission3.csv', index=False)",
      "execution_count": null,
      "outputs": []
    },
    {
      "metadata": {
        "_uuid": "7f4b5543e661186ccd94d75e533dc90235225803"
      },
      "cell_type": "markdown",
      "source": "## Exploracion y preprocesado de los archivos Previous y Bureau"
    },
    {
      "metadata": {
        "trusted": true,
        "_uuid": "44e4c0e965e9983eb61af4c5a8d7056dc62a427b"
      },
      "cell_type": "code",
      "source": "Previous_data = pd.read_csv('../input/previous_application.csv')\nPrevious_data.head()",
      "execution_count": 112,
      "outputs": [
        {
          "output_type": "execute_result",
          "execution_count": 112,
          "data": {
            "text/plain": "   SK_ID_PREV            ...              NFLAG_INSURED_ON_APPROVAL\n0     2030495            ...                                    0.0\n1     2802425            ...                                    1.0\n2     2523466            ...                                    1.0\n3     2819243            ...                                    1.0\n4     1784265            ...                                    NaN\n\n[5 rows x 37 columns]",
            "text/html": "<div>\n<style scoped>\n    .dataframe tbody tr th:only-of-type {\n        vertical-align: middle;\n    }\n\n    .dataframe tbody tr th {\n        vertical-align: top;\n    }\n\n    .dataframe thead th {\n        text-align: right;\n    }\n</style>\n<table border=\"1\" class=\"dataframe\">\n  <thead>\n    <tr style=\"text-align: right;\">\n      <th></th>\n      <th>SK_ID_PREV</th>\n      <th>SK_ID_CURR</th>\n      <th>NAME_CONTRACT_TYPE</th>\n      <th>AMT_ANNUITY</th>\n      <th>AMT_APPLICATION</th>\n      <th>AMT_CREDIT</th>\n      <th>AMT_DOWN_PAYMENT</th>\n      <th>AMT_GOODS_PRICE</th>\n      <th>WEEKDAY_APPR_PROCESS_START</th>\n      <th>HOUR_APPR_PROCESS_START</th>\n      <th>FLAG_LAST_APPL_PER_CONTRACT</th>\n      <th>NFLAG_LAST_APPL_IN_DAY</th>\n      <th>RATE_DOWN_PAYMENT</th>\n      <th>RATE_INTEREST_PRIMARY</th>\n      <th>RATE_INTEREST_PRIVILEGED</th>\n      <th>NAME_CASH_LOAN_PURPOSE</th>\n      <th>NAME_CONTRACT_STATUS</th>\n      <th>DAYS_DECISION</th>\n      <th>NAME_PAYMENT_TYPE</th>\n      <th>CODE_REJECT_REASON</th>\n      <th>NAME_TYPE_SUITE</th>\n      <th>NAME_CLIENT_TYPE</th>\n      <th>NAME_GOODS_CATEGORY</th>\n      <th>NAME_PORTFOLIO</th>\n      <th>NAME_PRODUCT_TYPE</th>\n      <th>CHANNEL_TYPE</th>\n      <th>SELLERPLACE_AREA</th>\n      <th>NAME_SELLER_INDUSTRY</th>\n      <th>CNT_PAYMENT</th>\n      <th>NAME_YIELD_GROUP</th>\n      <th>PRODUCT_COMBINATION</th>\n      <th>DAYS_FIRST_DRAWING</th>\n      <th>DAYS_FIRST_DUE</th>\n      <th>DAYS_LAST_DUE_1ST_VERSION</th>\n      <th>DAYS_LAST_DUE</th>\n      <th>DAYS_TERMINATION</th>\n      <th>NFLAG_INSURED_ON_APPROVAL</th>\n    </tr>\n  </thead>\n  <tbody>\n    <tr>\n      <th>0</th>\n      <td>2030495</td>\n      <td>271877</td>\n      <td>Consumer loans</td>\n      <td>1730.430</td>\n      <td>17145.0</td>\n      <td>17145.0</td>\n      <td>0.0</td>\n      <td>17145.0</td>\n      <td>SATURDAY</td>\n      <td>15</td>\n      <td>Y</td>\n      <td>1</td>\n      <td>0.0</td>\n      <td>0.182832</td>\n      <td>0.867336</td>\n      <td>XAP</td>\n      <td>Approved</td>\n      <td>-73</td>\n      <td>Cash through the bank</td>\n      <td>XAP</td>\n      <td>NaN</td>\n      <td>Repeater</td>\n      <td>Mobile</td>\n      <td>POS</td>\n      <td>XNA</td>\n      <td>Country-wide</td>\n      <td>35</td>\n      <td>Connectivity</td>\n      <td>12.0</td>\n      <td>middle</td>\n      <td>POS mobile with interest</td>\n      <td>365243.0</td>\n      <td>-42.0</td>\n      <td>300.0</td>\n      <td>-42.0</td>\n      <td>-37.0</td>\n      <td>0.0</td>\n    </tr>\n    <tr>\n      <th>1</th>\n      <td>2802425</td>\n      <td>108129</td>\n      <td>Cash loans</td>\n      <td>25188.615</td>\n      <td>607500.0</td>\n      <td>679671.0</td>\n      <td>NaN</td>\n      <td>607500.0</td>\n      <td>THURSDAY</td>\n      <td>11</td>\n      <td>Y</td>\n      <td>1</td>\n      <td>NaN</td>\n      <td>NaN</td>\n      <td>NaN</td>\n      <td>XNA</td>\n      <td>Approved</td>\n      <td>-164</td>\n      <td>XNA</td>\n      <td>XAP</td>\n      <td>Unaccompanied</td>\n      <td>Repeater</td>\n      <td>XNA</td>\n      <td>Cash</td>\n      <td>x-sell</td>\n      <td>Contact center</td>\n      <td>-1</td>\n      <td>XNA</td>\n      <td>36.0</td>\n      <td>low_action</td>\n      <td>Cash X-Sell: low</td>\n      <td>365243.0</td>\n      <td>-134.0</td>\n      <td>916.0</td>\n      <td>365243.0</td>\n      <td>365243.0</td>\n      <td>1.0</td>\n    </tr>\n    <tr>\n      <th>2</th>\n      <td>2523466</td>\n      <td>122040</td>\n      <td>Cash loans</td>\n      <td>15060.735</td>\n      <td>112500.0</td>\n      <td>136444.5</td>\n      <td>NaN</td>\n      <td>112500.0</td>\n      <td>TUESDAY</td>\n      <td>11</td>\n      <td>Y</td>\n      <td>1</td>\n      <td>NaN</td>\n      <td>NaN</td>\n      <td>NaN</td>\n      <td>XNA</td>\n      <td>Approved</td>\n      <td>-301</td>\n      <td>Cash through the bank</td>\n      <td>XAP</td>\n      <td>Spouse, partner</td>\n      <td>Repeater</td>\n      <td>XNA</td>\n      <td>Cash</td>\n      <td>x-sell</td>\n      <td>Credit and cash offices</td>\n      <td>-1</td>\n      <td>XNA</td>\n      <td>12.0</td>\n      <td>high</td>\n      <td>Cash X-Sell: high</td>\n      <td>365243.0</td>\n      <td>-271.0</td>\n      <td>59.0</td>\n      <td>365243.0</td>\n      <td>365243.0</td>\n      <td>1.0</td>\n    </tr>\n    <tr>\n      <th>3</th>\n      <td>2819243</td>\n      <td>176158</td>\n      <td>Cash loans</td>\n      <td>47041.335</td>\n      <td>450000.0</td>\n      <td>470790.0</td>\n      <td>NaN</td>\n      <td>450000.0</td>\n      <td>MONDAY</td>\n      <td>7</td>\n      <td>Y</td>\n      <td>1</td>\n      <td>NaN</td>\n      <td>NaN</td>\n      <td>NaN</td>\n      <td>XNA</td>\n      <td>Approved</td>\n      <td>-512</td>\n      <td>Cash through the bank</td>\n      <td>XAP</td>\n      <td>NaN</td>\n      <td>Repeater</td>\n      <td>XNA</td>\n      <td>Cash</td>\n      <td>x-sell</td>\n      <td>Credit and cash offices</td>\n      <td>-1</td>\n      <td>XNA</td>\n      <td>12.0</td>\n      <td>middle</td>\n      <td>Cash X-Sell: middle</td>\n      <td>365243.0</td>\n      <td>-482.0</td>\n      <td>-152.0</td>\n      <td>-182.0</td>\n      <td>-177.0</td>\n      <td>1.0</td>\n    </tr>\n    <tr>\n      <th>4</th>\n      <td>1784265</td>\n      <td>202054</td>\n      <td>Cash loans</td>\n      <td>31924.395</td>\n      <td>337500.0</td>\n      <td>404055.0</td>\n      <td>NaN</td>\n      <td>337500.0</td>\n      <td>THURSDAY</td>\n      <td>9</td>\n      <td>Y</td>\n      <td>1</td>\n      <td>NaN</td>\n      <td>NaN</td>\n      <td>NaN</td>\n      <td>Repairs</td>\n      <td>Refused</td>\n      <td>-781</td>\n      <td>Cash through the bank</td>\n      <td>HC</td>\n      <td>NaN</td>\n      <td>Repeater</td>\n      <td>XNA</td>\n      <td>Cash</td>\n      <td>walk-in</td>\n      <td>Credit and cash offices</td>\n      <td>-1</td>\n      <td>XNA</td>\n      <td>24.0</td>\n      <td>high</td>\n      <td>Cash Street: high</td>\n      <td>NaN</td>\n      <td>NaN</td>\n      <td>NaN</td>\n      <td>NaN</td>\n      <td>NaN</td>\n      <td>NaN</td>\n    </tr>\n  </tbody>\n</table>\n</div>"
          },
          "metadata": {}
        }
      ]
    },
    {
      "metadata": {
        "trusted": true,
        "_uuid": "ce7ea0d4c208515d831621a699725488b1d10f88",
        "scrolled": true
      },
      "cell_type": "code",
      "source": "print(Previous_data.shape)\nPrevious_data.describe()",
      "execution_count": 113,
      "outputs": [
        {
          "output_type": "stream",
          "text": "(1670214, 37)\n",
          "name": "stdout"
        },
        {
          "output_type": "execute_result",
          "execution_count": 113,
          "data": {
            "text/plain": "         SK_ID_PREV            ...              NFLAG_INSURED_ON_APPROVAL\ncount  1.670214e+06            ...                          997149.000000\nmean   1.923089e+06            ...                               0.332570\nstd    5.325980e+05            ...                               0.471134\nmin    1.000001e+06            ...                               0.000000\n25%    1.461857e+06            ...                               0.000000\n50%    1.923110e+06            ...                               0.000000\n75%    2.384280e+06            ...                               1.000000\nmax    2.845382e+06            ...                               1.000000\n\n[8 rows x 21 columns]",
            "text/html": "<div>\n<style scoped>\n    .dataframe tbody tr th:only-of-type {\n        vertical-align: middle;\n    }\n\n    .dataframe tbody tr th {\n        vertical-align: top;\n    }\n\n    .dataframe thead th {\n        text-align: right;\n    }\n</style>\n<table border=\"1\" class=\"dataframe\">\n  <thead>\n    <tr style=\"text-align: right;\">\n      <th></th>\n      <th>SK_ID_PREV</th>\n      <th>SK_ID_CURR</th>\n      <th>AMT_ANNUITY</th>\n      <th>AMT_APPLICATION</th>\n      <th>AMT_CREDIT</th>\n      <th>AMT_DOWN_PAYMENT</th>\n      <th>AMT_GOODS_PRICE</th>\n      <th>HOUR_APPR_PROCESS_START</th>\n      <th>NFLAG_LAST_APPL_IN_DAY</th>\n      <th>RATE_DOWN_PAYMENT</th>\n      <th>RATE_INTEREST_PRIMARY</th>\n      <th>RATE_INTEREST_PRIVILEGED</th>\n      <th>DAYS_DECISION</th>\n      <th>SELLERPLACE_AREA</th>\n      <th>CNT_PAYMENT</th>\n      <th>DAYS_FIRST_DRAWING</th>\n      <th>DAYS_FIRST_DUE</th>\n      <th>DAYS_LAST_DUE_1ST_VERSION</th>\n      <th>DAYS_LAST_DUE</th>\n      <th>DAYS_TERMINATION</th>\n      <th>NFLAG_INSURED_ON_APPROVAL</th>\n    </tr>\n  </thead>\n  <tbody>\n    <tr>\n      <th>count</th>\n      <td>1.670214e+06</td>\n      <td>1.670214e+06</td>\n      <td>1.297979e+06</td>\n      <td>1.670214e+06</td>\n      <td>1.670213e+06</td>\n      <td>7.743700e+05</td>\n      <td>1.284699e+06</td>\n      <td>1.670214e+06</td>\n      <td>1.670214e+06</td>\n      <td>774370.000000</td>\n      <td>5951.000000</td>\n      <td>5951.000000</td>\n      <td>1.670214e+06</td>\n      <td>1.670214e+06</td>\n      <td>1.297984e+06</td>\n      <td>997149.000000</td>\n      <td>997149.000000</td>\n      <td>997149.000000</td>\n      <td>997149.000000</td>\n      <td>997149.000000</td>\n      <td>997149.000000</td>\n    </tr>\n    <tr>\n      <th>mean</th>\n      <td>1.923089e+06</td>\n      <td>2.783572e+05</td>\n      <td>1.595512e+04</td>\n      <td>1.752339e+05</td>\n      <td>1.961140e+05</td>\n      <td>6.697402e+03</td>\n      <td>2.278473e+05</td>\n      <td>1.248418e+01</td>\n      <td>9.964675e-01</td>\n      <td>0.079637</td>\n      <td>0.188357</td>\n      <td>0.773503</td>\n      <td>-8.806797e+02</td>\n      <td>3.139511e+02</td>\n      <td>1.605408e+01</td>\n      <td>342209.855039</td>\n      <td>13826.269337</td>\n      <td>33767.774054</td>\n      <td>76582.403064</td>\n      <td>81992.343838</td>\n      <td>0.332570</td>\n    </tr>\n    <tr>\n      <th>std</th>\n      <td>5.325980e+05</td>\n      <td>1.028148e+05</td>\n      <td>1.478214e+04</td>\n      <td>2.927798e+05</td>\n      <td>3.185746e+05</td>\n      <td>2.092150e+04</td>\n      <td>3.153966e+05</td>\n      <td>3.334028e+00</td>\n      <td>5.932963e-02</td>\n      <td>0.107823</td>\n      <td>0.087671</td>\n      <td>0.100879</td>\n      <td>7.790997e+02</td>\n      <td>7.127443e+03</td>\n      <td>1.456729e+01</td>\n      <td>88916.115834</td>\n      <td>72444.869708</td>\n      <td>106857.034789</td>\n      <td>149647.415123</td>\n      <td>153303.516729</td>\n      <td>0.471134</td>\n    </tr>\n    <tr>\n      <th>min</th>\n      <td>1.000001e+06</td>\n      <td>1.000010e+05</td>\n      <td>0.000000e+00</td>\n      <td>0.000000e+00</td>\n      <td>0.000000e+00</td>\n      <td>-9.000000e-01</td>\n      <td>0.000000e+00</td>\n      <td>0.000000e+00</td>\n      <td>0.000000e+00</td>\n      <td>-0.000015</td>\n      <td>0.034781</td>\n      <td>0.373150</td>\n      <td>-2.922000e+03</td>\n      <td>-1.000000e+00</td>\n      <td>0.000000e+00</td>\n      <td>-2922.000000</td>\n      <td>-2892.000000</td>\n      <td>-2801.000000</td>\n      <td>-2889.000000</td>\n      <td>-2874.000000</td>\n      <td>0.000000</td>\n    </tr>\n    <tr>\n      <th>25%</th>\n      <td>1.461857e+06</td>\n      <td>1.893290e+05</td>\n      <td>6.321780e+03</td>\n      <td>1.872000e+04</td>\n      <td>2.416050e+04</td>\n      <td>0.000000e+00</td>\n      <td>5.084100e+04</td>\n      <td>1.000000e+01</td>\n      <td>1.000000e+00</td>\n      <td>0.000000</td>\n      <td>0.160716</td>\n      <td>0.715645</td>\n      <td>-1.300000e+03</td>\n      <td>-1.000000e+00</td>\n      <td>6.000000e+00</td>\n      <td>365243.000000</td>\n      <td>-1628.000000</td>\n      <td>-1242.000000</td>\n      <td>-1314.000000</td>\n      <td>-1270.000000</td>\n      <td>0.000000</td>\n    </tr>\n    <tr>\n      <th>50%</th>\n      <td>1.923110e+06</td>\n      <td>2.787145e+05</td>\n      <td>1.125000e+04</td>\n      <td>7.104600e+04</td>\n      <td>8.054100e+04</td>\n      <td>1.638000e+03</td>\n      <td>1.123200e+05</td>\n      <td>1.200000e+01</td>\n      <td>1.000000e+00</td>\n      <td>0.051605</td>\n      <td>0.189122</td>\n      <td>0.835095</td>\n      <td>-5.810000e+02</td>\n      <td>3.000000e+00</td>\n      <td>1.200000e+01</td>\n      <td>365243.000000</td>\n      <td>-831.000000</td>\n      <td>-361.000000</td>\n      <td>-537.000000</td>\n      <td>-499.000000</td>\n      <td>0.000000</td>\n    </tr>\n    <tr>\n      <th>75%</th>\n      <td>2.384280e+06</td>\n      <td>3.675140e+05</td>\n      <td>2.065842e+04</td>\n      <td>1.803600e+05</td>\n      <td>2.164185e+05</td>\n      <td>7.740000e+03</td>\n      <td>2.340000e+05</td>\n      <td>1.500000e+01</td>\n      <td>1.000000e+00</td>\n      <td>0.108909</td>\n      <td>0.193330</td>\n      <td>0.852537</td>\n      <td>-2.800000e+02</td>\n      <td>8.200000e+01</td>\n      <td>2.400000e+01</td>\n      <td>365243.000000</td>\n      <td>-411.000000</td>\n      <td>129.000000</td>\n      <td>-74.000000</td>\n      <td>-44.000000</td>\n      <td>1.000000</td>\n    </tr>\n    <tr>\n      <th>max</th>\n      <td>2.845382e+06</td>\n      <td>4.562550e+05</td>\n      <td>4.180581e+05</td>\n      <td>6.905160e+06</td>\n      <td>6.905160e+06</td>\n      <td>3.060045e+06</td>\n      <td>6.905160e+06</td>\n      <td>2.300000e+01</td>\n      <td>1.000000e+00</td>\n      <td>1.000000</td>\n      <td>1.000000</td>\n      <td>1.000000</td>\n      <td>-1.000000e+00</td>\n      <td>4.000000e+06</td>\n      <td>8.400000e+01</td>\n      <td>365243.000000</td>\n      <td>365243.000000</td>\n      <td>365243.000000</td>\n      <td>365243.000000</td>\n      <td>365243.000000</td>\n      <td>1.000000</td>\n    </tr>\n  </tbody>\n</table>\n</div>"
          },
          "metadata": {}
        }
      ]
    },
    {
      "metadata": {
        "_uuid": "9cf8a43f3dc3a10dba0cf696cf4d62afe8313a18"
      },
      "cell_type": "markdown",
      "source": "**Pre-Procesado**"
    },
    {
      "metadata": {
        "trusted": true,
        "scrolled": true,
        "_uuid": "a3418542dce4975c04257e71f057d1058c3c4944"
      },
      "cell_type": "code",
      "source": "Previous_data.isnull().sum()",
      "execution_count": 114,
      "outputs": [
        {
          "output_type": "execute_result",
          "execution_count": 114,
          "data": {
            "text/plain": "SK_ID_PREV                           0\nSK_ID_CURR                           0\nNAME_CONTRACT_TYPE                   0\nAMT_ANNUITY                     372235\nAMT_APPLICATION                      0\nAMT_CREDIT                           1\nAMT_DOWN_PAYMENT                895844\nAMT_GOODS_PRICE                 385515\nWEEKDAY_APPR_PROCESS_START           0\nHOUR_APPR_PROCESS_START              0\nFLAG_LAST_APPL_PER_CONTRACT          0\nNFLAG_LAST_APPL_IN_DAY               0\nRATE_DOWN_PAYMENT               895844\nRATE_INTEREST_PRIMARY          1664263\nRATE_INTEREST_PRIVILEGED       1664263\nNAME_CASH_LOAN_PURPOSE               0\nNAME_CONTRACT_STATUS                 0\nDAYS_DECISION                        0\nNAME_PAYMENT_TYPE                    0\nCODE_REJECT_REASON                   0\nNAME_TYPE_SUITE                 820405\nNAME_CLIENT_TYPE                     0\nNAME_GOODS_CATEGORY                  0\nNAME_PORTFOLIO                       0\nNAME_PRODUCT_TYPE                    0\nCHANNEL_TYPE                         0\nSELLERPLACE_AREA                     0\nNAME_SELLER_INDUSTRY                 0\nCNT_PAYMENT                     372230\nNAME_YIELD_GROUP                     0\nPRODUCT_COMBINATION                346\nDAYS_FIRST_DRAWING              673065\nDAYS_FIRST_DUE                  673065\nDAYS_LAST_DUE_1ST_VERSION       673065\nDAYS_LAST_DUE                   673065\nDAYS_TERMINATION                673065\nNFLAG_INSURED_ON_APPROVAL       673065\ndtype: int64"
          },
          "metadata": {}
        }
      ]
    },
    {
      "metadata": {
        "trusted": true,
        "_uuid": "ce3cd02bc43eaa640862d99909ad034133051499"
      },
      "cell_type": "code",
      "source": "#La columna NAME_TYPE_SUITE siendo algo tan alejado del tema se considera innecesaria, \n#por esta razon se elimina.\nPrevious_data = Previous_data.drop('NAME_TYPE_SUITE',1)\nPrevious_data['PRODUCT_COMBINATION'].fillna('Cash', inplace=True)",
      "execution_count": 116,
      "outputs": []
    },
    {
      "metadata": {
        "trusted": true,
        "_uuid": "1fbd03641f376246efc4672991a3b3ce0a683248"
      },
      "cell_type": "code",
      "source": "Previous_data.dtypes.value_counts()",
      "execution_count": 117,
      "outputs": [
        {
          "output_type": "execute_result",
          "execution_count": 117,
          "data": {
            "text/plain": "object     15\nfloat64    15\nint64       6\ndtype: int64"
          },
          "metadata": {}
        }
      ]
    },
    {
      "metadata": {
        "trusted": true,
        "_uuid": "2843a3bb36be6fb1747e03b2f2a478eddf5b2355"
      },
      "cell_type": "code",
      "source": "label = LabelEncoder()\nobj_columns = Previous_data.dtypes[Previous_data.dtypes.values == 'object'].index.tolist()\nfor i in obj_columns:\n    if len(Previous_data[i].unique()) <= 2:\n        #entreo el objeto encoder\n        label.fit(Previous_data[i])\n        #aplico la transformacion en los dos DF principales.\n        Previous_data[i] = label.transform(Previous_data[i])\n\n#Ahora codificar las que tienen mas de 2 categorias.\nPrevious_data = pd.get_dummies(Previous_data)",
      "execution_count": 118,
      "outputs": []
    },
    {
      "metadata": {
        "trusted": true,
        "_uuid": "1cf58bc392e850066899471f1772d122f73de1d5"
      },
      "cell_type": "code",
      "source": "print('Nuevas dimensiones del DF: ', Previous_data.shape)",
      "execution_count": 119,
      "outputs": [
        {
          "output_type": "stream",
          "text": "Nuevas dimensiones del DF:  (1670214, 156)\n",
          "name": "stdout"
        }
      ]
    },
    {
      "metadata": {
        "_uuid": "b70ceb82e98eb2d9da69ffe95fc4e5f2bc296dbc"
      },
      "cell_type": "markdown",
      "source": "Llenado de valores NaN"
    },
    {
      "metadata": {
        "trusted": true,
        "_uuid": "849e39bfe40e33f623ee7940a4e92064c2bfeec6"
      },
      "cell_type": "code",
      "source": "Previous_data.fillna(np.mean(Previous_data), inplace=True)",
      "execution_count": 120,
      "outputs": []
    },
    {
      "metadata": {
        "_uuid": "b2ed47c9cab62b0ac50e2397a1bea97d3271c44a"
      },
      "cell_type": "markdown",
      "source": "## Bureau data"
    },
    {
      "metadata": {
        "trusted": true,
        "_uuid": "0446b9d970ce2cce32f33bdc2f3a6bc5e36ec60e"
      },
      "cell_type": "code",
      "source": "Bureau_data = pd.read_csv('../input/bureau.csv')\nBureau_data.head()",
      "execution_count": 121,
      "outputs": [
        {
          "output_type": "execute_result",
          "execution_count": 121,
          "data": {
            "text/plain": "   SK_ID_CURR  SK_ID_BUREAU     ...     DAYS_CREDIT_UPDATE AMT_ANNUITY\n0      215354       5714462     ...                   -131         NaN\n1      215354       5714463     ...                    -20         NaN\n2      215354       5714464     ...                    -16         NaN\n3      215354       5714465     ...                    -16         NaN\n4      215354       5714466     ...                    -21         NaN\n\n[5 rows x 17 columns]",
            "text/html": "<div>\n<style scoped>\n    .dataframe tbody tr th:only-of-type {\n        vertical-align: middle;\n    }\n\n    .dataframe tbody tr th {\n        vertical-align: top;\n    }\n\n    .dataframe thead th {\n        text-align: right;\n    }\n</style>\n<table border=\"1\" class=\"dataframe\">\n  <thead>\n    <tr style=\"text-align: right;\">\n      <th></th>\n      <th>SK_ID_CURR</th>\n      <th>SK_ID_BUREAU</th>\n      <th>CREDIT_ACTIVE</th>\n      <th>CREDIT_CURRENCY</th>\n      <th>DAYS_CREDIT</th>\n      <th>CREDIT_DAY_OVERDUE</th>\n      <th>DAYS_CREDIT_ENDDATE</th>\n      <th>DAYS_ENDDATE_FACT</th>\n      <th>AMT_CREDIT_MAX_OVERDUE</th>\n      <th>CNT_CREDIT_PROLONG</th>\n      <th>AMT_CREDIT_SUM</th>\n      <th>AMT_CREDIT_SUM_DEBT</th>\n      <th>AMT_CREDIT_SUM_LIMIT</th>\n      <th>AMT_CREDIT_SUM_OVERDUE</th>\n      <th>CREDIT_TYPE</th>\n      <th>DAYS_CREDIT_UPDATE</th>\n      <th>AMT_ANNUITY</th>\n    </tr>\n  </thead>\n  <tbody>\n    <tr>\n      <th>0</th>\n      <td>215354</td>\n      <td>5714462</td>\n      <td>Closed</td>\n      <td>currency 1</td>\n      <td>-497</td>\n      <td>0</td>\n      <td>-153.0</td>\n      <td>-153.0</td>\n      <td>NaN</td>\n      <td>0</td>\n      <td>91323.0</td>\n      <td>0.0</td>\n      <td>NaN</td>\n      <td>0.0</td>\n      <td>Consumer credit</td>\n      <td>-131</td>\n      <td>NaN</td>\n    </tr>\n    <tr>\n      <th>1</th>\n      <td>215354</td>\n      <td>5714463</td>\n      <td>Active</td>\n      <td>currency 1</td>\n      <td>-208</td>\n      <td>0</td>\n      <td>1075.0</td>\n      <td>NaN</td>\n      <td>NaN</td>\n      <td>0</td>\n      <td>225000.0</td>\n      <td>171342.0</td>\n      <td>NaN</td>\n      <td>0.0</td>\n      <td>Credit card</td>\n      <td>-20</td>\n      <td>NaN</td>\n    </tr>\n    <tr>\n      <th>2</th>\n      <td>215354</td>\n      <td>5714464</td>\n      <td>Active</td>\n      <td>currency 1</td>\n      <td>-203</td>\n      <td>0</td>\n      <td>528.0</td>\n      <td>NaN</td>\n      <td>NaN</td>\n      <td>0</td>\n      <td>464323.5</td>\n      <td>NaN</td>\n      <td>NaN</td>\n      <td>0.0</td>\n      <td>Consumer credit</td>\n      <td>-16</td>\n      <td>NaN</td>\n    </tr>\n    <tr>\n      <th>3</th>\n      <td>215354</td>\n      <td>5714465</td>\n      <td>Active</td>\n      <td>currency 1</td>\n      <td>-203</td>\n      <td>0</td>\n      <td>NaN</td>\n      <td>NaN</td>\n      <td>NaN</td>\n      <td>0</td>\n      <td>90000.0</td>\n      <td>NaN</td>\n      <td>NaN</td>\n      <td>0.0</td>\n      <td>Credit card</td>\n      <td>-16</td>\n      <td>NaN</td>\n    </tr>\n    <tr>\n      <th>4</th>\n      <td>215354</td>\n      <td>5714466</td>\n      <td>Active</td>\n      <td>currency 1</td>\n      <td>-629</td>\n      <td>0</td>\n      <td>1197.0</td>\n      <td>NaN</td>\n      <td>77674.5</td>\n      <td>0</td>\n      <td>2700000.0</td>\n      <td>NaN</td>\n      <td>NaN</td>\n      <td>0.0</td>\n      <td>Consumer credit</td>\n      <td>-21</td>\n      <td>NaN</td>\n    </tr>\n  </tbody>\n</table>\n</div>"
          },
          "metadata": {}
        }
      ]
    },
    {
      "metadata": {
        "trusted": true,
        "_uuid": "668b9fb8e4315d23d7c454f5509948e8c9bfd7c4"
      },
      "cell_type": "code",
      "source": "print(Bureau_data.shape)\nBureau_data.describe()",
      "execution_count": 122,
      "outputs": [
        {
          "output_type": "stream",
          "text": "(1716428, 17)\n",
          "name": "stdout"
        },
        {
          "output_type": "execute_result",
          "execution_count": 122,
          "data": {
            "text/plain": "         SK_ID_CURR      ...        AMT_ANNUITY\ncount  1.716428e+06      ...       4.896370e+05\nmean   2.782149e+05      ...       1.571276e+04\nstd    1.029386e+05      ...       3.258269e+05\nmin    1.000010e+05      ...       0.000000e+00\n25%    1.888668e+05      ...       0.000000e+00\n50%    2.780550e+05      ...       0.000000e+00\n75%    3.674260e+05      ...       1.350000e+04\nmax    4.562550e+05      ...       1.184534e+08\n\n[8 rows x 14 columns]",
            "text/html": "<div>\n<style scoped>\n    .dataframe tbody tr th:only-of-type {\n        vertical-align: middle;\n    }\n\n    .dataframe tbody tr th {\n        vertical-align: top;\n    }\n\n    .dataframe thead th {\n        text-align: right;\n    }\n</style>\n<table border=\"1\" class=\"dataframe\">\n  <thead>\n    <tr style=\"text-align: right;\">\n      <th></th>\n      <th>SK_ID_CURR</th>\n      <th>SK_ID_BUREAU</th>\n      <th>DAYS_CREDIT</th>\n      <th>CREDIT_DAY_OVERDUE</th>\n      <th>DAYS_CREDIT_ENDDATE</th>\n      <th>DAYS_ENDDATE_FACT</th>\n      <th>AMT_CREDIT_MAX_OVERDUE</th>\n      <th>CNT_CREDIT_PROLONG</th>\n      <th>AMT_CREDIT_SUM</th>\n      <th>AMT_CREDIT_SUM_DEBT</th>\n      <th>AMT_CREDIT_SUM_LIMIT</th>\n      <th>AMT_CREDIT_SUM_OVERDUE</th>\n      <th>DAYS_CREDIT_UPDATE</th>\n      <th>AMT_ANNUITY</th>\n    </tr>\n  </thead>\n  <tbody>\n    <tr>\n      <th>count</th>\n      <td>1.716428e+06</td>\n      <td>1.716428e+06</td>\n      <td>1.716428e+06</td>\n      <td>1.716428e+06</td>\n      <td>1.610875e+06</td>\n      <td>1.082775e+06</td>\n      <td>5.919400e+05</td>\n      <td>1.716428e+06</td>\n      <td>1.716415e+06</td>\n      <td>1.458759e+06</td>\n      <td>1.124648e+06</td>\n      <td>1.716428e+06</td>\n      <td>1.716428e+06</td>\n      <td>4.896370e+05</td>\n    </tr>\n    <tr>\n      <th>mean</th>\n      <td>2.782149e+05</td>\n      <td>5.924434e+06</td>\n      <td>-1.142108e+03</td>\n      <td>8.181666e-01</td>\n      <td>5.105174e+02</td>\n      <td>-1.017437e+03</td>\n      <td>3.825418e+03</td>\n      <td>6.410406e-03</td>\n      <td>3.549946e+05</td>\n      <td>1.370851e+05</td>\n      <td>6.229515e+03</td>\n      <td>3.791276e+01</td>\n      <td>-5.937483e+02</td>\n      <td>1.571276e+04</td>\n    </tr>\n    <tr>\n      <th>std</th>\n      <td>1.029386e+05</td>\n      <td>5.322657e+05</td>\n      <td>7.951649e+02</td>\n      <td>3.654443e+01</td>\n      <td>4.994220e+03</td>\n      <td>7.140106e+02</td>\n      <td>2.060316e+05</td>\n      <td>9.622391e-02</td>\n      <td>1.149811e+06</td>\n      <td>6.774011e+05</td>\n      <td>4.503203e+04</td>\n      <td>5.937650e+03</td>\n      <td>7.207473e+02</td>\n      <td>3.258269e+05</td>\n    </tr>\n    <tr>\n      <th>min</th>\n      <td>1.000010e+05</td>\n      <td>5.000000e+06</td>\n      <td>-2.922000e+03</td>\n      <td>0.000000e+00</td>\n      <td>-4.206000e+04</td>\n      <td>-4.202300e+04</td>\n      <td>0.000000e+00</td>\n      <td>0.000000e+00</td>\n      <td>0.000000e+00</td>\n      <td>-4.705600e+06</td>\n      <td>-5.864061e+05</td>\n      <td>0.000000e+00</td>\n      <td>-4.194700e+04</td>\n      <td>0.000000e+00</td>\n    </tr>\n    <tr>\n      <th>25%</th>\n      <td>1.888668e+05</td>\n      <td>5.463954e+06</td>\n      <td>-1.666000e+03</td>\n      <td>0.000000e+00</td>\n      <td>-1.138000e+03</td>\n      <td>-1.489000e+03</td>\n      <td>0.000000e+00</td>\n      <td>0.000000e+00</td>\n      <td>5.130000e+04</td>\n      <td>0.000000e+00</td>\n      <td>0.000000e+00</td>\n      <td>0.000000e+00</td>\n      <td>-9.080000e+02</td>\n      <td>0.000000e+00</td>\n    </tr>\n    <tr>\n      <th>50%</th>\n      <td>2.780550e+05</td>\n      <td>5.926304e+06</td>\n      <td>-9.870000e+02</td>\n      <td>0.000000e+00</td>\n      <td>-3.300000e+02</td>\n      <td>-8.970000e+02</td>\n      <td>0.000000e+00</td>\n      <td>0.000000e+00</td>\n      <td>1.255185e+05</td>\n      <td>0.000000e+00</td>\n      <td>0.000000e+00</td>\n      <td>0.000000e+00</td>\n      <td>-3.950000e+02</td>\n      <td>0.000000e+00</td>\n    </tr>\n    <tr>\n      <th>75%</th>\n      <td>3.674260e+05</td>\n      <td>6.385681e+06</td>\n      <td>-4.740000e+02</td>\n      <td>0.000000e+00</td>\n      <td>4.740000e+02</td>\n      <td>-4.250000e+02</td>\n      <td>0.000000e+00</td>\n      <td>0.000000e+00</td>\n      <td>3.150000e+05</td>\n      <td>4.015350e+04</td>\n      <td>0.000000e+00</td>\n      <td>0.000000e+00</td>\n      <td>-3.300000e+01</td>\n      <td>1.350000e+04</td>\n    </tr>\n    <tr>\n      <th>max</th>\n      <td>4.562550e+05</td>\n      <td>6.843457e+06</td>\n      <td>0.000000e+00</td>\n      <td>2.792000e+03</td>\n      <td>3.119900e+04</td>\n      <td>0.000000e+00</td>\n      <td>1.159872e+08</td>\n      <td>9.000000e+00</td>\n      <td>5.850000e+08</td>\n      <td>1.701000e+08</td>\n      <td>4.705600e+06</td>\n      <td>3.756681e+06</td>\n      <td>3.720000e+02</td>\n      <td>1.184534e+08</td>\n    </tr>\n  </tbody>\n</table>\n</div>"
          },
          "metadata": {}
        }
      ]
    },
    {
      "metadata": {
        "_uuid": "9a836b81e9467cb940429b5d6d79b704b2fca08c"
      },
      "cell_type": "markdown",
      "source": "### Pre-procesado de Bureau"
    },
    {
      "metadata": {
        "trusted": true,
        "_uuid": "6a06ae80367a2dd689d2c81c692c3c98080dd609"
      },
      "cell_type": "code",
      "source": "Bureau_data.isnull().sum()",
      "execution_count": 123,
      "outputs": [
        {
          "output_type": "execute_result",
          "execution_count": 123,
          "data": {
            "text/plain": "SK_ID_CURR                      0\nSK_ID_BUREAU                    0\nCREDIT_ACTIVE                   0\nCREDIT_CURRENCY                 0\nDAYS_CREDIT                     0\nCREDIT_DAY_OVERDUE              0\nDAYS_CREDIT_ENDDATE        105553\nDAYS_ENDDATE_FACT          633653\nAMT_CREDIT_MAX_OVERDUE    1124488\nCNT_CREDIT_PROLONG              0\nAMT_CREDIT_SUM                 13\nAMT_CREDIT_SUM_DEBT        257669\nAMT_CREDIT_SUM_LIMIT       591780\nAMT_CREDIT_SUM_OVERDUE          0\nCREDIT_TYPE                     0\nDAYS_CREDIT_UPDATE              0\nAMT_ANNUITY               1226791\ndtype: int64"
          },
          "metadata": {}
        }
      ]
    },
    {
      "metadata": {
        "trusted": true,
        "_uuid": "688c5e084653a9231eefd31dfdc9365b4225afb5"
      },
      "cell_type": "code",
      "source": "Bureau_data['DAYS_CREDIT_ENDDATE'] = abs(Bureau_data['DAYS_CREDIT_ENDDATE']) \nBureau_data['DAYS_ENDDATE_FACT'] = abs(Bureau_data['DAYS_ENDDATE_FACT']) ",
      "execution_count": 124,
      "outputs": []
    },
    {
      "metadata": {
        "trusted": true,
        "_uuid": "30b93ac4c8b67e398900e7f9fe7591234f773be0"
      },
      "cell_type": "code",
      "source": "Bureau_data.dtypes.value_counts()",
      "execution_count": 125,
      "outputs": [
        {
          "output_type": "execute_result",
          "execution_count": 125,
          "data": {
            "text/plain": "float64    8\nint64      6\nobject     3\ndtype: int64"
          },
          "metadata": {}
        }
      ]
    },
    {
      "metadata": {
        "trusted": true,
        "_uuid": "474e8d4954ce7958d8b958ac42cf2790b3b5626a"
      },
      "cell_type": "code",
      "source": "label = LabelEncoder()\nobj_columns = Bureau_data.dtypes[Bureau_data.dtypes.values == 'object'].index.tolist()\nfor i in obj_columns:\n    if len(Bureau_data[i].unique()) <= 2:\n        #entreo el objeto encoder\n        label.fit(Bureau_data[i])\n        #aplico la transformacion en los dos DF principales.\n        Bureau_data[i] = label.transform(Bureau_data[i])\n\n#Ahora codificar las que tienen mas de 2 categorias.\nBureau_data = pd.get_dummies(Bureau_data)",
      "execution_count": 126,
      "outputs": []
    },
    {
      "metadata": {
        "trusted": true,
        "_uuid": "eb25a803f43d1db860b4f078f7fb3b99f3b17a97"
      },
      "cell_type": "code",
      "source": "Bureau_data.fillna(np.mean(Bureau_data), inplace=True)",
      "execution_count": 127,
      "outputs": []
    },
    {
      "metadata": {
        "trusted": true,
        "_uuid": "3480b62df39c8bddc19a7b1c6765adf865bf2dca"
      },
      "cell_type": "code",
      "source": "print('Nuevas dimensiones de Bureau:', Bureau_data.shape)",
      "execution_count": 128,
      "outputs": [
        {
          "output_type": "stream",
          "text": "Nuevas dimensiones de Bureau: (1716428, 37)\n",
          "name": "stdout"
        }
      ]
    },
    {
      "metadata": {
        "_uuid": "e4a1080e6a65e30a37468b860722f2fe6ddfd331"
      },
      "cell_type": "markdown",
      "source": "**ANTES DE CONTINUAR CON LA UNION DE LOS DATOS**  \nLos datos se identifican con la columna *SK_ID_CURR* en los DF, por lo tanto si queremos hacer una fusion de las tablas que poseemos debemos ver si un mismo cliente puede tener varios registros de prestamos en el pasado, o solo tiene uno, en caso de que tenga varios tendriamos que realizar una reduccion para tener solo 1 registro por cliente."
    },
    {
      "metadata": {
        "trusted": true,
        "_uuid": "5ac3083e3637f8d178f0c1b1c1804ac5457709c9"
      },
      "cell_type": "code",
      "source": "cp = Previous_data[Previous_data[['SK_ID_CURR']].duplicated(keep=False)]\nprint('Hay',abs(cp.index.shape[0]-Previous_data.shape[0]),'repetidos de', Previous_data.shape[0])",
      "execution_count": 129,
      "outputs": [
        {
          "output_type": "stream",
          "text": "Hay 60458 repetidos de 1670214\n",
          "name": "stdout"
        }
      ]
    },
    {
      "metadata": {
        "trusted": true,
        "_uuid": "35468ba1fd376fdfe9d3e8c3c9b76363430ebb04"
      },
      "cell_type": "code",
      "source": "cp = Bureau_data[Bureau_data[['SK_ID_CURR']].duplicated(keep=False)]\nprint('Hay',abs(cp.index.shape[0]-Bureau_data.shape[0]),'repetidos de', Bureau_data.shape[0])",
      "execution_count": 130,
      "outputs": [
        {
          "output_type": "stream",
          "text": "Hay 41520 repetidos de 1716428\n",
          "name": "stdout"
        }
      ]
    },
    {
      "metadata": {
        "_uuid": "2d936c0f021b0a14b5908c0151175799795ad86b"
      },
      "cell_type": "markdown",
      "source": "Como se puede notar, hay varios repetidor en ambos archivos, entonces tendremos que aplicar algun metodo para reducir los registros que existen por cliente a solo 1.  \n- Para los datos del archivo *Previous* haremos un promedio de los registros de un mismo cliente.\n- Para el Bureau\n\n**NOTA**: el merge se realizara en el DF inicial, y no en el archivo ya re escalado."
    },
    {
      "metadata": {
        "trusted": true,
        "_uuid": "229bef48e631768bee045a29670c6c9a2b4173b2"
      },
      "cell_type": "code",
      "source": "#Eliminamos el identificador del prestamo previo, porque no nos sirve de nada ya que\n#vamos a fusionar varios registros en uno.\nPrevious_data = Previous_data.drop('SK_ID_PREV', axis=1)\n#Hacemos grupos con los id del prestamo actual y dejamos solo el promedio de ellos.\nPrevious_data = Previous_data.groupby(Previous_data['SK_ID_CURR']).mean()",
      "execution_count": 131,
      "outputs": []
    },
    {
      "metadata": {
        "_uuid": "34e4fa07a5aa1b5fe8d1df9dab8287a35ef632e5"
      },
      "cell_type": "markdown",
      "source": "Y ahora si hacemos la fusion con los datos de entrenamiento y con los de prueba."
    },
    {
      "metadata": {
        "trusted": true,
        "_uuid": "eb5b0004bd3f527b9e8f0dbac9235336947770bd"
      },
      "cell_type": "code",
      "source": "print(data_train.shape, Previous_data.shape)",
      "execution_count": 132,
      "outputs": [
        {
          "output_type": "stream",
          "text": "(307511, 240) (338857, 154)\n",
          "name": "stdout"
        }
      ]
    },
    {
      "metadata": {
        "trusted": true,
        "_uuid": "8ed2d2c57a53587c14584bc3782eae45b795b435"
      },
      "cell_type": "code",
      "source": "Merged_data_train = pd.merge(data_train, Previous_data, left_on='SK_ID_CURR', right_on='SK_ID_CURR', how='left')\nMerged_data_test = pd.merge(data_test, Previous_data, left_on='SK_ID_CURR', right_on='SK_ID_CURR', how='left')",
      "execution_count": 154,
      "outputs": []
    },
    {
      "metadata": {
        "_uuid": "cf4a334654c81ed65bc52a51dde54825283f966b"
      },
      "cell_type": "markdown",
      "source": "### Ahora continuamos con la tabla de Bureau"
    },
    {
      "metadata": {
        "trusted": true,
        "_uuid": "229bef48e631768bee045a29670c6c9a2b4173b2",
        "collapsed": true
      },
      "cell_type": "code",
      "source": "#Eliminamos el identificador del Bureau, porque no nos sirve de nada ya que\n#vamos a fusionar varios registros en uno.\nBureau_data = Bureau_data.drop('SK_ID_BUREAU', axis=1)\n#Hacemos grupos con los id del prestamo actual y dejamos solo el promedio de ellos.\nBureau_data = Bureau_data.groupby(Bureau_data['SK_ID_CURR']).mean()",
      "execution_count": 155,
      "outputs": [
        {
          "output_type": "error",
          "ename": "KeyError",
          "evalue": "\"['SK_ID_BUREAU'] not found in axis\"",
          "traceback": [
            "\u001b[0;31m---------------------------------------------------------------------------\u001b[0m",
            "\u001b[0;31mKeyError\u001b[0m                                  Traceback (most recent call last)",
            "\u001b[0;32m<ipython-input-155-44c29860f02f>\u001b[0m in \u001b[0;36m<module>\u001b[0;34m()\u001b[0m\n\u001b[1;32m      1\u001b[0m \u001b[0;31m#Eliminamos el identificador del Bureau, porque no nos sirve de nada ya que\u001b[0m\u001b[0;34m\u001b[0m\u001b[0;34m\u001b[0m\u001b[0m\n\u001b[1;32m      2\u001b[0m \u001b[0;31m#vamos a fusionar varios registros en uno.\u001b[0m\u001b[0;34m\u001b[0m\u001b[0;34m\u001b[0m\u001b[0m\n\u001b[0;32m----> 3\u001b[0;31m \u001b[0mBureau_data\u001b[0m \u001b[0;34m=\u001b[0m \u001b[0mBureau_data\u001b[0m\u001b[0;34m.\u001b[0m\u001b[0mdrop\u001b[0m\u001b[0;34m(\u001b[0m\u001b[0;34m'SK_ID_BUREAU'\u001b[0m\u001b[0;34m,\u001b[0m \u001b[0maxis\u001b[0m\u001b[0;34m=\u001b[0m\u001b[0;36m1\u001b[0m\u001b[0;34m)\u001b[0m\u001b[0;34m\u001b[0m\u001b[0m\n\u001b[0m\u001b[1;32m      4\u001b[0m \u001b[0;31m#Hacemos grupos con los id del prestamo actual y dejamos solo el promedio de ellos.\u001b[0m\u001b[0;34m\u001b[0m\u001b[0;34m\u001b[0m\u001b[0m\n\u001b[1;32m      5\u001b[0m \u001b[0mBureau_data\u001b[0m \u001b[0;34m=\u001b[0m \u001b[0mBureau_data\u001b[0m\u001b[0;34m.\u001b[0m\u001b[0mgroupby\u001b[0m\u001b[0;34m(\u001b[0m\u001b[0mBureau_data\u001b[0m\u001b[0;34m[\u001b[0m\u001b[0;34m'SK_ID_CURR'\u001b[0m\u001b[0;34m]\u001b[0m\u001b[0;34m)\u001b[0m\u001b[0;34m.\u001b[0m\u001b[0mmean\u001b[0m\u001b[0;34m(\u001b[0m\u001b[0;34m)\u001b[0m\u001b[0;34m\u001b[0m\u001b[0m\n",
            "\u001b[0;32m/opt/conda/lib/python3.6/site-packages/pandas/core/frame.py\u001b[0m in \u001b[0;36mdrop\u001b[0;34m(self, labels, axis, index, columns, level, inplace, errors)\u001b[0m\n\u001b[1;32m   3695\u001b[0m                                            \u001b[0mindex\u001b[0m\u001b[0;34m=\u001b[0m\u001b[0mindex\u001b[0m\u001b[0;34m,\u001b[0m \u001b[0mcolumns\u001b[0m\u001b[0;34m=\u001b[0m\u001b[0mcolumns\u001b[0m\u001b[0;34m,\u001b[0m\u001b[0;34m\u001b[0m\u001b[0m\n\u001b[1;32m   3696\u001b[0m                                            \u001b[0mlevel\u001b[0m\u001b[0;34m=\u001b[0m\u001b[0mlevel\u001b[0m\u001b[0;34m,\u001b[0m \u001b[0minplace\u001b[0m\u001b[0;34m=\u001b[0m\u001b[0minplace\u001b[0m\u001b[0;34m,\u001b[0m\u001b[0;34m\u001b[0m\u001b[0m\n\u001b[0;32m-> 3697\u001b[0;31m                                            errors=errors)\n\u001b[0m\u001b[1;32m   3698\u001b[0m \u001b[0;34m\u001b[0m\u001b[0m\n\u001b[1;32m   3699\u001b[0m     @rewrite_axis_style_signature('mapper', [('copy', True),\n",
            "\u001b[0;32m/opt/conda/lib/python3.6/site-packages/pandas/core/generic.py\u001b[0m in \u001b[0;36mdrop\u001b[0;34m(self, labels, axis, index, columns, level, inplace, errors)\u001b[0m\n\u001b[1;32m   3109\u001b[0m         \u001b[0;32mfor\u001b[0m \u001b[0maxis\u001b[0m\u001b[0;34m,\u001b[0m \u001b[0mlabels\u001b[0m \u001b[0;32min\u001b[0m \u001b[0maxes\u001b[0m\u001b[0;34m.\u001b[0m\u001b[0mitems\u001b[0m\u001b[0;34m(\u001b[0m\u001b[0;34m)\u001b[0m\u001b[0;34m:\u001b[0m\u001b[0;34m\u001b[0m\u001b[0m\n\u001b[1;32m   3110\u001b[0m             \u001b[0;32mif\u001b[0m \u001b[0mlabels\u001b[0m \u001b[0;32mis\u001b[0m \u001b[0;32mnot\u001b[0m \u001b[0;32mNone\u001b[0m\u001b[0;34m:\u001b[0m\u001b[0;34m\u001b[0m\u001b[0m\n\u001b[0;32m-> 3111\u001b[0;31m                 \u001b[0mobj\u001b[0m \u001b[0;34m=\u001b[0m \u001b[0mobj\u001b[0m\u001b[0;34m.\u001b[0m\u001b[0m_drop_axis\u001b[0m\u001b[0;34m(\u001b[0m\u001b[0mlabels\u001b[0m\u001b[0;34m,\u001b[0m \u001b[0maxis\u001b[0m\u001b[0;34m,\u001b[0m \u001b[0mlevel\u001b[0m\u001b[0;34m=\u001b[0m\u001b[0mlevel\u001b[0m\u001b[0;34m,\u001b[0m \u001b[0merrors\u001b[0m\u001b[0;34m=\u001b[0m\u001b[0merrors\u001b[0m\u001b[0;34m)\u001b[0m\u001b[0;34m\u001b[0m\u001b[0m\n\u001b[0m\u001b[1;32m   3112\u001b[0m \u001b[0;34m\u001b[0m\u001b[0m\n\u001b[1;32m   3113\u001b[0m         \u001b[0;32mif\u001b[0m \u001b[0minplace\u001b[0m\u001b[0;34m:\u001b[0m\u001b[0;34m\u001b[0m\u001b[0m\n",
            "\u001b[0;32m/opt/conda/lib/python3.6/site-packages/pandas/core/generic.py\u001b[0m in \u001b[0;36m_drop_axis\u001b[0;34m(self, labels, axis, level, errors)\u001b[0m\n\u001b[1;32m   3141\u001b[0m                 \u001b[0mnew_axis\u001b[0m \u001b[0;34m=\u001b[0m \u001b[0maxis\u001b[0m\u001b[0;34m.\u001b[0m\u001b[0mdrop\u001b[0m\u001b[0;34m(\u001b[0m\u001b[0mlabels\u001b[0m\u001b[0;34m,\u001b[0m \u001b[0mlevel\u001b[0m\u001b[0;34m=\u001b[0m\u001b[0mlevel\u001b[0m\u001b[0;34m,\u001b[0m \u001b[0merrors\u001b[0m\u001b[0;34m=\u001b[0m\u001b[0merrors\u001b[0m\u001b[0;34m)\u001b[0m\u001b[0;34m\u001b[0m\u001b[0m\n\u001b[1;32m   3142\u001b[0m             \u001b[0;32melse\u001b[0m\u001b[0;34m:\u001b[0m\u001b[0;34m\u001b[0m\u001b[0m\n\u001b[0;32m-> 3143\u001b[0;31m                 \u001b[0mnew_axis\u001b[0m \u001b[0;34m=\u001b[0m \u001b[0maxis\u001b[0m\u001b[0;34m.\u001b[0m\u001b[0mdrop\u001b[0m\u001b[0;34m(\u001b[0m\u001b[0mlabels\u001b[0m\u001b[0;34m,\u001b[0m \u001b[0merrors\u001b[0m\u001b[0;34m=\u001b[0m\u001b[0merrors\u001b[0m\u001b[0;34m)\u001b[0m\u001b[0;34m\u001b[0m\u001b[0m\n\u001b[0m\u001b[1;32m   3144\u001b[0m             \u001b[0mresult\u001b[0m \u001b[0;34m=\u001b[0m \u001b[0mself\u001b[0m\u001b[0;34m.\u001b[0m\u001b[0mreindex\u001b[0m\u001b[0;34m(\u001b[0m\u001b[0;34m**\u001b[0m\u001b[0;34m{\u001b[0m\u001b[0maxis_name\u001b[0m\u001b[0;34m:\u001b[0m \u001b[0mnew_axis\u001b[0m\u001b[0;34m}\u001b[0m\u001b[0;34m)\u001b[0m\u001b[0;34m\u001b[0m\u001b[0m\n\u001b[1;32m   3145\u001b[0m \u001b[0;34m\u001b[0m\u001b[0m\n",
            "\u001b[0;32m/opt/conda/lib/python3.6/site-packages/pandas/core/indexes/base.py\u001b[0m in \u001b[0;36mdrop\u001b[0;34m(self, labels, errors)\u001b[0m\n\u001b[1;32m   4402\u001b[0m             \u001b[0;32mif\u001b[0m \u001b[0merrors\u001b[0m \u001b[0;34m!=\u001b[0m \u001b[0;34m'ignore'\u001b[0m\u001b[0;34m:\u001b[0m\u001b[0;34m\u001b[0m\u001b[0m\n\u001b[1;32m   4403\u001b[0m                 raise KeyError(\n\u001b[0;32m-> 4404\u001b[0;31m                     '{} not found in axis'.format(labels[mask]))\n\u001b[0m\u001b[1;32m   4405\u001b[0m             \u001b[0mindexer\u001b[0m \u001b[0;34m=\u001b[0m \u001b[0mindexer\u001b[0m\u001b[0;34m[\u001b[0m\u001b[0;34m~\u001b[0m\u001b[0mmask\u001b[0m\u001b[0;34m]\u001b[0m\u001b[0;34m\u001b[0m\u001b[0m\n\u001b[1;32m   4406\u001b[0m         \u001b[0;32mreturn\u001b[0m \u001b[0mself\u001b[0m\u001b[0;34m.\u001b[0m\u001b[0mdelete\u001b[0m\u001b[0;34m(\u001b[0m\u001b[0mindexer\u001b[0m\u001b[0;34m)\u001b[0m\u001b[0;34m\u001b[0m\u001b[0m\n",
            "\u001b[0;31mKeyError\u001b[0m: \"['SK_ID_BUREAU'] not found in axis\""
          ]
        }
      ]
    },
    {
      "metadata": {
        "trusted": true,
        "_uuid": "f8bf95b3202d8d8c6b01489a58746ad5d2789952"
      },
      "cell_type": "code",
      "source": "Merged_data_train = pd.merge(Merged_data_train, Bureau_data, left_on='SK_ID_CURR', right_on='SK_ID_CURR', how='left')\nMerged_data_test = pd.merge(Merged_data_test, Bureau_data, left_on='SK_ID_CURR', right_on='SK_ID_CURR', how='left')",
      "execution_count": 156,
      "outputs": []
    },
    {
      "metadata": {
        "_uuid": "72a4b542a0d2592a269726c1f8672e8209618779"
      },
      "cell_type": "markdown",
      "source": "**Se realiza la division en TRAIN y TEST el RE-Escalado antes de construir los modelos**"
    },
    {
      "metadata": {
        "trusted": true,
        "_uuid": "1abb1fe8838fa9ebed8e945f03538db7f4a26983"
      },
      "cell_type": "code",
      "source": "cl = Merged_data_train.columns.values.tolist()\ncl.remove('TARGET')\nMerged_X_train = Merged_data_train.filter(cl)\ny = Merged_data_train['TARGET']",
      "execution_count": 157,
      "outputs": []
    },
    {
      "metadata": {
        "_uuid": "3add6316e6e9a9cf2f5724231c9658d4636ac8a0"
      },
      "cell_type": "markdown",
      "source": "Justo antes de re-escalar nuestros DataFrames tenemos que solucionar el problema de los valores NaN, ya que hay clientes que no tenian creditos pasados, o no estaban en la lista de *bureau* entonces estos datos quedan como NaN  .\n- Se usara el valor minimo para rellenar los valores NaN\n- Se usara el promedio para rellenar los valores NaN\n\nDos estrategias y se probaran ambas para experimentar con cual tenemos mejores resultados."
    },
    {
      "metadata": {
        "trusted": true,
        "_uuid": "ed340a456b4856b3666976e9d748f59893ac2bc9"
      },
      "cell_type": "code",
      "source": "Final1_X_train = Merged_X_train.fillna(np.min(Merged_X_train))\nFinal1_X_test = Merged_data_test.fillna(np.min(Merged_data_test))\n\nFinal2_X_train = Merged_X_train.fillna(np.mean(Merged_X_train))\nFinal2_X_test = Merged_data_test.fillna(np.mean(Merged_data_test))",
      "execution_count": 158,
      "outputs": []
    },
    {
      "metadata": {
        "trusted": true,
        "_uuid": "b1a96ac0d54459e85bc1c301940a961f2c4a565a"
      },
      "cell_type": "code",
      "source": "scaler1 = MinMaxScaler(feature_range=(0,1))\nMerged_X_train = scaler1.fit_transform(Merged_X_train)\nscaler2 = MinMaxScaler(feature_range=(0,1))\nMerged_data_test = scaler2.fit_transform(Merged_data_test)",
      "execution_count": 159,
      "outputs": [
        {
          "output_type": "stream",
          "text": "/opt/conda/lib/python3.6/site-packages/sklearn/preprocessing/data.py:323: DataConversionWarning: Data with input dtype uint8, int64, float64 were all converted to float64 by MinMaxScaler.\n  return self.partial_fit(X, y)\n/opt/conda/lib/python3.6/site-packages/sklearn/preprocessing/data.py:323: DataConversionWarning: Data with input dtype uint8, int64, float64 were all converted to float64 by MinMaxScaler.\n  return self.partial_fit(X, y)\n",
          "name": "stderr"
        }
      ]
    },
    {
      "metadata": {
        "_uuid": "6e23f0d92ed7bc6cb0bfa067c092f47280260a86"
      },
      "cell_type": "markdown",
      "source": "## Prediccion con Gradient Boosting Classifier y Logistic Regression, con los NaN Reemplazados por el minimo."
    },
    {
      "metadata": {
        "trusted": true,
        "_uuid": "89d66f5821a42879312163ded53eb61a4c89ee66"
      },
      "cell_type": "code",
      "source": "Merged_GBC = GradientBoostingClassifier()\nMerged_GBC.fit(Final1_X_train, y)\nMerged_GBC_Results = Merged_GBC.predict_proba(Final1_X_test)",
      "execution_count": 160,
      "outputs": []
    },
    {
      "metadata": {
        "trusted": true,
        "_uuid": "d3e0b9ea5ce967f412639dbd49f0f0b04f5d0abe"
      },
      "cell_type": "code",
      "source": "Final_GBSubmission_min = Final1_X_test[['SK_ID_CURR']]\nFinal_GBSubmission_min['TARGET'] = Merged_GBC_Results[:,1]\nFinal_GBSubmission_min.head()",
      "execution_count": 168,
      "outputs": [
        {
          "output_type": "stream",
          "text": "/opt/conda/lib/python3.6/site-packages/ipykernel_launcher.py:2: SettingWithCopyWarning: \nA value is trying to be set on a copy of a slice from a DataFrame.\nTry using .loc[row_indexer,col_indexer] = value instead\n\nSee the caveats in the documentation: http://pandas.pydata.org/pandas-docs/stable/indexing.html#indexing-view-versus-copy\n  \n",
          "name": "stderr"
        },
        {
          "output_type": "execute_result",
          "execution_count": 168,
          "data": {
            "text/plain": "   SK_ID_CURR    TARGET\n0      100001  0.044384\n1      100005  0.108677\n2      100013  0.024087\n3      100028  0.040260\n4      100038  0.119423",
            "text/html": "<div>\n<style scoped>\n    .dataframe tbody tr th:only-of-type {\n        vertical-align: middle;\n    }\n\n    .dataframe tbody tr th {\n        vertical-align: top;\n    }\n\n    .dataframe thead th {\n        text-align: right;\n    }\n</style>\n<table border=\"1\" class=\"dataframe\">\n  <thead>\n    <tr style=\"text-align: right;\">\n      <th></th>\n      <th>SK_ID_CURR</th>\n      <th>TARGET</th>\n    </tr>\n  </thead>\n  <tbody>\n    <tr>\n      <th>0</th>\n      <td>100001</td>\n      <td>0.044384</td>\n    </tr>\n    <tr>\n      <th>1</th>\n      <td>100005</td>\n      <td>0.108677</td>\n    </tr>\n    <tr>\n      <th>2</th>\n      <td>100013</td>\n      <td>0.024087</td>\n    </tr>\n    <tr>\n      <th>3</th>\n      <td>100028</td>\n      <td>0.040260</td>\n    </tr>\n    <tr>\n      <th>4</th>\n      <td>100038</td>\n      <td>0.119423</td>\n    </tr>\n  </tbody>\n</table>\n</div>"
          },
          "metadata": {}
        }
      ]
    },
    {
      "metadata": {
        "trusted": true,
        "_uuid": "e915eaa9ff01fb5736b8b57985066c8db86932b0"
      },
      "cell_type": "code",
      "source": "Final_GBSubmission_min.to_csv('Final_GB_Submission_min.csv', index=False)",
      "execution_count": 165,
      "outputs": [
        {
          "output_type": "execute_result",
          "execution_count": 165,
          "data": {
            "text/plain": "0    100001\n1    100005\n2    100013\n3    100028\n4    100038\nName: SK_ID_CURR, dtype: object"
          },
          "metadata": {}
        }
      ]
    },
    {
      "metadata": {
        "trusted": true,
        "_uuid": "a55c30623886d5cef24ba1a5a1c30b89d6e2ed3f"
      },
      "cell_type": "code",
      "source": "Merged_LR = LogisticRegression(C=0.1, n_jobs=-1)\nMerged_LR.fit(Final1_X_train, y)\nMerged_LR_Results = Merged_LR.predict_proba(Final1_X_test)",
      "execution_count": 175,
      "outputs": [
        {
          "output_type": "stream",
          "text": "/opt/conda/lib/python3.6/site-packages/sklearn/linear_model/logistic.py:433: FutureWarning: Default solver will be changed to 'lbfgs' in 0.22. Specify a solver to silence this warning.\n  FutureWarning)\n/opt/conda/lib/python3.6/site-packages/sklearn/linear_model/logistic.py:1297: UserWarning: 'n_jobs' > 1 does not have any effect when 'solver' is set to 'liblinear'. Got 'n_jobs' = 4.\n  \" = {}.\".format(effective_n_jobs(self.n_jobs)))\n/opt/conda/lib/python3.6/site-packages/sklearn/svm/base.py:922: ConvergenceWarning: Liblinear failed to converge, increase the number of iterations.\n  \"the number of iterations.\", ConvergenceWarning)\n",
          "name": "stderr"
        }
      ]
    },
    {
      "metadata": {
        "trusted": true,
        "_uuid": "7ab4b3c3af6c0da036012b53a2362c7d9c3e1a4c"
      },
      "cell_type": "code",
      "source": "Final_LRSubmission_min = Final1_X_test[['SK_ID_CURR']]\nFinal_LRSubmission_min['TARGET'] = Merged_LR_Results[:,1]\nFinal_LRSubmission_min.head()",
      "execution_count": 176,
      "outputs": [
        {
          "output_type": "stream",
          "text": "/opt/conda/lib/python3.6/site-packages/ipykernel_launcher.py:2: SettingWithCopyWarning: \nA value is trying to be set on a copy of a slice from a DataFrame.\nTry using .loc[row_indexer,col_indexer] = value instead\n\nSee the caveats in the documentation: http://pandas.pydata.org/pandas-docs/stable/indexing.html#indexing-view-versus-copy\n  \n",
          "name": "stderr"
        },
        {
          "output_type": "execute_result",
          "execution_count": 176,
          "data": {
            "text/plain": "   SK_ID_CURR    TARGET\n0      100001  0.140845\n1      100005  0.166286\n2      100013  0.105827\n3      100028  0.041124\n4      100038  0.102009",
            "text/html": "<div>\n<style scoped>\n    .dataframe tbody tr th:only-of-type {\n        vertical-align: middle;\n    }\n\n    .dataframe tbody tr th {\n        vertical-align: top;\n    }\n\n    .dataframe thead th {\n        text-align: right;\n    }\n</style>\n<table border=\"1\" class=\"dataframe\">\n  <thead>\n    <tr style=\"text-align: right;\">\n      <th></th>\n      <th>SK_ID_CURR</th>\n      <th>TARGET</th>\n    </tr>\n  </thead>\n  <tbody>\n    <tr>\n      <th>0</th>\n      <td>100001</td>\n      <td>0.140845</td>\n    </tr>\n    <tr>\n      <th>1</th>\n      <td>100005</td>\n      <td>0.166286</td>\n    </tr>\n    <tr>\n      <th>2</th>\n      <td>100013</td>\n      <td>0.105827</td>\n    </tr>\n    <tr>\n      <th>3</th>\n      <td>100028</td>\n      <td>0.041124</td>\n    </tr>\n    <tr>\n      <th>4</th>\n      <td>100038</td>\n      <td>0.102009</td>\n    </tr>\n  </tbody>\n</table>\n</div>"
          },
          "metadata": {}
        }
      ]
    },
    {
      "metadata": {
        "trusted": true,
        "_uuid": "09314c7022448cbf041084ef4ad6c7c5d3189eae"
      },
      "cell_type": "code",
      "source": "Final_LRSubmission_min.to_csv('FINAL_LR_Submission_min.csv', index=False)",
      "execution_count": 177,
      "outputs": []
    },
    {
      "metadata": {
        "_uuid": "47108329fa3549dad0216c83dba50b3bc02b59a8"
      },
      "cell_type": "markdown",
      "source": "## Prediccion con Gradient Boosting Classifier y Logistic Regression, con los NaN Reemplazados por el promedio."
    },
    {
      "metadata": {
        "trusted": true,
        "_uuid": "cad34ae8388ce38aa3c0e7d9afc8d99a0a2d344f"
      },
      "cell_type": "code",
      "source": "Merged_GBC2 = GradientBoostingClassifier()\nMerged_GBC2.fit(Final2_X_train, y)\nMerged_GBC2_Results = Merged_GBC2.predict_proba(Final2_X_test)",
      "execution_count": 172,
      "outputs": []
    },
    {
      "metadata": {
        "trusted": true,
        "_uuid": "d194b8adf5289dcba0a90c9bc18784acefe4c3a8"
      },
      "cell_type": "code",
      "source": "Final_GBSubmission_mean = Final2_X_test[['SK_ID_CURR']]\nFinal_GBSubmission_mean['TARGET'] = Merged_GBC2_Results[:,1]\nFinal_GBSubmission_mean.head()",
      "execution_count": 173,
      "outputs": [
        {
          "output_type": "stream",
          "text": "/opt/conda/lib/python3.6/site-packages/ipykernel_launcher.py:2: SettingWithCopyWarning: \nA value is trying to be set on a copy of a slice from a DataFrame.\nTry using .loc[row_indexer,col_indexer] = value instead\n\nSee the caveats in the documentation: http://pandas.pydata.org/pandas-docs/stable/indexing.html#indexing-view-versus-copy\n  \n",
          "name": "stderr"
        },
        {
          "output_type": "execute_result",
          "execution_count": 173,
          "data": {
            "text/plain": "   SK_ID_CURR    TARGET\n0      100001  0.053357\n1      100005  0.113130\n2      100013  0.028833\n3      100028  0.036868\n4      100038  0.116542",
            "text/html": "<div>\n<style scoped>\n    .dataframe tbody tr th:only-of-type {\n        vertical-align: middle;\n    }\n\n    .dataframe tbody tr th {\n        vertical-align: top;\n    }\n\n    .dataframe thead th {\n        text-align: right;\n    }\n</style>\n<table border=\"1\" class=\"dataframe\">\n  <thead>\n    <tr style=\"text-align: right;\">\n      <th></th>\n      <th>SK_ID_CURR</th>\n      <th>TARGET</th>\n    </tr>\n  </thead>\n  <tbody>\n    <tr>\n      <th>0</th>\n      <td>100001</td>\n      <td>0.053357</td>\n    </tr>\n    <tr>\n      <th>1</th>\n      <td>100005</td>\n      <td>0.113130</td>\n    </tr>\n    <tr>\n      <th>2</th>\n      <td>100013</td>\n      <td>0.028833</td>\n    </tr>\n    <tr>\n      <th>3</th>\n      <td>100028</td>\n      <td>0.036868</td>\n    </tr>\n    <tr>\n      <th>4</th>\n      <td>100038</td>\n      <td>0.116542</td>\n    </tr>\n  </tbody>\n</table>\n</div>"
          },
          "metadata": {}
        }
      ]
    },
    {
      "metadata": {
        "trusted": true,
        "_uuid": "5b79bc094444af8f7054383814d5a967e63f0187"
      },
      "cell_type": "code",
      "source": "Final_GBSubmission_mean.to_csv('Final_GB_Submission_mean.csv', index=False)",
      "execution_count": 174,
      "outputs": []
    },
    {
      "metadata": {
        "trusted": true,
        "_uuid": "85832f0e81509345611b6161394f2a3cb576a0ad"
      },
      "cell_type": "code",
      "source": "Merged_LR2 = LogisticRegression(C=0.1, n_jobs=-1)\nMerged_LR2.fit(Final2_X_train, y)\nMerged_LR2_Results = Merged_LR2.predict_proba(Final2_X_test)",
      "execution_count": 178,
      "outputs": [
        {
          "output_type": "stream",
          "text": "/opt/conda/lib/python3.6/site-packages/sklearn/linear_model/logistic.py:433: FutureWarning: Default solver will be changed to 'lbfgs' in 0.22. Specify a solver to silence this warning.\n  FutureWarning)\n/opt/conda/lib/python3.6/site-packages/sklearn/linear_model/logistic.py:1297: UserWarning: 'n_jobs' > 1 does not have any effect when 'solver' is set to 'liblinear'. Got 'n_jobs' = 4.\n  \" = {}.\".format(effective_n_jobs(self.n_jobs)))\n/opt/conda/lib/python3.6/site-packages/sklearn/svm/base.py:922: ConvergenceWarning: Liblinear failed to converge, increase the number of iterations.\n  \"the number of iterations.\", ConvergenceWarning)\n",
          "name": "stderr"
        }
      ]
    },
    {
      "metadata": {
        "trusted": true,
        "_uuid": "5af724716cb50b443eb6113ce56bbedcbaae4c85"
      },
      "cell_type": "code",
      "source": "Final_LRSubmission_mean = Final2_X_test[['SK_ID_CURR']]\nFinal_LRSubmission_mean['TARGET'] = Merged_LR2_Results[:,1]\nFinal_LRSubmission_mean.head()",
      "execution_count": 179,
      "outputs": [
        {
          "output_type": "stream",
          "text": "/opt/conda/lib/python3.6/site-packages/ipykernel_launcher.py:2: SettingWithCopyWarning: \nA value is trying to be set on a copy of a slice from a DataFrame.\nTry using .loc[row_indexer,col_indexer] = value instead\n\nSee the caveats in the documentation: http://pandas.pydata.org/pandas-docs/stable/indexing.html#indexing-view-versus-copy\n  \n",
          "name": "stderr"
        },
        {
          "output_type": "execute_result",
          "execution_count": 179,
          "data": {
            "text/plain": "   SK_ID_CURR    TARGET\n0      100001  0.095127\n1      100005  0.103234\n2      100013  0.083440\n3      100028  0.045713\n4      100038  0.058253",
            "text/html": "<div>\n<style scoped>\n    .dataframe tbody tr th:only-of-type {\n        vertical-align: middle;\n    }\n\n    .dataframe tbody tr th {\n        vertical-align: top;\n    }\n\n    .dataframe thead th {\n        text-align: right;\n    }\n</style>\n<table border=\"1\" class=\"dataframe\">\n  <thead>\n    <tr style=\"text-align: right;\">\n      <th></th>\n      <th>SK_ID_CURR</th>\n      <th>TARGET</th>\n    </tr>\n  </thead>\n  <tbody>\n    <tr>\n      <th>0</th>\n      <td>100001</td>\n      <td>0.095127</td>\n    </tr>\n    <tr>\n      <th>1</th>\n      <td>100005</td>\n      <td>0.103234</td>\n    </tr>\n    <tr>\n      <th>2</th>\n      <td>100013</td>\n      <td>0.083440</td>\n    </tr>\n    <tr>\n      <th>3</th>\n      <td>100028</td>\n      <td>0.045713</td>\n    </tr>\n    <tr>\n      <th>4</th>\n      <td>100038</td>\n      <td>0.058253</td>\n    </tr>\n  </tbody>\n</table>\n</div>"
          },
          "metadata": {}
        }
      ]
    },
    {
      "metadata": {
        "trusted": true,
        "_uuid": "0c6b5c8b81769572497172e4c536a1f1945190ea"
      },
      "cell_type": "code",
      "source": "Final_LRSubmission_mean.to_csv('Final_LR_Submission_mean.csv', index=False)",
      "execution_count": 180,
      "outputs": []
    },
    {
      "metadata": {
        "trusted": true,
        "_uuid": "079e8f43726ecbf7f50d497023ccbc5c3c2dfd51"
      },
      "cell_type": "code",
      "source": "",
      "execution_count": null,
      "outputs": []
    }
  ],
  "metadata": {
    "kernelspec": {
      "display_name": "Python 3",
      "language": "python",
      "name": "python3"
    },
    "language_info": {
      "name": "python",
      "version": "3.6.6",
      "mimetype": "text/x-python",
      "codemirror_mode": {
        "name": "ipython",
        "version": 3
      },
      "pygments_lexer": "ipython3",
      "nbconvert_exporter": "python",
      "file_extension": ".py"
    }
  },
  "nbformat": 4,
  "nbformat_minor": 1
}